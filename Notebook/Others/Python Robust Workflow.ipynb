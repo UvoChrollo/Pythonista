{
 "cells": [
  {
   "cell_type": "code",
   "execution_count": 1,
   "metadata": {},
   "outputs": [],
   "source": [
    "from pprint import pprint\n",
    "from pathlib import Path"
   ]
  },
  {
   "cell_type": "code",
   "execution_count": 7,
   "metadata": {},
   "outputs": [
    {
     "name": "stdout",
     "output_type": "stream",
     "text": [
      "Hello, First Text\n",
      "Holla, First Text\n",
      "Holla, How are u ?\n",
      "Hello, Text 2\n",
      "Holla, Text-sama\n",
      "['Hello, First Text\\nHolla, First Text\\nHolla, How are u ?',\n",
      " 'Hello, Text 2\\nHolla, Text-sama']\n"
     ]
    }
   ],
   "source": [
    "def print_files(filenames):\n",
    "    # Set up the loop iteration instructions\n",
    "    for name in filenames:\n",
    "        # Use pathlib.Path to print out each file\n",
    "        print(Path(name).read_text())\n",
    "        \n",
    "def list_files(filenames):\n",
    "    # Use pathlib.Path to read the contents of each file\n",
    "    return [Path(name).read_text()\n",
    "            # Obtain each name from the list of filenames\n",
    "            for name in filenames]\n",
    "\n",
    "filenames = \"text1.txt\", \"text2.txt\"\n",
    "print_files(filenames)\n",
    "pprint(list_files(filenames))"
   ]
  },
  {
   "cell_type": "code",
   "execution_count": 8,
   "metadata": {},
   "outputs": [
    {
     "name": "stdout",
     "output_type": "stream",
     "text": [
      "[['Holla, First Text\\n', 'Holla, How are u ?'], ['Holla, Text-sama']]\n"
     ]
    }
   ],
   "source": [
    "def get_matches(filename, query):\n",
    "    # Filter the list comprehension using an if clause\n",
    "    return [line for line in Path(filename).open() if query in line]\n",
    "\n",
    "# Iterate over files to find all matching lines\n",
    "matches = [get_matches(name, \"Holla\") for name in filenames]\n",
    "pprint(matches)"
   ]
  },
  {
   "cell_type": "code",
   "execution_count": 4,
   "metadata": {},
   "outputs": [
    {
     "name": "stdout",
     "output_type": "stream",
     "text": [
      "{}\n"
     ]
    }
   ],
   "source": [
    "def flatten(nested_list):\n",
    "    return (item \n",
    "            # Obtain each list from the list of lists\n",
    "            for sublist in nested_list\n",
    "            # Obtain each element from each individual list\n",
    "            for item in sublist)\n",
    "\n",
    "number_generator = (int(substring) for string in flatten(matches)\n",
    "                    for substring in string.split() if substring.isdigit())\n",
    "pprint(dict(zip(filenames, zip(number_generator, number_generator))))"
   ]
  }
 ],
 "metadata": {
  "kernelspec": {
   "display_name": "Python 3",
   "language": "python",
   "name": "python3"
  },
  "language_info": {
   "codemirror_mode": {
    "name": "ipython",
    "version": 3
   },
   "file_extension": ".py",
   "mimetype": "text/x-python",
   "name": "python",
   "nbconvert_exporter": "python",
   "pygments_lexer": "ipython3",
   "version": "3.8.5"
  }
 },
 "nbformat": 4,
 "nbformat_minor": 4
}
