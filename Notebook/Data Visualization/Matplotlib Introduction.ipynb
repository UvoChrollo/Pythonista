{
  "nbformat": 4,
  "nbformat_minor": 0,
  "metadata": {
    "kernelspec": {
      "display_name": "Python 3",
      "language": "python",
      "name": "python3"
    },
    "language_info": {
      "codemirror_mode": {
        "name": "ipython",
        "version": 3
      },
      "file_extension": ".py",
      "mimetype": "text/x-python",
      "name": "python",
      "nbconvert_exporter": "python",
      "pygments_lexer": "ipython3",
      "version": "3.8.5"
    },
    "colab": {
      "name": "Matplotlib Introduction.ipynb",
      "provenance": []
    }
  },
  "cells": [
    {
      "cell_type": "code",
      "metadata": {
        "id": "aHeZjS6EJy_5"
      },
      "source": [
        "import matplotlib.pyplot as plt\n",
        "import pandas as pd"
      ],
      "execution_count": null,
      "outputs": []
    },
    {
      "cell_type": "markdown",
      "metadata": {
        "id": "Y9olhjXAKdcj"
      },
      "source": [
        "### 1 - Part 1"
      ]
    },
    {
      "cell_type": "markdown",
      "metadata": {
        "id": "r1Vb8OJfKjB2"
      },
      "source": [
        "### 2 - Part 2"
      ]
    },
    {
      "cell_type": "markdown",
      "metadata": {
        "id": "Y6Mh-LX6KmvC"
      },
      "source": [
        "### 3 - Part 3"
      ]
    },
    {
      "cell_type": "markdown",
      "metadata": {
        "id": "xoRqs3EiKoHD"
      },
      "source": [
        "### 4 - Part 4"
      ]
    }
  ]
}