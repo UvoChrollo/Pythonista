{
  "nbformat": 4,
  "nbformat_minor": 0,
  "metadata": {
    "kernelspec": {
      "display_name": "Python 3",
      "language": "python",
      "name": "python3"
    },
    "language_info": {
      "codemirror_mode": {
        "name": "ipython",
        "version": 3
      },
      "file_extension": ".py",
      "mimetype": "text/x-python",
      "name": "python",
      "nbconvert_exporter": "python",
      "pygments_lexer": "ipython3",
      "version": "3.8.5"
    },
    "colab": {
      "name": "Matplotlib Introduction.ipynb",
      "provenance": []
    }
  },
  "cells": [
    {
      "cell_type": "code",
      "metadata": {
        "id": "aHeZjS6EJy_5"
      },
      "source": [
        "import matplotlib.pyplot as plt\n",
        "import pandas as pd\n",
        "import warnings\n",
        "warnings.filterwarnings('ignore')"
      ],
      "execution_count": 1,
      "outputs": []
    },
    {
      "cell_type": "markdown",
      "metadata": {
        "id": "Y9olhjXAKdcj"
      },
      "source": [
        "### 1 - Introduction to Matplotlib"
      ]
    },
    {
      "cell_type": "code",
      "metadata": {
        "colab": {
          "base_uri": "https://localhost:8080/",
          "height": 265
        },
        "id": "Z3XicMqvM6Qx",
        "outputId": "0d369e84-9d76-4001-c92c-c82a8f7feffc"
      },
      "source": [
        "x = [1,2,3,4]\n",
        "y = [nilai*2 for nilai in x]\n",
        "\n",
        "plt.plot(x,y)\n",
        "plt.show()"
      ],
      "execution_count": 2,
      "outputs": [
        {
          "output_type": "display_data",
          "data": {
            "image/png": "[encoded data removed]",
            "text/plain": [
              "<Figure size 432x288 with 1 Axes>"
            ]
          },
          "metadata": {
            "needs_background": "light"
          }
        }
      ]
    },
    {
      "cell_type": "markdown",
      "metadata": {
        "id": "r1Vb8OJfKjB2"
      },
      "source": [
        "### 2 - Plotting time-series"
      ]
    },
    {
      "cell_type": "code",
      "metadata": {
        "id": "z33oJb9oM6x8"
      },
      "source": [
        ""
      ],
      "execution_count": null,
      "outputs": []
    },
    {
      "cell_type": "markdown",
      "metadata": {
        "id": "Y6Mh-LX6KmvC"
      },
      "source": [
        "### 3 - Quantitative comparisons and statistical visualizations"
      ]
    },
    {
      "cell_type": "code",
      "metadata": {
        "id": "pbl9NLWTM7cm"
      },
      "source": [
        ""
      ],
      "execution_count": null,
      "outputs": []
    },
    {
      "cell_type": "markdown",
      "metadata": {
        "id": "xoRqs3EiKoHD"
      },
      "source": [
        "### 4 - Sharing visualizations with others"
      ]
    },
    {
      "cell_type": "code",
      "metadata": {
        "id": "tmca3hvhM8Gg"
      },
      "source": [
        ""
      ],
      "execution_count": null,
      "outputs": []
    }
  ]
}