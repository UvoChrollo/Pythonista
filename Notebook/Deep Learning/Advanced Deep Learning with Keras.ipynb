{
  "nbformat": 4,
  "nbformat_minor": 0,
  "metadata": {
    "colab": {
      "name": "Advanced Deep Learning with Keras.ipynb",
      "provenance": [],
      "authorship_tag": "ABX9TyNmXjXJIjpri+ET/kq5UcXd",
      "include_colab_link": true
    },
    "kernelspec": {
      "name": "python3",
      "display_name": "Python 3"
    },
    "language_info": {
      "name": "python"
    }
  },
  "cells": [
    {
      "cell_type": "markdown",
      "metadata": {
        "id": "view-in-github",
        "colab_type": "text"
      },
      "source": [
        "<a href=\"https://colab.research.google.com/github/KelvinMulyawan/Pythonista/blob/main/Notebook/Deep%20Learning/Advanced%20Deep%20Learning%20with%20Keras.ipynb\" target=\"_parent\"><img src=\"https://colab.research.google.com/assets/colab-badge.svg\" alt=\"Open In Colab\"/></a>"
      ]
    },
    {
      "cell_type": "code",
      "metadata": {
        "id": "wwGVk1MClCVx"
      },
      "source": [
        ""
      ],
      "execution_count": null,
      "outputs": []
    },
    {
      "cell_type": "markdown",
      "metadata": {
        "id": "c_GNDtFHlG88"
      },
      "source": [
        "### 1 - The Keras Functional API"
      ]
    },
    {
      "cell_type": "markdown",
      "metadata": {
        "id": "u72NUP4SlKnD"
      },
      "source": [
        "### 2 - Two Input Networks Using Categorical Embeddings, Shared Layers, and Merge Layers"
      ]
    },
    {
      "cell_type": "markdown",
      "metadata": {
        "id": "Ay1qaU2ZlNHI"
      },
      "source": [
        "### 3 - Multiple Inputs: 3 Inputs (and Beyond!)"
      ]
    },
    {
      "cell_type": "markdown",
      "metadata": {
        "id": "LLnfpel8lUXt"
      },
      "source": [
        "### 4 - Multiple Outputs"
      ]
    }
  ]
}