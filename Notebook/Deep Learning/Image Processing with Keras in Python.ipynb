{
  "nbformat": 4,
  "nbformat_minor": 0,
  "metadata": {
    "colab": {
      "name": "Image Processing with Keras in Python.ipynb",
      "provenance": [],
      "authorship_tag": "ABX9TyN3jfdqggsAhNm+JPzszLqC",
      "include_colab_link": true
    },
    "kernelspec": {
      "name": "python3",
      "display_name": "Python 3"
    },
    "language_info": {
      "name": "python"
    }
  },
  "cells": [
    {
      "cell_type": "markdown",
      "metadata": {
        "id": "view-in-github",
        "colab_type": "text"
      },
      "source": [
        "<a href=\"https://colab.research.google.com/github/KelvinMulyawan/Pythonista/blob/main/Notebook/Deep%20Learning/Image%20Processing%20with%20Keras%20in%20Python.ipynb\" target=\"_parent\"><img src=\"https://colab.research.google.com/assets/colab-badge.svg\" alt=\"Open In Colab\"/></a>"
      ]
    },
    {
      "cell_type": "code",
      "metadata": {
        "id": "VyY7xAlv-R9u"
      },
      "source": [
        ""
      ],
      "execution_count": null,
      "outputs": []
    },
    {
      "cell_type": "markdown",
      "metadata": {
        "id": "z3g7lhAN-mMb"
      },
      "source": [
        "## 1 - Image Processing With Neural Networks"
      ]
    },
    {
      "cell_type": "markdown",
      "metadata": {
        "id": "KjTFsL8q-il8"
      },
      "source": [
        "## 2 - Using Convolutions"
      ]
    },
    {
      "cell_type": "markdown",
      "metadata": {
        "id": "swHPzCc4-fR8"
      },
      "source": [
        "## 3 - Going Deeper"
      ]
    },
    {
      "cell_type": "markdown",
      "metadata": {
        "id": "e8gmnz3t-eHZ"
      },
      "source": [
        "## 4 - Understanding and Improving Deep Convolutional Networks"
      ]
    }
  ]
}