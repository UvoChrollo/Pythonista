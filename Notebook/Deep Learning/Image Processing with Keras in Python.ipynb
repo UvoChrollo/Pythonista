{
  "nbformat": 4,
  "nbformat_minor": 0,
  "metadata": {
    "colab": {
      "name": "Image Processing with Keras in Python.ipynb",
      "provenance": [],
      "authorship_tag": "ABX9TyPJysFkhYDxjE2q4DkEPWCz",
      "include_colab_link": true
    },
    "kernelspec": {
      "name": "python3",
      "display_name": "Python 3"
    },
    "language_info": {
      "name": "python"
    }
  },
  "cells": [
    {
      "cell_type": "markdown",
      "metadata": {
        "id": "view-in-github",
        "colab_type": "text"
      },
      "source": [
        "<a href=\"https://colab.research.google.com/github/KelvinMulyawan/Pythonista/blob/main/Notebook/Deep%20Learning/Image%20Processing%20with%20Keras%20in%20Python.ipynb\" target=\"_parent\"><img src=\"https://colab.research.google.com/assets/colab-badge.svg\" alt=\"Open In Colab\"/></a>"
      ]
    },
    {
      "cell_type": "code",
      "metadata": {
        "id": "VyY7xAlv-R9u"
      },
      "source": [
        "import matplotlib.pyplot as plt\n",
        "import numpy as np\n",
        "\n",
        "from tensorflow.keras.utils import to_categorical\n",
        "from keras.datasets import fashion_mnist\n",
        "from sklearn.model_selection import train_test_split\n",
        "from keras.models import Sequential,Input,Model\n",
        "from keras.layers import Dense, Dropout, Flatten\n",
        "from keras.layers import Conv2D, MaxPooling2D\n",
        "from tensorflow.keras.layers import BatchNormalization\n",
        "from keras.layers.advanced_activations import LeakyReLU"
      ],
      "execution_count": 11,
      "outputs": []
    },
    {
      "cell_type": "markdown",
      "metadata": {
        "id": "z3g7lhAN-mMb"
      },
      "source": [
        "## 1 - Image Processing With Neural Networks"
      ]
    },
    {
      "cell_type": "markdown",
      "metadata": {
        "id": "KjTFsL8q-il8"
      },
      "source": [
        "## 2 - Using Convolutions"
      ]
    },
    {
      "cell_type": "markdown",
      "metadata": {
        "id": "swHPzCc4-fR8"
      },
      "source": [
        "## 3 - Going Deeper"
      ]
    },
    {
      "cell_type": "markdown",
      "metadata": {
        "id": "e8gmnz3t-eHZ"
      },
      "source": [
        "## 4 - Understanding and Improving Deep Convolutional Networks"
      ]
    },
    {
      "cell_type": "markdown",
      "metadata": {
        "id": "-pWtsvXLZEIY"
      },
      "source": [
        "## 5 - Lainnya"
      ]
    },
    {
      "cell_type": "code",
      "metadata": {
        "id": "mTUN51ORZHER",
        "outputId": "b528ca28-25ba-4b47-e8d7-7ddd10fea794",
        "colab": {
          "base_uri": "https://localhost:8080/"
        }
      },
      "source": [
        "(train_x,train_y),(test_x,test_y) = fashion_mnist.load_data()"
      ],
      "execution_count": 2,
      "outputs": [
        {
          "output_type": "stream",
          "name": "stdout",
          "text": [
            "Downloading data from https://storage.googleapis.com/tensorflow/tf-keras-datasets/train-labels-idx1-ubyte.gz\n",
            "32768/29515 [=================================] - 0s 0us/step\n",
            "40960/29515 [=========================================] - 0s 0us/step\n",
            "Downloading data from https://storage.googleapis.com/tensorflow/tf-keras-datasets/train-images-idx3-ubyte.gz\n",
            "26427392/26421880 [==============================] - 0s 0us/step\n",
            "26435584/26421880 [==============================] - 0s 0us/step\n",
            "Downloading data from https://storage.googleapis.com/tensorflow/tf-keras-datasets/t10k-labels-idx1-ubyte.gz\n",
            "16384/5148 [===============================================================================================] - 0s 0us/step\n",
            "Downloading data from https://storage.googleapis.com/tensorflow/tf-keras-datasets/t10k-images-idx3-ubyte.gz\n",
            "4423680/4422102 [==============================] - 0s 0us/step\n",
            "4431872/4422102 [==============================] - 0s 0us/step\n"
          ]
        }
      ]
    },
    {
      "cell_type": "code",
      "metadata": {
        "id": "zgJTyEPLZcfu",
        "outputId": "254ea303-13fd-4fd2-9f46-c752ea72b618",
        "colab": {
          "base_uri": "https://localhost:8080/"
        }
      },
      "source": [
        "print(\"Training Data Shape : {}\\nTesting Data Shape : {}\".format(train_x.shape,test_x.shape))\n",
        "print(\"Training Target Shape : {}\\nTesting Target Shape : {}\".format(train_y.shape,test_y.shape))"
      ],
      "execution_count": 6,
      "outputs": [
        {
          "output_type": "stream",
          "name": "stdout",
          "text": [
            "Training Data Shape : (60000, 28, 28)\n",
            "Testing Data Shape : (10000, 28, 28)\n",
            "Training Target Shape : (60000,)\n",
            "Testing Target Shape : (10000,)\n"
          ]
        }
      ]
    }
  ]
}