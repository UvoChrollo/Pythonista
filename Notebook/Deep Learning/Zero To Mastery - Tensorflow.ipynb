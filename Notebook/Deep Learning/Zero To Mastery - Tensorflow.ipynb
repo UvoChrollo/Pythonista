{
  "nbformat": 4,
  "nbformat_minor": 0,
  "metadata": {
    "colab": {
      "name": "Zero To Mastery - Tensorflow.ipynb",
      "provenance": [],
      "authorship_tag": "ABX9TyMKvlOt1RZdY3DL10reRNeV",
      "include_colab_link": true
    },
    "kernelspec": {
      "name": "python3",
      "display_name": "Python 3"
    },
    "language_info": {
      "name": "python"
    }
  },
  "cells": [
    {
      "cell_type": "markdown",
      "metadata": {
        "id": "view-in-github",
        "colab_type": "text"
      },
      "source": [
        "<a href=\"https://colab.research.google.com/github/KelvinMulyawan/Pythonista/blob/main/Notebook/Deep%20Learning/Zero%20To%20Mastery%20-%20Tensorflow.ipynb\" target=\"_parent\"><img src=\"https://colab.research.google.com/assets/colab-badge.svg\" alt=\"Open In Colab\"/></a>"
      ]
    },
    {
      "cell_type": "code",
      "metadata": {
        "id": "t3ReHjTm7qgz"
      },
      "source": [
        "import tensorflow as tf\n",
        "import keras\n",
        "import matplotlib.pyplot as plt\n",
        "import numpy as np\n",
        "import seaborn as sns\n",
        "import pandas as pd"
      ],
      "execution_count": 1,
      "outputs": []
    },
    {
      "cell_type": "markdown",
      "metadata": {
        "id": "xmKQuNeV8Crn"
      },
      "source": [
        "## 1 - Deep Learning and Tensorflow Fundamental"
      ]
    },
    {
      "cell_type": "code",
      "metadata": {
        "id": "oOr8_-_78FDH"
      },
      "source": [
        ""
      ],
      "execution_count": null,
      "outputs": []
    },
    {
      "cell_type": "markdown",
      "metadata": {
        "id": "tgFMDFdo8P9Y"
      },
      "source": [
        "## 2 - Neural Network Regression with Tensorflow"
      ]
    },
    {
      "cell_type": "code",
      "metadata": {
        "id": "mAw6Two18UYG"
      },
      "source": [
        ""
      ],
      "execution_count": null,
      "outputs": []
    },
    {
      "cell_type": "markdown",
      "metadata": {
        "id": "IoSpLiPC8WeA"
      },
      "source": [
        "## 3 - Neural Network Classification with Tensorflow"
      ]
    },
    {
      "cell_type": "code",
      "metadata": {
        "id": "tRJC6B198Vf3"
      },
      "source": [
        ""
      ],
      "execution_count": null,
      "outputs": []
    },
    {
      "cell_type": "markdown",
      "metadata": {
        "id": "_4Awkzfj8fBZ"
      },
      "source": [
        "## 4 - Computer Vision and Convolutional Neural Network Tensorflow"
      ]
    },
    {
      "cell_type": "code",
      "metadata": {
        "id": "8auwmD6T8lVm"
      },
      "source": [
        ""
      ],
      "execution_count": null,
      "outputs": []
    },
    {
      "cell_type": "markdown",
      "metadata": {
        "id": "Rb63cxfA8l4h"
      },
      "source": [
        "## 5 - Transfer Learning in Tensorflow - Feature Extraction"
      ]
    },
    {
      "cell_type": "code",
      "metadata": {
        "id": "seh4pG1P8u6m"
      },
      "source": [
        ""
      ],
      "execution_count": null,
      "outputs": []
    },
    {
      "cell_type": "markdown",
      "metadata": {
        "id": "_hAeVIkc8vmk"
      },
      "source": [
        "## 6 - Transfer Learning in Tensorflow - Fine Tuning"
      ]
    },
    {
      "cell_type": "code",
      "metadata": {
        "id": "iYtjhaEo9fxj"
      },
      "source": [
        ""
      ],
      "execution_count": null,
      "outputs": []
    },
    {
      "cell_type": "markdown",
      "metadata": {
        "id": "sfUbxcNF8yVU"
      },
      "source": [
        "## 7 - Transfer Learning in Tensorflow - Scaling Up"
      ]
    },
    {
      "cell_type": "code",
      "metadata": {
        "id": "9C8tVaSm9gVV"
      },
      "source": [
        ""
      ],
      "execution_count": null,
      "outputs": []
    },
    {
      "cell_type": "markdown",
      "metadata": {
        "id": "wk-thwOF88U_"
      },
      "source": [
        "## 8 - Milestones Project 1 - Food Vision Big"
      ]
    },
    {
      "cell_type": "code",
      "metadata": {
        "id": "JjD5l5Io9gzR"
      },
      "source": [
        ""
      ],
      "execution_count": null,
      "outputs": []
    },
    {
      "cell_type": "markdown",
      "metadata": {
        "id": "di4WC0IH9EDB"
      },
      "source": [
        "## 9 - NLP Fundamental in Tensorflow"
      ]
    },
    {
      "cell_type": "code",
      "metadata": {
        "id": "kwnZ_sdS9iES"
      },
      "source": [
        ""
      ],
      "execution_count": null,
      "outputs": []
    },
    {
      "cell_type": "markdown",
      "metadata": {
        "id": "hD2jNGkV9M8z"
      },
      "source": [
        "## 10 - Milestones Project 2 - SkimLit"
      ]
    },
    {
      "cell_type": "code",
      "metadata": {
        "id": "KR8e6Tyc9jdt"
      },
      "source": [
        ""
      ],
      "execution_count": null,
      "outputs": []
    },
    {
      "cell_type": "markdown",
      "metadata": {
        "id": "Fmn2PucA9SRh"
      },
      "source": [
        "## 11 - Time Series Fundamental in Tensorflow"
      ]
    },
    {
      "cell_type": "code",
      "metadata": {
        "id": "p-hgyI_49imI"
      },
      "source": [
        ""
      ],
      "execution_count": null,
      "outputs": []
    },
    {
      "cell_type": "markdown",
      "metadata": {
        "id": "cZ6_Sm8B9Vw3"
      },
      "source": [
        "## 12 - Milestones Project 3 - BitPredict"
      ]
    },
    {
      "cell_type": "code",
      "metadata": {
        "id": "l0tbCocG9kEM"
      },
      "source": [
        ""
      ],
      "execution_count": null,
      "outputs": []
    }
  ]
}