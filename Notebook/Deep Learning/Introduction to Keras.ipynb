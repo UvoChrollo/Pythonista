{
  "nbformat": 4,
  "nbformat_minor": 0,
  "metadata": {
    "colab": {
      "name": "Introduction to Keras.ipynb",
      "provenance": [],
      "authorship_tag": "ABX9TyNLcST9eHspO1Q14CiuaZY1",
      "include_colab_link": true
    },
    "kernelspec": {
      "name": "python3",
      "display_name": "Python 3"
    },
    "language_info": {
      "name": "python"
    }
  },
  "cells": [
    {
      "cell_type": "markdown",
      "metadata": {
        "id": "view-in-github",
        "colab_type": "text"
      },
      "source": [
        "<a href=\"https://colab.research.google.com/github/KelvinMulyawan/Pythonista/blob/main/Notebook/Deep%20Learning/Introduction%20to%20Keras.ipynb\" target=\"_parent\"><img src=\"https://colab.research.google.com/assets/colab-badge.svg\" alt=\"Open In Colab\"/></a>"
      ]
    },
    {
      "cell_type": "code",
      "metadata": {
        "id": "b2doJP-VjI-H"
      },
      "source": [
        "from keras.layers import Dense\n",
        "from keras.models import Sequential\n",
        "import tensorflow as tf\n",
        "import pandas as pd\n",
        "import matplotlib.pyplot as plt\n",
        "import numpy as np\n",
        "import seaborn as sns\n",
        "from sklearn.model_selection import train_test_split\n",
        "from sklearn.preprocessing import LabelEncoder, StandardScaler\n",
        "from sklearn.metrics import accuracy_score\n",
        "import warnings\n",
        "warnings.filterwarnings('ignore')"
      ],
      "execution_count": 1,
      "outputs": []
    },
    {
      "cell_type": "markdown",
      "metadata": {
        "id": "VWIOXMDzjxPv"
      },
      "source": [
        "### 1 - Introducing Keras"
      ]
    },
    {
      "cell_type": "code",
      "metadata": {
        "id": "4mJAa_z7jz5G"
      },
      "source": [
        ""
      ],
      "execution_count": null,
      "outputs": []
    },
    {
      "cell_type": "markdown",
      "metadata": {
        "id": "TtHkfHiqj05e"
      },
      "source": [
        "### 2 - Going Deeper"
      ]
    },
    {
      "cell_type": "code",
      "metadata": {
        "id": "WCXkJEiFkTe1"
      },
      "source": [
        ""
      ],
      "execution_count": null,
      "outputs": []
    },
    {
      "cell_type": "markdown",
      "metadata": {
        "id": "BsfxkUHlj2WL"
      },
      "source": [
        "### 3 - Improving Your Model Performance"
      ]
    },
    {
      "cell_type": "code",
      "metadata": {
        "id": "v4U3jYEaj5Kz"
      },
      "source": [
        ""
      ],
      "execution_count": null,
      "outputs": []
    },
    {
      "cell_type": "markdown",
      "metadata": {
        "id": "ieCKcSoDj7Pg"
      },
      "source": [
        "### 4 - Advanced Model Architectures"
      ]
    },
    {
      "cell_type": "markdown",
      "metadata": {
        "id": "yrGlvZRDkKfv"
      },
      "source": [
        ""
      ]
    }
  ]
}