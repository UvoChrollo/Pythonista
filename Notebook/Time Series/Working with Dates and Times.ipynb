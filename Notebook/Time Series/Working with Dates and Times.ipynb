{
  "nbformat": 4,
  "nbformat_minor": 0,
  "metadata": {
    "kernelspec": {
      "display_name": "Python 3",
      "language": "python",
      "name": "python3"
    },
    "language_info": {
      "codemirror_mode": {
        "name": "ipython",
        "version": 3
      },
      "file_extension": ".py",
      "mimetype": "text/x-python",
      "name": "python",
      "nbconvert_exporter": "python",
      "pygments_lexer": "ipython3",
      "version": "3.8.5"
    },
    "colab": {
      "name": "Working with Dates and Times.ipynb",
      "provenance": []
    }
  },
  "cells": [
    {
      "cell_type": "code",
      "metadata": {
        "id": "7Vsh1AkYK9mD"
      },
      "source": [
        "from datetime import date"
      ],
      "execution_count": null,
      "outputs": []
    },
    {
      "cell_type": "markdown",
      "metadata": {
        "id": "3cBAp5fUK9mO"
      },
      "source": [
        "### 1 - Dates and Calendars"
      ]
    },
    {
      "cell_type": "code",
      "metadata": {
        "id": "egPHcbj2K9md",
        "outputId": "61028599-7427-4c25-ddfc-e07875a53c62"
      },
      "source": [
        "today = date(2021, 10, 24)\n",
        "print(today)"
      ],
      "execution_count": null,
      "outputs": [
        {
          "name": "stdout",
          "output_type": "stream",
          "text": [
            "2021-10-24\n"
          ]
        }
      ]
    },
    {
      "cell_type": "code",
      "metadata": {
        "id": "2eA6IpCLK9mg",
        "outputId": "a922b3dd-c05a-44c5-988d-34db35b75af9"
      },
      "source": [
        "print(\"Sekarang tanggal : {}\\nBulan : {}\\nTahun : {}\".format(today.day,today.month,today.year))"
      ],
      "execution_count": null,
      "outputs": [
        {
          "name": "stdout",
          "output_type": "stream",
          "text": [
            "Sekarang tanggal : 24\n",
            "Bulan : 10\n",
            "Tahun : 2021\n"
          ]
        }
      ]
    },
    {
      "cell_type": "code",
      "metadata": {
        "id": "vaPglRruK9mi",
        "outputId": "5bbe7480-e048-4164-c50a-9694042288c0"
      },
      "source": [
        "print(\"Today : \",date.today())"
      ],
      "execution_count": null,
      "outputs": [
        {
          "name": "stdout",
          "output_type": "stream",
          "text": [
            "Today :  2021-10-20\n"
          ]
        }
      ]
    },
    {
      "cell_type": "code",
      "metadata": {
        "id": "kcakqwxMK9mj"
      },
      "source": [
        "url = \"https://github.com/KelvinMulyawan/Gudang/blob/master/florida_hurricane_dates.pkl?raw=true\"\n",
        "\n",
        "import pandas as pd\n",
        "\n",
        "hurricane = pd.read_pickle(url)"
      ],
      "execution_count": null,
      "outputs": []
    },
    {
      "cell_type": "code",
      "metadata": {
        "id": "jUwzKDE4K9ml",
        "outputId": "53fd849f-11a9-48d6-8f8b-64d6686a0ac3"
      },
      "source": [
        "hurricane[:5]"
      ],
      "execution_count": null,
      "outputs": [
        {
          "data": {
            "text/plain": [
              "[datetime.date(1988, 8, 4),\n",
              " datetime.date(1990, 10, 12),\n",
              " datetime.date(2003, 4, 20),\n",
              " datetime.date(1971, 9, 1),\n",
              " datetime.date(1988, 8, 23)]"
            ]
          },
          "execution_count": 6,
          "metadata": {},
          "output_type": "execute_result"
        }
      ]
    },
    {
      "cell_type": "code",
      "metadata": {
        "id": "5nFd24zOK9ms",
        "outputId": "37dd9214-6a5d-4e87-984c-4ba7ce45b0d4"
      },
      "source": [
        "early = 0\n",
        "late = 0\n",
        "for hrcne in hurricane:\n",
        "    if hrcne.month < 6:\n",
        "        early += 1\n",
        "    else:\n",
        "        late += 1\n",
        "        \n",
        "print(early)\n",
        "print(late)"
      ],
      "execution_count": null,
      "outputs": [
        {
          "name": "stdout",
          "output_type": "stream",
          "text": [
            "10\n",
            "225\n"
          ]
        }
      ]
    },
    {
      "cell_type": "markdown",
      "metadata": {
        "id": "FV9EmZtsK9mv"
      },
      "source": [
        "#### Math and Dates"
      ]
    },
    {
      "cell_type": "code",
      "metadata": {
        "id": "4agkaZX0K9mx",
        "outputId": "43446143-02d4-49c4-af83-7595258851f9"
      },
      "source": [
        "start = date(2021,10,10)\n",
        "end = date(2021,10,21)\n",
        "\n",
        "days = (end - start).days\n",
        "\n",
        "print(\"Selisih Hari : {}\".format(days))"
      ],
      "execution_count": null,
      "outputs": [
        {
          "name": "stdout",
          "output_type": "stream",
          "text": [
            "Selisih Hari : 11\n"
          ]
        }
      ]
    },
    {
      "cell_type": "code",
      "metadata": {
        "id": "VdsWKKe9K9m0",
        "outputId": "6fc6ed69-e03a-490f-8d05-22f59f122d8e"
      },
      "source": [
        "from collections import defaultdict\n",
        "\n",
        "disaster = defaultdict(int)\n",
        "\n",
        "for date in hurricane:\n",
        "    disaster[date.month] += 1\n",
        "    \n",
        "print(disaster)"
      ],
      "execution_count": null,
      "outputs": [
        {
          "name": "stdout",
          "output_type": "stream",
          "text": [
            "defaultdict(<class 'int'>, {8: 49, 10: 43, 4: 1, 9: 70, 5: 8, 6: 32, 7: 21, 11: 9, 12: 1, 2: 1})\n"
          ]
        }
      ]
    },
    {
      "cell_type": "code",
      "metadata": {
        "id": "GuN-n7OXK9m1",
        "outputId": "39adb0e0-636d-402e-c085-84615eabdef6"
      },
      "source": [
        "first_date = min(hurricane)\n",
        "print(first_date)"
      ],
      "execution_count": null,
      "outputs": [
        {
          "name": "stdout",
          "output_type": "stream",
          "text": [
            "1950-08-31\n"
          ]
        }
      ]
    },
    {
      "cell_type": "code",
      "metadata": {
        "id": "ZtLL742MK9m3",
        "outputId": "c49851bb-949a-4191-9ec6-9c5b41e73529"
      },
      "source": [
        "print(first_date.isoformat())"
      ],
      "execution_count": null,
      "outputs": [
        {
          "name": "stdout",
          "output_type": "stream",
          "text": [
            "1950-08-31\n"
          ]
        }
      ]
    },
    {
      "cell_type": "code",
      "metadata": {
        "id": "xmQ-SwgPK9m_",
        "outputId": "4c7fbd5d-6531-4995-d8c7-bf180128de16"
      },
      "source": [
        "print(first_date.strftime(\"%m/%d/%Y\"))"
      ],
      "execution_count": null,
      "outputs": [
        {
          "name": "stdout",
          "output_type": "stream",
          "text": [
            "08/31/1950\n"
          ]
        }
      ]
    },
    {
      "cell_type": "code",
      "metadata": {
        "id": "Wm7jyX1-K9nB",
        "outputId": "811449ab-8d2b-478e-9729-e3ff71fe085f"
      },
      "source": [
        "print(first_date.strftime(\"%d-%m-%Y\"))"
      ],
      "execution_count": null,
      "outputs": [
        {
          "name": "stdout",
          "output_type": "stream",
          "text": [
            "31-08-1950\n"
          ]
        }
      ]
    },
    {
      "cell_type": "code",
      "metadata": {
        "id": "LtCX7I_bK9nC",
        "outputId": "a246f396-f7a5-4688-c2b9-987b4e685809"
      },
      "source": [
        "print(first_date.strftime(\"%m-%Y\"))"
      ],
      "execution_count": null,
      "outputs": [
        {
          "name": "stdout",
          "output_type": "stream",
          "text": [
            "08-1950\n"
          ]
        }
      ]
    },
    {
      "cell_type": "code",
      "metadata": {
        "id": "tsOGqnntK9nD",
        "outputId": "517156e2-7656-4fc0-9d55-47e441f438b0"
      },
      "source": [
        "print(first_date.strftime(\"%B-%Y\"))"
      ],
      "execution_count": null,
      "outputs": [
        {
          "name": "stdout",
          "output_type": "stream",
          "text": [
            "August-1950\n"
          ]
        }
      ]
    },
    {
      "cell_type": "code",
      "metadata": {
        "id": "iR3dUN0MK9nE",
        "outputId": "eba87c90-aad3-4392-d99d-37304f7f0c98"
      },
      "source": [
        "print(first_date.strftime(\"%A %B\"))"
      ],
      "execution_count": null,
      "outputs": [
        {
          "name": "stdout",
          "output_type": "stream",
          "text": [
            "Thursday August\n"
          ]
        }
      ]
    },
    {
      "cell_type": "markdown",
      "metadata": {
        "id": "dw5aivPzK9nF"
      },
      "source": [
        "### 2 - Combining Dates and Times"
      ]
    },
    {
      "cell_type": "markdown",
      "metadata": {
        "id": "ouHlPMCBK9nG"
      },
      "source": [
        "<p><b>ISO 8601 format</b></p>"
      ]
    },
    {
      "cell_type": "code",
      "metadata": {
        "id": "4ImCEH6vK9nH",
        "outputId": "ad944743-47f5-41b9-87b1-576fe92726c5"
      },
      "source": [
        "from datetime import datetime\n",
        "\n",
        "dt = datetime(2017, 10, 1, 15, 26, 26)\n",
        "\n",
        "print(dt.isoformat())"
      ],
      "execution_count": null,
      "outputs": [
        {
          "name": "stdout",
          "output_type": "stream",
          "text": [
            "2017-10-01T15:26:26\n"
          ]
        }
      ]
    },
    {
      "cell_type": "code",
      "metadata": {
        "id": "YKEmnYHZK9nI",
        "outputId": "56197b9b-3b29-4bfd-aab8-15a9a033d701"
      },
      "source": [
        "dt = dt.replace(year=2021)\n",
        "\n",
        "print(dt.isoformat())"
      ],
      "execution_count": null,
      "outputs": [
        {
          "name": "stdout",
          "output_type": "stream",
          "text": [
            "2021-10-01T15:26:26\n"
          ]
        }
      ]
    },
    {
      "cell_type": "code",
      "metadata": {
        "id": "e0FarXtFK9nS"
      },
      "source": [
        "url = \"https://raw.githubusercontent.com/KelvinMulyawan/Gudang/master/capital-onebike.csv\"\n",
        "\n",
        "capital = pd.read_csv(url)"
      ],
      "execution_count": null,
      "outputs": []
    },
    {
      "cell_type": "code",
      "metadata": {
        "id": "PNzmErKGK9nW",
        "outputId": "3f92a891-57d7-4d70-e6eb-25a05bef6e32"
      },
      "source": [
        "capital.head()"
      ],
      "execution_count": null,
      "outputs": [
        {
          "data": {
            "text/html": [
              "<div>\n",
              "<style scoped>\n",
              "    .dataframe tbody tr th:only-of-type {\n",
              "        vertical-align: middle;\n",
              "    }\n",
              "\n",
              "    .dataframe tbody tr th {\n",
              "        vertical-align: top;\n",
              "    }\n",
              "\n",
              "    .dataframe thead th {\n",
              "        text-align: right;\n",
              "    }\n",
              "</style>\n",
              "<table border=\"1\" class=\"dataframe\">\n",
              "  <thead>\n",
              "    <tr style=\"text-align: right;\">\n",
              "      <th></th>\n",
              "      <th>Start date</th>\n",
              "      <th>End date</th>\n",
              "      <th>Start station number</th>\n",
              "      <th>Start station</th>\n",
              "      <th>End station number</th>\n",
              "      <th>End station</th>\n",
              "      <th>Bike number</th>\n",
              "      <th>Member type</th>\n",
              "    </tr>\n",
              "  </thead>\n",
              "  <tbody>\n",
              "    <tr>\n",
              "      <th>0</th>\n",
              "      <td>2017-10-01 15:23:25</td>\n",
              "      <td>2017-10-01 15:26:26</td>\n",
              "      <td>31038</td>\n",
              "      <td>Glebe Rd &amp; 11th St N</td>\n",
              "      <td>31036</td>\n",
              "      <td>George Mason Dr &amp; Wilson Blvd</td>\n",
              "      <td>W20529</td>\n",
              "      <td>Member</td>\n",
              "    </tr>\n",
              "    <tr>\n",
              "      <th>1</th>\n",
              "      <td>2017-10-01 15:42:57</td>\n",
              "      <td>2017-10-01 17:49:59</td>\n",
              "      <td>31036</td>\n",
              "      <td>George Mason Dr &amp; Wilson Blvd</td>\n",
              "      <td>31036</td>\n",
              "      <td>George Mason Dr &amp; Wilson Blvd</td>\n",
              "      <td>W20529</td>\n",
              "      <td>Casual</td>\n",
              "    </tr>\n",
              "    <tr>\n",
              "      <th>2</th>\n",
              "      <td>2017-10-02 06:37:10</td>\n",
              "      <td>2017-10-02 06:42:53</td>\n",
              "      <td>31036</td>\n",
              "      <td>George Mason Dr &amp; Wilson Blvd</td>\n",
              "      <td>31037</td>\n",
              "      <td>Ballston Metro / N Stuart &amp; 9th St N</td>\n",
              "      <td>W20529</td>\n",
              "      <td>Member</td>\n",
              "    </tr>\n",
              "    <tr>\n",
              "      <th>3</th>\n",
              "      <td>2017-10-02 08:56:45</td>\n",
              "      <td>2017-10-02 09:18:03</td>\n",
              "      <td>31037</td>\n",
              "      <td>Ballston Metro / N Stuart &amp; 9th St N</td>\n",
              "      <td>31295</td>\n",
              "      <td>Potomac &amp; M St NW</td>\n",
              "      <td>W20529</td>\n",
              "      <td>Member</td>\n",
              "    </tr>\n",
              "    <tr>\n",
              "      <th>4</th>\n",
              "      <td>2017-10-02 18:23:48</td>\n",
              "      <td>2017-10-02 18:45:05</td>\n",
              "      <td>31295</td>\n",
              "      <td>Potomac &amp; M St NW</td>\n",
              "      <td>31230</td>\n",
              "      <td>Metro Center / 12th &amp; G St NW</td>\n",
              "      <td>W20529</td>\n",
              "      <td>Member</td>\n",
              "    </tr>\n",
              "  </tbody>\n",
              "</table>\n",
              "</div>"
            ],
            "text/plain": [
              "            Start date             End date  Start station number  \\\n",
              "0  2017-10-01 15:23:25  2017-10-01 15:26:26                 31038   \n",
              "1  2017-10-01 15:42:57  2017-10-01 17:49:59                 31036   \n",
              "2  2017-10-02 06:37:10  2017-10-02 06:42:53                 31036   \n",
              "3  2017-10-02 08:56:45  2017-10-02 09:18:03                 31037   \n",
              "4  2017-10-02 18:23:48  2017-10-02 18:45:05                 31295   \n",
              "\n",
              "                          Start station  End station number  \\\n",
              "0                  Glebe Rd & 11th St N               31036   \n",
              "1         George Mason Dr & Wilson Blvd               31036   \n",
              "2         George Mason Dr & Wilson Blvd               31037   \n",
              "3  Ballston Metro / N Stuart & 9th St N               31295   \n",
              "4                     Potomac & M St NW               31230   \n",
              "\n",
              "                            End station Bike number Member type  \n",
              "0         George Mason Dr & Wilson Blvd      W20529      Member  \n",
              "1         George Mason Dr & Wilson Blvd      W20529      Casual  \n",
              "2  Ballston Metro / N Stuart & 9th St N      W20529      Member  \n",
              "3                     Potomac & M St NW      W20529      Member  \n",
              "4         Metro Center / 12th & G St NW      W20529      Member  "
            ]
          },
          "execution_count": 20,
          "metadata": {},
          "output_type": "execute_result"
        }
      ]
    },
    {
      "cell_type": "code",
      "metadata": {
        "id": "Rf712AlmK9nX",
        "outputId": "6fd20cd8-671b-4a51-aa58-0476cc716b06"
      },
      "source": [
        "print(capital['Start date'].dtype)\n",
        "print(capital['End date'].dtype)"
      ],
      "execution_count": null,
      "outputs": [
        {
          "name": "stdout",
          "output_type": "stream",
          "text": [
            "object\n",
            "object\n"
          ]
        }
      ]
    },
    {
      "cell_type": "code",
      "metadata": {
        "id": "KgQyQrsVK9nY"
      },
      "source": [
        "capital['Start date'] = pd.to_datetime(capital['Start date'])\n",
        "capital['End date'] = pd.to_datetime(capital['End date'])"
      ],
      "execution_count": null,
      "outputs": []
    },
    {
      "cell_type": "code",
      "metadata": {
        "id": "eNuHK-KLK9nk",
        "outputId": "e1ed9bd2-1a57-4dbc-a941-ccf769f293a7"
      },
      "source": [
        "print(capital['Start date'].dtype)\n",
        "print(capital['End date'].dtype)"
      ],
      "execution_count": null,
      "outputs": [
        {
          "name": "stdout",
          "output_type": "stream",
          "text": [
            "datetime64[ns]\n",
            "datetime64[ns]\n"
          ]
        }
      ]
    },
    {
      "cell_type": "code",
      "metadata": {
        "id": "iwhUzfaIK9nl",
        "outputId": "bc84efdb-fc44-472d-ad8d-e0f3f4a257ee"
      },
      "source": [
        "for cap in capital['Start date'].head(2):\n",
        "    print(cap.month)"
      ],
      "execution_count": null,
      "outputs": [
        {
          "name": "stdout",
          "output_type": "stream",
          "text": [
            "10\n",
            "10\n"
          ]
        }
      ]
    },
    {
      "cell_type": "code",
      "metadata": {
        "id": "fSZi59D4K9nl",
        "outputId": "ce17975e-7059-49f0-d7b6-7e81d88a3f83"
      },
      "source": [
        "trip = {'AM':0,'PM':0}\n",
        "\n",
        "for time in capital['Start date']:\n",
        "    if time.hour < 12:\n",
        "        trip['AM'] += 1\n",
        "    else:\n",
        "        trip['PM'] += 1\n",
        "        \n",
        "print(trip)"
      ],
      "execution_count": null,
      "outputs": [
        {
          "name": "stdout",
          "output_type": "stream",
          "text": [
            "{'AM': 94, 'PM': 196}\n"
          ]
        }
      ]
    },
    {
      "cell_type": "code",
      "metadata": {
        "id": "ekxH3GgMK9nm",
        "outputId": "dd81fd3d-2800-44bd-8890-9b18b854ba62"
      },
      "source": [
        "from datetime import datetime\n",
        "\n",
        "s = '2017-02-03 00:00:01'\n",
        "\n",
        "fmt = '%Y-%m-%d %H:%M:%S'\n",
        "\n",
        "d = datetime.strptime(s, fmt)\n",
        "\n",
        "print(d)"
      ],
      "execution_count": null,
      "outputs": [
        {
          "name": "stdout",
          "output_type": "stream",
          "text": [
            "2017-02-03 00:00:01\n"
          ]
        }
      ]
    },
    {
      "cell_type": "code",
      "metadata": {
        "id": "YMbZZBM4K9nn",
        "outputId": "49bbbdb3-8ff5-4c40-e36c-628d1e2cd6cd"
      },
      "source": [
        "print(type(d))"
      ],
      "execution_count": null,
      "outputs": [
        {
          "name": "stdout",
          "output_type": "stream",
          "text": [
            "<class 'datetime.datetime'>\n"
          ]
        }
      ]
    },
    {
      "cell_type": "code",
      "metadata": {
        "id": "U1gi2paXK9no",
        "outputId": "2128fa6d-1bb1-4386-9179-8c15227da206"
      },
      "source": [
        "from datetime import datetime\n",
        "\n",
        "s = '2030-10-15'\n",
        "\n",
        "fmt = '%Y-%m-%d'\n",
        "\n",
        "d = datetime.strptime(s, fmt)\n",
        "\n",
        "print(d)"
      ],
      "execution_count": null,
      "outputs": [
        {
          "name": "stdout",
          "output_type": "stream",
          "text": [
            "2030-10-15 00:00:00\n"
          ]
        }
      ]
    },
    {
      "cell_type": "code",
      "metadata": {
        "id": "bUQifrtCK9no",
        "outputId": "5dac44bd-2bde-4685-8bf5-c2b92111e6a0"
      },
      "source": [
        "s = '12/15/1986 08:00:00'\n",
        "\n",
        "fmt = '%m/%d/%Y %H:%M:%S'\n",
        "\n",
        "d = datetime.strptime(s, fmt)\n",
        "\n",
        "print(d)"
      ],
      "execution_count": null,
      "outputs": [
        {
          "name": "stdout",
          "output_type": "stream",
          "text": [
            "1986-12-15 08:00:00\n"
          ]
        }
      ]
    },
    {
      "cell_type": "code",
      "metadata": {
        "id": "HkeKTyRWK9np",
        "outputId": "bc1f7c97-c9d9-45ae-9a82-cb3ae074de59"
      },
      "source": [
        "s = \"19/10/2021\"\n",
        "\n",
        "fmt = \"%d/%B/%Y\"\n",
        "\n",
        "try:\n",
        "    print(datetime.strptime(s,fmt))\n",
        "except:\n",
        "    print(\"Format harus sesuai s\")"
      ],
      "execution_count": null,
      "outputs": [
        {
          "name": "stdout",
          "output_type": "stream",
          "text": [
            "Format harus sesuai s\n"
          ]
        }
      ]
    },
    {
      "cell_type": "code",
      "metadata": {
        "id": "pIDI0iDuK9nu",
        "outputId": "9457bb0d-433c-489c-9b6b-671f65e290a7"
      },
      "source": [
        "capital.head()"
      ],
      "execution_count": null,
      "outputs": [
        {
          "data": {
            "text/html": [
              "<div>\n",
              "<style scoped>\n",
              "    .dataframe tbody tr th:only-of-type {\n",
              "        vertical-align: middle;\n",
              "    }\n",
              "\n",
              "    .dataframe tbody tr th {\n",
              "        vertical-align: top;\n",
              "    }\n",
              "\n",
              "    .dataframe thead th {\n",
              "        text-align: right;\n",
              "    }\n",
              "</style>\n",
              "<table border=\"1\" class=\"dataframe\">\n",
              "  <thead>\n",
              "    <tr style=\"text-align: right;\">\n",
              "      <th></th>\n",
              "      <th>Start date</th>\n",
              "      <th>End date</th>\n",
              "      <th>Start station number</th>\n",
              "      <th>Start station</th>\n",
              "      <th>End station number</th>\n",
              "      <th>End station</th>\n",
              "      <th>Bike number</th>\n",
              "      <th>Member type</th>\n",
              "    </tr>\n",
              "  </thead>\n",
              "  <tbody>\n",
              "    <tr>\n",
              "      <th>0</th>\n",
              "      <td>2017-10-01 15:23:25</td>\n",
              "      <td>2017-10-01 15:26:26</td>\n",
              "      <td>31038</td>\n",
              "      <td>Glebe Rd &amp; 11th St N</td>\n",
              "      <td>31036</td>\n",
              "      <td>George Mason Dr &amp; Wilson Blvd</td>\n",
              "      <td>W20529</td>\n",
              "      <td>Member</td>\n",
              "    </tr>\n",
              "    <tr>\n",
              "      <th>1</th>\n",
              "      <td>2017-10-01 15:42:57</td>\n",
              "      <td>2017-10-01 17:49:59</td>\n",
              "      <td>31036</td>\n",
              "      <td>George Mason Dr &amp; Wilson Blvd</td>\n",
              "      <td>31036</td>\n",
              "      <td>George Mason Dr &amp; Wilson Blvd</td>\n",
              "      <td>W20529</td>\n",
              "      <td>Casual</td>\n",
              "    </tr>\n",
              "    <tr>\n",
              "      <th>2</th>\n",
              "      <td>2017-10-02 06:37:10</td>\n",
              "      <td>2017-10-02 06:42:53</td>\n",
              "      <td>31036</td>\n",
              "      <td>George Mason Dr &amp; Wilson Blvd</td>\n",
              "      <td>31037</td>\n",
              "      <td>Ballston Metro / N Stuart &amp; 9th St N</td>\n",
              "      <td>W20529</td>\n",
              "      <td>Member</td>\n",
              "    </tr>\n",
              "    <tr>\n",
              "      <th>3</th>\n",
              "      <td>2017-10-02 08:56:45</td>\n",
              "      <td>2017-10-02 09:18:03</td>\n",
              "      <td>31037</td>\n",
              "      <td>Ballston Metro / N Stuart &amp; 9th St N</td>\n",
              "      <td>31295</td>\n",
              "      <td>Potomac &amp; M St NW</td>\n",
              "      <td>W20529</td>\n",
              "      <td>Member</td>\n",
              "    </tr>\n",
              "    <tr>\n",
              "      <th>4</th>\n",
              "      <td>2017-10-02 18:23:48</td>\n",
              "      <td>2017-10-02 18:45:05</td>\n",
              "      <td>31295</td>\n",
              "      <td>Potomac &amp; M St NW</td>\n",
              "      <td>31230</td>\n",
              "      <td>Metro Center / 12th &amp; G St NW</td>\n",
              "      <td>W20529</td>\n",
              "      <td>Member</td>\n",
              "    </tr>\n",
              "  </tbody>\n",
              "</table>\n",
              "</div>"
            ],
            "text/plain": [
              "           Start date            End date  Start station number  \\\n",
              "0 2017-10-01 15:23:25 2017-10-01 15:26:26                 31038   \n",
              "1 2017-10-01 15:42:57 2017-10-01 17:49:59                 31036   \n",
              "2 2017-10-02 06:37:10 2017-10-02 06:42:53                 31036   \n",
              "3 2017-10-02 08:56:45 2017-10-02 09:18:03                 31037   \n",
              "4 2017-10-02 18:23:48 2017-10-02 18:45:05                 31295   \n",
              "\n",
              "                          Start station  End station number  \\\n",
              "0                  Glebe Rd & 11th St N               31036   \n",
              "1         George Mason Dr & Wilson Blvd               31036   \n",
              "2         George Mason Dr & Wilson Blvd               31037   \n",
              "3  Ballston Metro / N Stuart & 9th St N               31295   \n",
              "4                     Potomac & M St NW               31230   \n",
              "\n",
              "                            End station Bike number Member type  \n",
              "0         George Mason Dr & Wilson Blvd      W20529      Member  \n",
              "1         George Mason Dr & Wilson Blvd      W20529      Casual  \n",
              "2  Ballston Metro / N Stuart & 9th St N      W20529      Member  \n",
              "3                     Potomac & M St NW      W20529      Member  \n",
              "4         Metro Center / 12th & G St NW      W20529      Member  "
            ]
          },
          "execution_count": 31,
          "metadata": {},
          "output_type": "execute_result"
        }
      ]
    },
    {
      "cell_type": "code",
      "metadata": {
        "id": "JDrqSx9OK9nv",
        "outputId": "9ac2ac4c-bacb-4918-ca13-edc5e5f72735"
      },
      "source": [
        "capital['Start date'].iloc[0]"
      ],
      "execution_count": null,
      "outputs": [
        {
          "data": {
            "text/plain": [
              "Timestamp('2017-10-01 15:23:25')"
            ]
          },
          "execution_count": 32,
          "metadata": {},
          "output_type": "execute_result"
        }
      ]
    },
    {
      "cell_type": "code",
      "metadata": {
        "id": "i-W53jjKK9nz",
        "outputId": "4605fa43-b952-442d-8a54-f27c33a6aa09"
      },
      "source": [
        "s = capital['Start date'].iloc[0]\n",
        "\n",
        "fmt = '%Y-%m-%dT%H:%M:%S'\n",
        "\n",
        "print(s.isoformat())"
      ],
      "execution_count": null,
      "outputs": [
        {
          "name": "stdout",
          "output_type": "stream",
          "text": [
            "2017-10-01T15:23:25\n"
          ]
        }
      ]
    },
    {
      "cell_type": "code",
      "metadata": {
        "id": "1--M7VMGK9n1",
        "outputId": "dee6b2a6-78fa-4f90-8d49-2225d18811a6"
      },
      "source": [
        "print(s.strftime(fmt))"
      ],
      "execution_count": null,
      "outputs": [
        {
          "name": "stdout",
          "output_type": "stream",
          "text": [
            "2017-10-01T15:23:25\n"
          ]
        }
      ]
    },
    {
      "cell_type": "markdown",
      "metadata": {
        "id": "ddb8C51CK9n2"
      },
      "source": [
        "#### Timestamp"
      ]
    },
    {
      "cell_type": "code",
      "metadata": {
        "id": "GGiRn258K9n2",
        "outputId": "9b421131-a97a-435f-9a7e-9e171d73c931"
      },
      "source": [
        "from datetime import datetime\n",
        "\n",
        "timestamps = [1514665153, 1514664543]\n",
        "\n",
        "dts = []\n",
        "\n",
        "for ts in timestamps:\n",
        "    dts.append(datetime.fromtimestamp(ts))\n",
        "\n",
        "print(dts)"
      ],
      "execution_count": null,
      "outputs": [
        {
          "name": "stdout",
          "output_type": "stream",
          "text": [
            "[datetime.datetime(2017, 12, 31, 3, 19, 13), datetime.datetime(2017, 12, 31, 3, 9, 3)]\n"
          ]
        }
      ]
    },
    {
      "cell_type": "code",
      "metadata": {
        "id": "XL8VvgBaK9n3",
        "outputId": "c9b8c549-a910-48f5-9ba8-cbe901f37997"
      },
      "source": [
        "for start, end in zip(capital['Start date'].head(5), capital['End date'].head(5)):\n",
        "    print(end - start)"
      ],
      "execution_count": null,
      "outputs": [
        {
          "name": "stdout",
          "output_type": "stream",
          "text": [
            "0 days 00:03:01\n",
            "0 days 02:07:02\n",
            "0 days 00:05:43\n",
            "0 days 00:21:18\n",
            "0 days 00:21:17\n"
          ]
        }
      ]
    },
    {
      "cell_type": "code",
      "metadata": {
        "id": "o4fovoe0K9n3"
      },
      "source": [
        "duration = []\n",
        "\n",
        "for start, end in zip(capital['Start date'], capital['End date']):\n",
        "    duration.append((end - start).total_seconds())"
      ],
      "execution_count": null,
      "outputs": []
    },
    {
      "cell_type": "code",
      "metadata": {
        "id": "HsdY-Q2CK9n4",
        "outputId": "2d0c7d8e-c330-43bb-d775-d8cccb99d89f"
      },
      "source": [
        "average_duration = sum(duration) / len(duration)\n",
        "print(average_duration) # dalam detik\n",
        "print(average_duration / 60) # dalam menit\n",
        "print(average_duration / 3600) # dalam jam"
      ],
      "execution_count": null,
      "outputs": [
        {
          "name": "stdout",
          "output_type": "stream",
          "text": [
            "1178.9310344827586\n",
            "19.648850574712643\n",
            "0.3274808429118774\n"
          ]
        }
      ]
    },
    {
      "cell_type": "markdown",
      "metadata": {
        "id": "qEM7gmG2K9n5"
      },
      "source": [
        "0.25 = 15 menit<br>\n",
        "0.5 = 30 menit<br>\n",
        "0.75 = 45 menit<br>\n",
        "1 = 60 menit<br>"
      ]
    },
    {
      "cell_type": "code",
      "metadata": {
        "id": "wDZkWw8bK9n8",
        "outputId": "fa9dd92c-b717-4e95-af66-fec829949d5e"
      },
      "source": [
        "longest, shortest = max(duration), min(duration)\n",
        "\n",
        "longest_data, shortest_data = duration.index(longest), duration.index(shortest)\n",
        "\n",
        "print(longest)\n",
        "print(shortest)"
      ],
      "execution_count": null,
      "outputs": [
        {
          "name": "stdout",
          "output_type": "stream",
          "text": [
            "76913.0\n",
            "-3346.0\n"
          ]
        }
      ]
    },
    {
      "cell_type": "code",
      "metadata": {
        "id": "mvDPuJFRK9n_",
        "outputId": "2ca772a2-c5b2-46b6-8310-abf6062555e6"
      },
      "source": [
        "capital.iloc[[longest_data]]"
      ],
      "execution_count": null,
      "outputs": [
        {
          "data": {
            "text/html": [
              "<div>\n",
              "<style scoped>\n",
              "    .dataframe tbody tr th:only-of-type {\n",
              "        vertical-align: middle;\n",
              "    }\n",
              "\n",
              "    .dataframe tbody tr th {\n",
              "        vertical-align: top;\n",
              "    }\n",
              "\n",
              "    .dataframe thead th {\n",
              "        text-align: right;\n",
              "    }\n",
              "</style>\n",
              "<table border=\"1\" class=\"dataframe\">\n",
              "  <thead>\n",
              "    <tr style=\"text-align: right;\">\n",
              "      <th></th>\n",
              "      <th>Start date</th>\n",
              "      <th>End date</th>\n",
              "      <th>Start station number</th>\n",
              "      <th>Start station</th>\n",
              "      <th>End station number</th>\n",
              "      <th>End station</th>\n",
              "      <th>Bike number</th>\n",
              "      <th>Member type</th>\n",
              "    </tr>\n",
              "  </thead>\n",
              "  <tbody>\n",
              "    <tr>\n",
              "      <th>86</th>\n",
              "      <td>2017-10-21 13:47:43</td>\n",
              "      <td>2017-10-22 11:09:36</td>\n",
              "      <td>31616</td>\n",
              "      <td>3rd &amp; H St NE</td>\n",
              "      <td>31607</td>\n",
              "      <td>14th &amp; D St SE</td>\n",
              "      <td>W20529</td>\n",
              "      <td>Member</td>\n",
              "    </tr>\n",
              "  </tbody>\n",
              "</table>\n",
              "</div>"
            ],
            "text/plain": [
              "            Start date            End date  Start station number  \\\n",
              "86 2017-10-21 13:47:43 2017-10-22 11:09:36                 31616   \n",
              "\n",
              "    Start station  End station number     End station Bike number Member type  \n",
              "86  3rd & H St NE               31607  14th & D St SE      W20529      Member  "
            ]
          },
          "execution_count": 40,
          "metadata": {},
          "output_type": "execute_result"
        }
      ]
    },
    {
      "cell_type": "code",
      "metadata": {
        "id": "r9gW7AbXK9oA",
        "outputId": "06caf067-1b55-4c46-8899-054af9008b11"
      },
      "source": [
        "capital.iloc[[shortest_data]]"
      ],
      "execution_count": null,
      "outputs": [
        {
          "data": {
            "text/html": [
              "<div>\n",
              "<style scoped>\n",
              "    .dataframe tbody tr th:only-of-type {\n",
              "        vertical-align: middle;\n",
              "    }\n",
              "\n",
              "    .dataframe tbody tr th {\n",
              "        vertical-align: top;\n",
              "    }\n",
              "\n",
              "    .dataframe thead th {\n",
              "        text-align: right;\n",
              "    }\n",
              "</style>\n",
              "<table border=\"1\" class=\"dataframe\">\n",
              "  <thead>\n",
              "    <tr style=\"text-align: right;\">\n",
              "      <th></th>\n",
              "      <th>Start date</th>\n",
              "      <th>End date</th>\n",
              "      <th>Start station number</th>\n",
              "      <th>Start station</th>\n",
              "      <th>End station number</th>\n",
              "      <th>End station</th>\n",
              "      <th>Bike number</th>\n",
              "      <th>Member type</th>\n",
              "    </tr>\n",
              "  </thead>\n",
              "  <tbody>\n",
              "    <tr>\n",
              "      <th>129</th>\n",
              "      <td>2017-11-05 01:56:50</td>\n",
              "      <td>2017-11-05 01:01:04</td>\n",
              "      <td>31615</td>\n",
              "      <td>6th &amp; H St NE</td>\n",
              "      <td>31627</td>\n",
              "      <td>3rd &amp; M St NE</td>\n",
              "      <td>W20529</td>\n",
              "      <td>Member</td>\n",
              "    </tr>\n",
              "  </tbody>\n",
              "</table>\n",
              "</div>"
            ],
            "text/plain": [
              "             Start date            End date  Start station number  \\\n",
              "129 2017-11-05 01:56:50 2017-11-05 01:01:04                 31615   \n",
              "\n",
              "     Start station  End station number    End station Bike number Member type  \n",
              "129  6th & H St NE               31627  3rd & M St NE      W20529      Member  "
            ]
          },
          "execution_count": 41,
          "metadata": {},
          "output_type": "execute_result"
        }
      ]
    },
    {
      "cell_type": "markdown",
      "metadata": {
        "id": "t118wU8zK9oB"
      },
      "source": [
        "### 3 - Time Zones and Daylight Saving"
      ]
    },
    {
      "cell_type": "code",
      "metadata": {
        "id": "hQ8BN9esK9oB",
        "outputId": "78378f85-b49d-4506-c246-eb3104abd3d4"
      },
      "source": [
        "from datetime import datetime, timezone\n",
        "\n",
        "dt = datetime(2021, 10, 21, 15, 26, 26, tzinfo=timezone.utc)\n",
        "\n",
        "print(dt.isoformat())"
      ],
      "execution_count": null,
      "outputs": [
        {
          "name": "stdout",
          "output_type": "stream",
          "text": [
            "2017-10-01T15:26:26+00:00\n"
          ]
        }
      ]
    },
    {
      "cell_type": "code",
      "metadata": {
        "id": "VOVz0jQ8K9oC",
        "outputId": "1fc6e5f0-7d56-46b9-c821-ec9d5acaedfd"
      },
      "source": [
        "# Create a timezone for Pacific Standard Time, or UTC-8\n",
        "\n",
        "from datetime import timedelta\n",
        "\n",
        "pst = timezone(timedelta(hours=-8))\n",
        "\n",
        "dt = datetime(2021, 10, 21, 15, 26, 26, tzinfo=pst)\n",
        "\n",
        "print(dt.isoformat())"
      ],
      "execution_count": null,
      "outputs": [
        {
          "name": "stdout",
          "output_type": "stream",
          "text": [
            "2017-10-01T15:26:26-08:00\n"
          ]
        }
      ]
    },
    {
      "cell_type": "code",
      "metadata": {
        "id": "LkjFq3tSK9oC",
        "outputId": "65b3a9d4-37de-4c18-c952-4cf262d902d2"
      },
      "source": [
        "# Create a timezone for Australian Eastern Daylight Time, or UTC+11\n",
        "\n",
        "aedt = timezone(timedelta(hours=11))\n",
        "\n",
        "dt = datetime(2021, 10, 21, 15, 26, 26, tzinfo=aedt)\n",
        "\n",
        "print(dt.isoformat())"
      ],
      "execution_count": null,
      "outputs": [
        {
          "name": "stdout",
          "output_type": "stream",
          "text": [
            "2017-10-01T15:26:26+11:00\n"
          ]
        }
      ]
    },
    {
      "cell_type": "code",
      "metadata": {
        "colab": {
          "base_uri": "https://localhost:8080/"
        },
        "id": "-edOaCsbfPXQ",
        "outputId": "2d467ea7-26dc-4060-c318-bd9b0be150fd"
      },
      "source": [
        "from datetime import date, datetime, timezone, timedelta\n",
        "\n",
        "today = date.today()\n",
        "print(today)"
      ],
      "execution_count": null,
      "outputs": [
        {
          "output_type": "stream",
          "name": "stdout",
          "text": [
            "2021-10-21\n"
          ]
        }
      ]
    },
    {
      "cell_type": "code",
      "metadata": {
        "colab": {
          "base_uri": "https://localhost:8080/"
        },
        "id": "_TPnvw6Wfype",
        "outputId": "399d5628-8ff0-4b1f-8da0-13a755cfcf61"
      },
      "source": [
        "today_date_time = datetime.now()\n",
        "print(today_date_time)"
      ],
      "execution_count": null,
      "outputs": [
        {
          "output_type": "stream",
          "name": "stdout",
          "text": [
            "2021-10-21 10:57:13.045171\n"
          ]
        }
      ]
    },
    {
      "cell_type": "code",
      "metadata": {
        "colab": {
          "base_uri": "https://localhost:8080/"
        },
        "id": "SF5RsAyme1nn",
        "outputId": "fc835df4-077d-4cf8-fa22-aa63905a1160"
      },
      "source": [
        "# Create a timezone for Waktu Indonesia Barat, WIB or UTC+7\n",
        "\n",
        "wib = timezone(timedelta(hours=7))\n",
        "\n",
        "barat = today_date_time.replace(tzinfo=wib)\n",
        "print(barat)"
      ],
      "execution_count": null,
      "outputs": [
        {
          "output_type": "stream",
          "name": "stdout",
          "text": [
            "2021-10-21 10:57:13.045171+07:00\n"
          ]
        }
      ]
    },
    {
      "cell_type": "code",
      "metadata": {
        "colab": {
          "base_uri": "https://localhost:8080/"
        },
        "id": "8ZN9-57je6NL",
        "outputId": "2cde619c-8e52-4830-e1db-ccff3d590d53"
      },
      "source": [
        "# Create a timezone for Waktu Indonesia Tengah, WITA or UTC+8\n",
        "\n",
        "wita = timezone(timedelta(hours=8))\n",
        "tengah = today_date_time.replace(tzinfo = wita)\n",
        "print(tengah)"
      ],
      "execution_count": null,
      "outputs": [
        {
          "output_type": "stream",
          "name": "stdout",
          "text": [
            "2021-10-21 10:57:13.045171+08:00\n"
          ]
        }
      ]
    },
    {
      "cell_type": "code",
      "metadata": {
        "colab": {
          "base_uri": "https://localhost:8080/"
        },
        "id": "2KWQsZLEfEF9",
        "outputId": "3ef4c876-4b64-46e2-ed23-a574369cc00b"
      },
      "source": [
        "# Create a timezone for Waktu Indonesia Timur, WIT or UTC+9\n",
        "\n",
        "wit = timezone(timedelta(hours=9))\n",
        "timur = today_date_time.replace(tzinfo = wit)\n",
        "print(timur)"
      ],
      "execution_count": null,
      "outputs": [
        {
          "output_type": "stream",
          "name": "stdout",
          "text": [
            "2021-10-21 10:57:13.045171+09:00\n"
          ]
        }
      ]
    },
    {
      "cell_type": "code",
      "metadata": {
        "id": "4qHkGNoYLWCE",
        "colab": {
          "base_uri": "https://localhost:8080/",
          "height": 202
        },
        "outputId": "f1617f66-2aa3-437a-d32c-ee22c73ddf53"
      },
      "source": [
        "import pandas as pd\n",
        "from datetime import datetime, date, timezone, timedelta\n",
        "\n",
        "url = \"https://raw.githubusercontent.com/KelvinMulyawan/Gudang/master/capital-onebike.csv\"\n",
        "\n",
        "capital = pd.read_csv(url)\n",
        "\n",
        "capital.head()"
      ],
      "execution_count": null,
      "outputs": [
        {
          "output_type": "execute_result",
          "data": {
            "text/html": [
              "<div>\n",
              "<style scoped>\n",
              "    .dataframe tbody tr th:only-of-type {\n",
              "        vertical-align: middle;\n",
              "    }\n",
              "\n",
              "    .dataframe tbody tr th {\n",
              "        vertical-align: top;\n",
              "    }\n",
              "\n",
              "    .dataframe thead th {\n",
              "        text-align: right;\n",
              "    }\n",
              "</style>\n",
              "<table border=\"1\" class=\"dataframe\">\n",
              "  <thead>\n",
              "    <tr style=\"text-align: right;\">\n",
              "      <th></th>\n",
              "      <th>Start date</th>\n",
              "      <th>End date</th>\n",
              "      <th>Start station number</th>\n",
              "      <th>Start station</th>\n",
              "      <th>End station number</th>\n",
              "      <th>End station</th>\n",
              "      <th>Bike number</th>\n",
              "      <th>Member type</th>\n",
              "    </tr>\n",
              "  </thead>\n",
              "  <tbody>\n",
              "    <tr>\n",
              "      <th>0</th>\n",
              "      <td>2017-10-01 15:23:25</td>\n",
              "      <td>2017-10-01 15:26:26</td>\n",
              "      <td>31038</td>\n",
              "      <td>Glebe Rd &amp; 11th St N</td>\n",
              "      <td>31036</td>\n",
              "      <td>George Mason Dr &amp; Wilson Blvd</td>\n",
              "      <td>W20529</td>\n",
              "      <td>Member</td>\n",
              "    </tr>\n",
              "    <tr>\n",
              "      <th>1</th>\n",
              "      <td>2017-10-01 15:42:57</td>\n",
              "      <td>2017-10-01 17:49:59</td>\n",
              "      <td>31036</td>\n",
              "      <td>George Mason Dr &amp; Wilson Blvd</td>\n",
              "      <td>31036</td>\n",
              "      <td>George Mason Dr &amp; Wilson Blvd</td>\n",
              "      <td>W20529</td>\n",
              "      <td>Casual</td>\n",
              "    </tr>\n",
              "    <tr>\n",
              "      <th>2</th>\n",
              "      <td>2017-10-02 06:37:10</td>\n",
              "      <td>2017-10-02 06:42:53</td>\n",
              "      <td>31036</td>\n",
              "      <td>George Mason Dr &amp; Wilson Blvd</td>\n",
              "      <td>31037</td>\n",
              "      <td>Ballston Metro / N Stuart &amp; 9th St N</td>\n",
              "      <td>W20529</td>\n",
              "      <td>Member</td>\n",
              "    </tr>\n",
              "    <tr>\n",
              "      <th>3</th>\n",
              "      <td>2017-10-02 08:56:45</td>\n",
              "      <td>2017-10-02 09:18:03</td>\n",
              "      <td>31037</td>\n",
              "      <td>Ballston Metro / N Stuart &amp; 9th St N</td>\n",
              "      <td>31295</td>\n",
              "      <td>Potomac &amp; M St NW</td>\n",
              "      <td>W20529</td>\n",
              "      <td>Member</td>\n",
              "    </tr>\n",
              "    <tr>\n",
              "      <th>4</th>\n",
              "      <td>2017-10-02 18:23:48</td>\n",
              "      <td>2017-10-02 18:45:05</td>\n",
              "      <td>31295</td>\n",
              "      <td>Potomac &amp; M St NW</td>\n",
              "      <td>31230</td>\n",
              "      <td>Metro Center / 12th &amp; G St NW</td>\n",
              "      <td>W20529</td>\n",
              "      <td>Member</td>\n",
              "    </tr>\n",
              "  </tbody>\n",
              "</table>\n",
              "</div>"
            ],
            "text/plain": [
              "            Start date             End date  ...  Bike number Member type\n",
              "0  2017-10-01 15:23:25  2017-10-01 15:26:26  ...       W20529      Member\n",
              "1  2017-10-01 15:42:57  2017-10-01 17:49:59  ...       W20529      Casual\n",
              "2  2017-10-02 06:37:10  2017-10-02 06:42:53  ...       W20529      Member\n",
              "3  2017-10-02 08:56:45  2017-10-02 09:18:03  ...       W20529      Member\n",
              "4  2017-10-02 18:23:48  2017-10-02 18:45:05  ...       W20529      Member\n",
              "\n",
              "[5 rows x 8 columns]"
            ]
          },
          "metadata": {},
          "execution_count": 1
        }
      ]
    },
    {
      "cell_type": "code",
      "metadata": {
        "id": "Kl0Ls-5PLcOC",
        "colab": {
          "base_uri": "https://localhost:8080/"
        },
        "outputId": "f745b04a-93ea-44f5-cb7c-f4e03ae4c198"
      },
      "source": [
        "for column in ['Start date','End date']:\n",
        "  capital[column] = pd.to_datetime(capital[column])\n",
        "\n",
        "print(capital['Start date'].dtype)\n",
        "print(capital['End date'].dtype)"
      ],
      "execution_count": null,
      "outputs": [
        {
          "output_type": "stream",
          "name": "stdout",
          "text": [
            "datetime64[ns]\n",
            "datetime64[ns]\n"
          ]
        }
      ]
    },
    {
      "cell_type": "code",
      "metadata": {
        "id": "nSdqeNTaMf6g",
        "colab": {
          "base_uri": "https://localhost:8080/"
        },
        "outputId": "e4aa999e-ef58-4b33-c0ee-afb5e0e85cea"
      },
      "source": [
        "print(capital['Start date'].iloc[0])"
      ],
      "execution_count": null,
      "outputs": [
        {
          "output_type": "stream",
          "name": "stdout",
          "text": [
            "2017-10-01 15:23:25\n"
          ]
        }
      ]
    },
    {
      "cell_type": "code",
      "metadata": {
        "id": "Ak89c4pkMksn",
        "colab": {
          "base_uri": "https://localhost:8080/"
        },
        "outputId": "a39990cc-deb1-4cd8-a9dc-55c926bddd94"
      },
      "source": [
        "edt = timezone(timedelta(hours=-4))\n",
        "\n",
        "tgl = capital['Start date'].iloc[0]\n",
        "\n",
        "tgl_rep = tgl.replace(tzinfo = edt)\n",
        "\n",
        "print(tgl)\n",
        "print(tgl_rep)"
      ],
      "execution_count": null,
      "outputs": [
        {
          "output_type": "stream",
          "name": "stdout",
          "text": [
            "2017-10-01 15:23:25\n",
            "2017-10-01 15:23:25-04:00\n"
          ]
        }
      ]
    },
    {
      "cell_type": "code",
      "metadata": {
        "id": "RvdW2VBbMyZ1"
      },
      "source": [
        "from dateutil import tz\n",
        "from datetime.datetime import now\n",
        "\n",
        "wib = 'Asia/Jakarta'"
      ],
      "execution_count": null,
      "outputs": []
    },
    {
      "cell_type": "markdown",
      "metadata": {
        "id": "179Q1hqQK9oD"
      },
      "source": [
        "### 4 - Easy and Powerful: Dates and Times in Pandas"
      ]
    },
    {
      "cell_type": "markdown",
      "metadata": {
        "id": "vR0cXbJmK9oD"
      },
      "source": [
        "### Referensi\n",
        "\n",
        "<ol>\n",
        "    <li><a href=\"https://docs.python.org/3/library/datetime.html#strftime-and-strptime-format-codes\">Format Time</a></li>\n",
        "    <li><a href=\"https://id.wikipedia.org/wiki/ISO_8601\">ISO Format 8601</a></li>\n",
        "    <li><a href=\"https://id.wikipedia.org/wiki/UTC%2B07:00\">WIB UTC</a></li>\n",
        "    <li><a href=\"https://id.wikipedia.org/wiki/UTC%2B08:00\">WITA UTC</a></li>\n",
        "    <li><a href=\"https://id.wikipedia.org/wiki/UTC%2B09:00\">WIT UTC</a></li>\n",
        "</ol>"
      ]
    }
  ]
}