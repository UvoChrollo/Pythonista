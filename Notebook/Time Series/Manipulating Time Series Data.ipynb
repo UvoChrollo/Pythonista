{
  "nbformat": 4,
  "nbformat_minor": 0,
  "metadata": {
    "kernelspec": {
      "display_name": "Python 3",
      "language": "python",
      "name": "python3"
    },
    "language_info": {
      "codemirror_mode": {
        "name": "ipython",
        "version": 3
      },
      "file_extension": ".py",
      "mimetype": "text/x-python",
      "name": "python",
      "nbconvert_exporter": "python",
      "pygments_lexer": "ipython3",
      "version": "3.8.5"
    },
    "colab": {
      "name": "Manipulating Time Series Data.ipynb",
      "provenance": []
    }
  },
  "cells": [
    {
      "cell_type": "markdown",
      "metadata": {
        "id": "NCkIrPMdGkmf"
      },
      "source": [
        "## 1 - Working with Time Series in Pandas"
      ]
    },
    {
      "cell_type": "code",
      "metadata": {
        "id": "oHBVnKx-GwHo"
      },
      "source": [
        "import pandas as pd\n",
        "from datetime import datetime, timezone, timedelta, date\n",
        "from dateutil import tz"
      ],
      "execution_count": 1,
      "outputs": []
    },
    {
      "cell_type": "markdown",
      "metadata": {
        "id": "KtDWArilGlzd"
      },
      "source": [
        "## 2 - Basic Time Series Metrics & Resampling"
      ]
    },
    {
      "cell_type": "markdown",
      "metadata": {
        "id": "iByCq-rnGqGm"
      },
      "source": [
        "## 3 - Window Functions: Rolling & Expanding Metrics"
      ]
    },
    {
      "cell_type": "markdown",
      "metadata": {
        "id": "DN72yo1yGtuj"
      },
      "source": [
        "## 4 - Putting it all together: Building a value-weighted index"
      ]
    }
  ]
}