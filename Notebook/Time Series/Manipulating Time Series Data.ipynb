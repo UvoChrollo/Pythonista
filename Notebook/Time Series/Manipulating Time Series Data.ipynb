{
  "nbformat": 4,
  "nbformat_minor": 0,
  "metadata": {
    "kernelspec": {
      "display_name": "Python 3",
      "language": "python",
      "name": "python3"
    },
    "language_info": {
      "codemirror_mode": {
        "name": "ipython",
        "version": 3
      },
      "file_extension": ".py",
      "mimetype": "text/x-python",
      "name": "python",
      "nbconvert_exporter": "python",
      "pygments_lexer": "ipython3",
      "version": "3.8.5"
    },
    "colab": {
      "name": "Manipulating Time Series Data.ipynb",
      "provenance": []
    }
  },
  "cells": [
    {
      "cell_type": "markdown",
      "metadata": {
        "id": "NCkIrPMdGkmf"
      },
      "source": [
        "## 1 - Working with Time Series in Pandas"
      ]
    },
    {
      "cell_type": "code",
      "metadata": {
        "id": "oHBVnKx-GwHo"
      },
      "source": [
        "import pandas as pd\n",
        "from datetime import datetime, timezone, timedelta, date\n",
        "from dateutil import tz"
      ],
      "execution_count": 1,
      "outputs": []
    },
    {
      "cell_type": "code",
      "metadata": {
        "id": "ftPYSEdWyxf-",
        "outputId": "82d20d6b-e9cb-44f2-c8d5-9718469ec892",
        "colab": {
          "base_uri": "https://localhost:8080/"
        }
      },
      "source": [
        "# Create the range of dates here\n",
        "seven_days = pd.date_range('2017-1-1', periods=7)\n",
        "\n",
        "# Iterate over the dates and print the number and name of the weekday\n",
        "for day in seven_days:\n",
        "    print(day.dayofweek, day.day_name())"
      ],
      "execution_count": 2,
      "outputs": [
        {
          "output_type": "stream",
          "name": "stdout",
          "text": [
            "6 Sunday\n",
            "0 Monday\n",
            "1 Tuesday\n",
            "2 Wednesday\n",
            "3 Thursday\n",
            "4 Friday\n",
            "5 Saturday\n"
          ]
        }
      ]
    },
    {
      "cell_type": "code",
      "metadata": {
        "id": "orFn9MxjzLBv"
      },
      "source": [
        "url = \"https://raw.githubusercontent.com/KelvinMulyawan/Gudang/master/air_quality_data/nyc.csv\"\n",
        "\n",
        "nyc = pd.read_csv(url)"
      ],
      "execution_count": 3,
      "outputs": []
    },
    {
      "cell_type": "markdown",
      "metadata": {
        "id": "KtDWArilGlzd"
      },
      "source": [
        "## 2 - Basic Time Series Metrics & Resampling"
      ]
    },
    {
      "cell_type": "markdown",
      "metadata": {
        "id": "iByCq-rnGqGm"
      },
      "source": [
        "## 3 - Window Functions: Rolling & Expanding Metrics"
      ]
    },
    {
      "cell_type": "markdown",
      "metadata": {
        "id": "DN72yo1yGtuj"
      },
      "source": [
        "## 4 - Putting it all together: Building a value-weighted index"
      ]
    }
  ]
}