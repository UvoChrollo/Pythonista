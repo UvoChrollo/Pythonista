{
  "nbformat": 4,
  "nbformat_minor": 0,
  "metadata": {
    "kernelspec": {
      "display_name": "Python 3",
      "language": "python",
      "name": "python3"
    },
    "language_info": {
      "codemirror_mode": {
        "name": "ipython",
        "version": 3
      },
      "file_extension": ".py",
      "mimetype": "text/x-python",
      "name": "python",
      "nbconvert_exporter": "python",
      "pygments_lexer": "ipython3",
      "version": "3.8.5"
    },
    "colab": {
      "name": "Visualizing Time Series Data.ipynb",
      "provenance": []
    }
  },
  "cells": [
    {
      "cell_type": "markdown",
      "metadata": {
        "id": "aNXg1BClEvGs"
      },
      "source": [
        "## 1 - Line Plots"
      ]
    },
    {
      "cell_type": "markdown",
      "metadata": {
        "id": "cQM0_aJYE0mM"
      },
      "source": [
        "## 2 - Summary Statistics and Diagnostics"
      ]
    },
    {
      "cell_type": "markdown",
      "metadata": {
        "id": "6OstjXatE1kF"
      },
      "source": [
        "## 3 - Seasonality, Trend and Noise"
      ]
    },
    {
      "cell_type": "markdown",
      "metadata": {
        "id": "bhx1SyHjE7k5"
      },
      "source": [
        "## 4 - Work with Multiple Time Series"
      ]
    },
    {
      "cell_type": "markdown",
      "metadata": {
        "id": "pPRXUULWE8bF"
      },
      "source": [
        "## 5 - Case Study: Unemployment Rate"
      ]
    }
  ]
}