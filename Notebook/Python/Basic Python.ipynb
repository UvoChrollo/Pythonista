{
  "nbformat": 4,
  "nbformat_minor": 0,
  "metadata": {
    "celltoolbar": "Slideshow",
    "kernelspec": {
      "display_name": "Python 3",
      "language": "python",
      "name": "python3"
    },
    "language_info": {
      "codemirror_mode": {
        "name": "ipython",
        "version": 3
      },
      "file_extension": ".py",
      "mimetype": "text/x-python",
      "name": "python",
      "nbconvert_exporter": "python",
      "pygments_lexer": "ipython3",
      "version": "3.8.5"
    },
    "colab": {
      "name": "Basic Python.ipynb",
      "provenance": []
    }
  },
  "cells": [
    {
      "cell_type": "markdown",
      "metadata": {
        "id": "pdePbqZmqnQi"
      },
      "source": [
        "### 0 - Python I/O"
      ]
    },
    {
      "cell_type": "code",
      "metadata": {
        "id": "QdGbUuMXqnQq",
        "outputId": "3480bd5e-3e6a-4290-81f4-4341484efdaa"
      },
      "source": [
        "print(\"Python\")\n",
        "print(\"Hello\")"
      ],
      "execution_count": null,
      "outputs": [
        {
          "name": "stdout",
          "output_type": "stream",
          "text": [
            "Python\n",
            "Hello\n"
          ]
        }
      ]
    },
    {
      "cell_type": "code",
      "metadata": {
        "id": "RQTkf9teqnQv",
        "outputId": "44658eca-d2eb-43f1-a96e-812190ff4aec"
      },
      "source": [
        "print('Python')"
      ],
      "execution_count": null,
      "outputs": [
        {
          "name": "stdout",
          "output_type": "stream",
          "text": [
            "Python\n"
          ]
        }
      ]
    },
    {
      "cell_type": "code",
      "metadata": {
        "id": "23Ii6TPEqnQw",
        "outputId": "d5ad4e5e-ad76-41c3-a388-3d34c7b8ad6b"
      },
      "source": [
        "print(\"Python Programming Language\")"
      ],
      "execution_count": null,
      "outputs": [
        {
          "name": "stdout",
          "output_type": "stream",
          "text": [
            "Python Programming Language\n"
          ]
        }
      ]
    },
    {
      "cell_type": "code",
      "metadata": {
        "id": "DEV0Wu0yqnQx",
        "outputId": "5bd062e5-211b-495e-9d7c-1c0805fffe49"
      },
      "source": [
        "print(40)"
      ],
      "execution_count": null,
      "outputs": [
        {
          "name": "stdout",
          "output_type": "stream",
          "text": [
            "40\n"
          ]
        }
      ]
    },
    {
      "cell_type": "code",
      "metadata": {
        "id": "zhiJkpt1qnQy",
        "outputId": "96088a3f-a224-47a0-c85e-0367ae36e71a"
      },
      "source": [
        "print(20.1)"
      ],
      "execution_count": null,
      "outputs": [
        {
          "name": "stdout",
          "output_type": "stream",
          "text": [
            "20.1\n"
          ]
        }
      ]
    },
    {
      "cell_type": "code",
      "metadata": {
        "id": "XUEwCvduqnQy",
        "outputId": "0692ac8d-9246-40a0-d6a2-6fd43890a48f"
      },
      "source": [
        "print(\"True\")"
      ],
      "execution_count": null,
      "outputs": [
        {
          "name": "stdout",
          "output_type": "stream",
          "text": [
            "True\n"
          ]
        }
      ]
    },
    {
      "cell_type": "code",
      "metadata": {
        "id": "ye2XB8ZWqnQz",
        "outputId": "8d24ded9-5f5b-4cf7-bbf4-cbd82176962a"
      },
      "source": [
        "print([n for n in range(5)])"
      ],
      "execution_count": null,
      "outputs": [
        {
          "name": "stdout",
          "output_type": "stream",
          "text": [
            "[0, 1, 2, 3, 4]\n"
          ]
        }
      ]
    },
    {
      "cell_type": "markdown",
      "metadata": {
        "id": "kg-3IHAuqnQ0"
      },
      "source": [
        "### 1 - Python Variable"
      ]
    },
    {
      "cell_type": "code",
      "metadata": {
        "id": "LRbin6TXqnQ1"
      },
      "source": [
        "nama = \"Eminem\"\n",
        "umur = 20\n",
        "tinggi = 184.2\n",
        "male = True"
      ],
      "execution_count": null,
      "outputs": []
    },
    {
      "cell_type": "code",
      "metadata": {
        "id": "OTvzjkOrqnQ2",
        "outputId": "3fcc49e4-de74-4473-bd15-e895293c0487"
      },
      "source": [
        "print(nama)\n",
        "print(umur)\n",
        "print(tinggi)\n",
        "print(male)"
      ],
      "execution_count": null,
      "outputs": [
        {
          "name": "stdout",
          "output_type": "stream",
          "text": [
            "Eminem\n",
            "20\n",
            "184.2\n",
            "True\n"
          ]
        }
      ]
    },
    {
      "cell_type": "code",
      "metadata": {
        "id": "iNHl1Xw9qnQ4",
        "outputId": "06670f61-4e75-4c1b-9ad3-24c7841b911e"
      },
      "source": [
        "print(\"nama saya adalah : \"+nama+\"\\nsaya berumur : \"+str(umur))"
      ],
      "execution_count": null,
      "outputs": [
        {
          "name": "stdout",
          "output_type": "stream",
          "text": [
            "nama saya adalah : Eminem\n",
            "saya berumur : 20\n"
          ]
        }
      ]
    },
    {
      "cell_type": "code",
      "metadata": {
        "id": "n1aoE32cqnQ5",
        "outputId": "68d45a71-6886-49ea-a2f6-590aea15e6d0"
      },
      "source": [
        "var_x = var_y = \"Hello\"\n",
        "\n",
        "print(var_x)\n",
        "print(var_y)"
      ],
      "execution_count": null,
      "outputs": [
        {
          "name": "stdout",
          "output_type": "stream",
          "text": [
            "Hello\n",
            "Hello\n"
          ]
        }
      ]
    },
    {
      "cell_type": "code",
      "metadata": {
        "id": "gs4Qb7E8qnQ6",
        "outputId": "ee827bc5-3bec-415b-c68f-2b46fcdfb345"
      },
      "source": [
        "var_a, var_b = 12, 10\n",
        "\n",
        "print(var_a)\n",
        "print(var_b)"
      ],
      "execution_count": null,
      "outputs": [
        {
          "name": "stdout",
          "output_type": "stream",
          "text": [
            "12\n",
            "10\n"
          ]
        }
      ]
    },
    {
      "cell_type": "code",
      "metadata": {
        "scrolled": true,
        "id": "ZxuElhU-qnQ7",
        "outputId": "a12ed73c-c705-4a4a-a2c3-5a0f1cf6e26f"
      },
      "source": [
        "var_X = \"Besar\"\n",
        "var_x = \"Kecil\"\n",
        "\n",
        "print(var_X)\n",
        "print(var_x)"
      ],
      "execution_count": null,
      "outputs": [
        {
          "name": "stdout",
          "output_type": "stream",
          "text": [
            "Besar\n",
            "Kecil\n"
          ]
        }
      ]
    },
    {
      "cell_type": "markdown",
      "metadata": {
        "id": "_zhuFwIXqnQ8"
      },
      "source": [
        "### 3 - Python Singular Data Types"
      ]
    },
    {
      "cell_type": "code",
      "metadata": {
        "id": "y4vwwZJOqnQ9",
        "outputId": "18af63d0-a202-4276-b5ed-5531c383dc11"
      },
      "source": [
        "umur = 100\n",
        "\n",
        "print(umur)"
      ],
      "execution_count": null,
      "outputs": [
        {
          "name": "stdout",
          "output_type": "stream",
          "text": [
            "100\n"
          ]
        }
      ]
    },
    {
      "cell_type": "code",
      "metadata": {
        "id": "ylacuBSoqnQ9",
        "outputId": "2ef78f13-46f7-43b1-ca10-70b12c4b1779"
      },
      "source": [
        "umur = 100\n",
        "\n",
        "print(type(umur))"
      ],
      "execution_count": null,
      "outputs": [
        {
          "name": "stdout",
          "output_type": "stream",
          "text": [
            "<class 'int'>\n"
          ]
        }
      ]
    },
    {
      "cell_type": "code",
      "metadata": {
        "id": "tPijPywkqnQ-",
        "outputId": "95e2edf2-0b7c-4e61-c1fc-c6994836f154"
      },
      "source": [
        "tinggi = 150.4\n",
        "\n",
        "print(tinggi)\n",
        "print(type(tinggi))"
      ],
      "execution_count": null,
      "outputs": [
        {
          "name": "stdout",
          "output_type": "stream",
          "text": [
            "150.4\n",
            "<class 'float'>\n"
          ]
        }
      ]
    },
    {
      "cell_type": "code",
      "metadata": {
        "id": "DK8MYedPqnQ_",
        "outputId": "347d082a-a0ef-462c-c78e-5e0b5652c6aa"
      },
      "source": [
        "umur = \"100\"\n",
        "\n",
        "print(type(umur))"
      ],
      "execution_count": null,
      "outputs": [
        {
          "name": "stdout",
          "output_type": "stream",
          "text": [
            "<class 'str'>\n"
          ]
        }
      ]
    },
    {
      "cell_type": "code",
      "metadata": {
        "id": "nVqnWeZ3qnRA",
        "outputId": "98f96b4c-de57-45fa-e0fa-7e7f9e23634f"
      },
      "source": [
        "male = True\n",
        "\n",
        "print(type(male))"
      ],
      "execution_count": null,
      "outputs": [
        {
          "name": "stdout",
          "output_type": "stream",
          "text": [
            "<class 'bool'>\n"
          ]
        }
      ]
    },
    {
      "cell_type": "markdown",
      "metadata": {
        "id": "5kW0G9vYqnRB"
      },
      "source": [
        "#### String to float"
      ]
    },
    {
      "cell_type": "code",
      "metadata": {
        "id": "0OEiuCizqnRD",
        "outputId": "0be13579-5a8f-4208-f081-ac5e165a6916"
      },
      "source": [
        "nama = \"Poseidon\"\n",
        "print(type(nama))\n",
        "\n",
        "try:\n",
        "    nama_float = float(nama)\n",
        "    print(type(nama_float))\n",
        "except:\n",
        "    print(\"Sorry, Value Error ! Couldn't Convert String to Float\")"
      ],
      "execution_count": null,
      "outputs": [
        {
          "name": "stdout",
          "output_type": "stream",
          "text": [
            "<class 'str'>\n",
            "Sorry, Value Error ! Couldn't Convert String to Float\n"
          ]
        }
      ]
    },
    {
      "cell_type": "code",
      "metadata": {
        "scrolled": true,
        "id": "qNSr85zkqnRE",
        "outputId": "0bf37870-f597-48d9-8e8c-f9bb338df59d"
      },
      "source": [
        "umur = \"40\"\n",
        "print(type(umur))\n",
        "\n",
        "umur_float = float(umur)\n",
        "print(type(umur_float))"
      ],
      "execution_count": null,
      "outputs": [
        {
          "name": "stdout",
          "output_type": "stream",
          "text": [
            "<class 'str'>\n",
            "<class 'float'>\n"
          ]
        }
      ]
    },
    {
      "cell_type": "markdown",
      "metadata": {
        "id": "I8Z8jdAtqnRF"
      },
      "source": [
        "#### String to Integer"
      ]
    },
    {
      "cell_type": "code",
      "metadata": {
        "id": "YvLk47K4qnRF",
        "outputId": "0259f7f6-64a1-444b-8b29-e17290f3811a"
      },
      "source": [
        "nama = \"Poseidon\"\n",
        "print(type(nama))\n",
        "\n",
        "try:\n",
        "    nama_int = int(nama)\n",
        "    print(type(nama_int))\n",
        "except:\n",
        "    print(\"Sorry, Value Error ! Couldn't Convert String to Integer\")"
      ],
      "execution_count": null,
      "outputs": [
        {
          "name": "stdout",
          "output_type": "stream",
          "text": [
            "<class 'str'>\n",
            "Sorry, Value Error ! Couldn't Convert String to Integer\n"
          ]
        }
      ]
    },
    {
      "cell_type": "code",
      "metadata": {
        "id": "Uq7CQu8tqnRH",
        "outputId": "ead48db5-9697-4a95-aaee-1f3ff66c473a"
      },
      "source": [
        "umur = \"40\"\n",
        "print(type(umur))\n",
        "\n",
        "umur_int = int(umur)\n",
        "print(type(umur_int))"
      ],
      "execution_count": null,
      "outputs": [
        {
          "name": "stdout",
          "output_type": "stream",
          "text": [
            "<class 'str'>\n",
            "<class 'int'>\n"
          ]
        }
      ]
    },
    {
      "cell_type": "code",
      "metadata": {
        "id": "KUNJrmECqnRI",
        "outputId": "30e527ec-c22a-4942-8d98-a9491b7a66a3"
      },
      "source": [
        "panjang = 5\n",
        "\n",
        "print(type(panjang)) # int\n",
        "\n",
        "pjg_float = float(panjang)\n",
        "\n",
        "print(type(pjg_float)) # float"
      ],
      "execution_count": null,
      "outputs": [
        {
          "name": "stdout",
          "output_type": "stream",
          "text": [
            "<class 'int'>\n",
            "<class 'float'>\n"
          ]
        }
      ]
    },
    {
      "cell_type": "code",
      "metadata": {
        "id": "QfCotV2zqnRJ",
        "outputId": "71e2ca0e-439f-4ff7-dee5-d60870e2d2e3"
      },
      "source": [
        "badan = 3.5\n",
        "\n",
        "print(type(badan)) # float\n",
        "\n",
        "badan_string = str(badan)\n",
        "print(type(badan_string))"
      ],
      "execution_count": null,
      "outputs": [
        {
          "name": "stdout",
          "output_type": "stream",
          "text": [
            "<class 'float'>\n",
            "<class 'str'>\n"
          ]
        }
      ]
    },
    {
      "cell_type": "code",
      "metadata": {
        "id": "N8uvj24EqnRJ",
        "outputId": "66075f90-5ebc-4ce7-edf4-cee5ff87327b"
      },
      "source": [
        "banyak = 1500\n",
        "\n",
        "print(type(banyak))\n",
        "\n",
        "banyak_String = str(banyak)\n",
        "\n",
        "print(type(banyak_String))"
      ],
      "execution_count": null,
      "outputs": [
        {
          "name": "stdout",
          "output_type": "stream",
          "text": [
            "<class 'int'>\n",
            "<class 'str'>\n"
          ]
        }
      ]
    },
    {
      "cell_type": "markdown",
      "metadata": {
        "id": "b0roLmm5qnRK"
      },
      "source": [
        "### 4 - Python Operator"
      ]
    },
    {
      "cell_type": "markdown",
      "metadata": {
        "id": "ajGIGgtDqnRL"
      },
      "source": [
        "<h1 align=\"center\">Tugas Ticket 23 Oktober 2021</h1>\n",
        "<ol>\n",
        "    <li>Operator Aritmatika</li>\n",
        "    <li>Operator Penugasan</li>\n",
        "    <li>Operator Perbandingan</li>\n",
        "    <li>Operator Logical</li>\n",
        "</ol>"
      ]
    },
    {
      "cell_type": "markdown",
      "metadata": {
        "id": "0Y69lPmrq896"
      },
      "source": [
        "#### Operator Aritmatika"
      ]
    },
    {
      "cell_type": "code",
      "metadata": {
        "id": "2ZC13sK-q7th",
        "outputId": "5e8e0db0-fbbe-4247-c18a-007377ebee6e",
        "colab": {
          "base_uri": "https://localhost:8080/"
        }
      },
      "source": [
        "print(20 + 30)"
      ],
      "execution_count": 1,
      "outputs": [
        {
          "output_type": "stream",
          "name": "stdout",
          "text": [
            "50\n"
          ]
        }
      ]
    },
    {
      "cell_type": "code",
      "metadata": {
        "id": "1_sC0uB3rNYN",
        "outputId": "46aeef25-ef26-4e4c-ee94-f61f840d3ff9",
        "colab": {
          "base_uri": "https://localhost:8080/"
        }
      },
      "source": [
        "input1 = int(input(\"Masukkan input satu : \"))\n",
        "input2 = int(input(\"Masukkan input dua : \"))\n",
        "\n",
        "add = input1 + input2\n",
        "\n",
        "print(\"Hasil tambah : {}\".format(add))"
      ],
      "execution_count": 2,
      "outputs": [
        {
          "output_type": "stream",
          "name": "stdout",
          "text": [
            "Masukkan input satu : 10\n",
            "Masukkan input dua : 4\n",
            "Hasil tambah : 14\n"
          ]
        }
      ]
    },
    {
      "cell_type": "code",
      "metadata": {
        "id": "-Ypc7d20rugC",
        "outputId": "7b4ee4c8-71c8-4dd8-f450-73d3fcc32c00",
        "colab": {
          "base_uri": "https://localhost:8080/"
        }
      },
      "source": [
        "input1 = int(input(\"Masukkan input satu : \"))\n",
        "input2 = int(input(\"Masukkan input dua : \"))\n",
        "\n",
        "sub = input1 - input2\n",
        "\n",
        "print(\"Hasil kurang : {}\".format(sub))"
      ],
      "execution_count": 4,
      "outputs": [
        {
          "output_type": "stream",
          "name": "stdout",
          "text": [
            "Masukkan input satu : 29\n",
            "Masukkan input dua : 9\n",
            "Hasil kurang : 20\n"
          ]
        }
      ]
    },
    {
      "cell_type": "code",
      "metadata": {
        "id": "78tXd65WstBV",
        "outputId": "1f039bed-6682-4cf3-9d03-4656038bac57",
        "colab": {
          "base_uri": "https://localhost:8080/"
        }
      },
      "source": [
        "input1 = int(input(\"Masukkan input satu : \"))\n",
        "input2 = int(input(\"Masukkan input dua : \"))\n",
        "\n",
        "multiply = input1 * input2\n",
        "\n",
        "print(\"Hasil pembagian : {}\".format(multiply))"
      ],
      "execution_count": 8,
      "outputs": [
        {
          "output_type": "stream",
          "name": "stdout",
          "text": [
            "Masukkan input satu : 10\n",
            "Masukkan input dua : 10\n",
            "Hasil pembagian : 100\n"
          ]
        }
      ]
    },
    {
      "cell_type": "code",
      "metadata": {
        "id": "iNDjwyKjr08X",
        "outputId": "48c11b97-60a4-48b2-b3de-d20861ba276e",
        "colab": {
          "base_uri": "https://localhost:8080/"
        }
      },
      "source": [
        "input1 = int(input(\"Masukkan input satu : \"))\n",
        "input2 = int(input(\"Masukkan input dua : \"))\n",
        "\n",
        "if input2 == 0:\n",
        "  raise ValueError(\"Maaf, tidak bisa dibagi 0\")\n",
        "\n",
        "div = input1 / input2\n",
        "\n",
        "print(\"Hasil pembagian : {}\".format(div))"
      ],
      "execution_count": 9,
      "outputs": [
        {
          "output_type": "stream",
          "name": "stdout",
          "text": [
            "Masukkan input satu : 90\n",
            "Masukkan input dua : 9\n",
            "Hasil pembagian : 10.0\n"
          ]
        }
      ]
    },
    {
      "cell_type": "markdown",
      "metadata": {
        "id": "lrC5x3gyqnRL"
      },
      "source": [
        "### X - Python If Else"
      ]
    },
    {
      "cell_type": "code",
      "metadata": {
        "id": "i1KnatsXqnRL",
        "outputId": "ea808ce3-6a7f-4b8e-e936-29521beccb9f"
      },
      "source": [
        "nilai = 70\n",
        "\n",
        "if nilai == 70:\n",
        "    print(\"Selamat, nilai anda 70\")"
      ],
      "execution_count": null,
      "outputs": [
        {
          "name": "stdout",
          "output_type": "stream",
          "text": [
            "Selamat, nilai anda 70\n"
          ]
        }
      ]
    },
    {
      "cell_type": "code",
      "metadata": {
        "id": "tpkWVMAKqnRM",
        "outputId": "cfde2527-6dc9-47fc-f212-a361f556c549"
      },
      "source": [
        "nilai = 30\n",
        "\n",
        "if nilai > 70:\n",
        "    print(\"Selamat, anda lulus !\")\n",
        "else:\n",
        "    print(\"Maaf, anda tidak lulus !\")"
      ],
      "execution_count": null,
      "outputs": [
        {
          "name": "stdout",
          "output_type": "stream",
          "text": [
            "Maaf, anda tidak lulus !\n"
          ]
        }
      ]
    },
    {
      "cell_type": "code",
      "metadata": {
        "id": "UL9Ds2I9qnRO",
        "outputId": "78a0ad6d-252b-4064-b44c-b8fe27d6f766"
      },
      "source": [
        "nilai = 45\n",
        "\n",
        "if nilai > 70:\n",
        "    print(\"Nilai Anda A\")\n",
        "elif nilai > 40 and nilai < 70:\n",
        "    print(\"Nilai Anda B\")\n",
        "else:\n",
        "    print(\"Nilai Anda C\")"
      ],
      "execution_count": null,
      "outputs": [
        {
          "name": "stdout",
          "output_type": "stream",
          "text": [
            "Nilai Anda B\n"
          ]
        }
      ]
    },
    {
      "cell_type": "markdown",
      "metadata": {
        "id": "QvJdBP7ZqnRP"
      },
      "source": [
        "<b>Ternary Operation</b>"
      ]
    },
    {
      "cell_type": "code",
      "metadata": {
        "id": "jK80ZYQJqnRP",
        "outputId": "229d9dd2-df7c-4dfb-e6d0-f9f82ec60dcb"
      },
      "source": [
        "a = 10\n",
        "b = 5\n",
        "\n",
        "if a > b:print(\"A lebih besar dari B\")"
      ],
      "execution_count": null,
      "outputs": [
        {
          "name": "stdout",
          "output_type": "stream",
          "text": [
            "A lebih besar dari B\n"
          ]
        }
      ]
    }
  ]
}