{
 "cells": [
  {
   "cell_type": "markdown",
   "metadata": {},
   "source": [
    "#### Contoh Object Oriented Programming"
   ]
  },
  {
   "cell_type": "code",
   "execution_count": 1,
   "metadata": {},
   "outputs": [
    {
     "name": "stdout",
     "output_type": "stream",
     "text": [
      "6\n"
     ]
    }
   ],
   "source": [
    "class MyCounter:\n",
    "    def set_count(self,count):\n",
    "        self.count = count\n",
    "mc = MyCounter()\n",
    "mc.set_count(5)\n",
    "mc.count += 1\n",
    "print(mc.count)"
   ]
  },
  {
   "cell_type": "markdown",
   "metadata": {},
   "source": [
    "#### Introduction to Object Oriented Programming"
   ]
  },
  {
   "cell_type": "code",
   "execution_count": 2,
   "metadata": {},
   "outputs": [],
   "source": [
    "class Main:\n",
    "    pass"
   ]
  },
  {
   "cell_type": "code",
   "execution_count": 3,
   "metadata": {},
   "outputs": [],
   "source": [
    "class Main:\n",
    "    greet = \"Selamat Datang\""
   ]
  },
  {
   "cell_type": "code",
   "execution_count": 4,
   "metadata": {},
   "outputs": [
    {
     "name": "stdout",
     "output_type": "stream",
     "text": [
      "<class '__main__.Main'>\n",
      "<__main__.Main object at 0x000002539B053160>\n"
     ]
    }
   ],
   "source": [
    "print(Main)\n",
    "print(Main())"
   ]
  },
  {
   "cell_type": "code",
   "execution_count": 5,
   "metadata": {},
   "outputs": [
    {
     "name": "stdout",
     "output_type": "stream",
     "text": [
      "Selamat Datang\n"
     ]
    }
   ],
   "source": [
    "m = Main()\n",
    "print(m.greet)"
   ]
  },
  {
   "cell_type": "markdown",
   "metadata": {},
   "source": [
    "#### Attribute or Variable"
   ]
  },
  {
   "cell_type": "code",
   "execution_count": 6,
   "metadata": {},
   "outputs": [
    {
     "name": "stdout",
     "output_type": "stream",
     "text": [
      "Martin Garrix\n"
     ]
    }
   ],
   "source": [
    "class Main:\n",
    "    name = \"Martin Garrix\"\n",
    "    \n",
    "m = Main()\n",
    "print(m.name)"
   ]
  },
  {
   "cell_type": "code",
   "execution_count": 7,
   "metadata": {},
   "outputs": [
    {
     "name": "stdout",
     "output_type": "stream",
     "text": [
      "Martin Garrix\n",
      "Netherlands\n"
     ]
    }
   ],
   "source": [
    "class Main:\n",
    "    name = \"Martin Garrix\"\n",
    "    origin = \"Netherlands\"\n",
    "    \n",
    "m = Main()\n",
    "print(m.name)\n",
    "print(m.origin)"
   ]
  },
  {
   "cell_type": "code",
   "execution_count": 8,
   "metadata": {},
   "outputs": [
    {
     "name": "stdout",
     "output_type": "stream",
     "text": [
      "Martin Garrix\n",
      "Tiesto\n"
     ]
    }
   ],
   "source": [
    "print(m.name)\n",
    "m.name = \"Tiesto\"\n",
    "print(m.name)"
   ]
  },
  {
   "cell_type": "markdown",
   "metadata": {},
   "source": [
    "#### Method or Function"
   ]
  },
  {
   "cell_type": "code",
   "execution_count": 9,
   "metadata": {},
   "outputs": [
    {
     "name": "stdout",
     "output_type": "stream",
     "text": [
      "Hello !\n"
     ]
    }
   ],
   "source": [
    "class Main:\n",
    "    def output(self):\n",
    "        print(\"Hello !\")\n",
    "        \n",
    "m = Main()\n",
    "m.output()"
   ]
  },
  {
   "cell_type": "code",
   "execution_count": 10,
   "metadata": {},
   "outputs": [
    {
     "name": "stdout",
     "output_type": "stream",
     "text": [
      "Poseidon\n"
     ]
    }
   ],
   "source": [
    "class Main:\n",
    "    \n",
    "    def nama(self,nama):\n",
    "        self.nama = nama\n",
    "        return self.nama\n",
    "    \n",
    "m = Main()\n",
    "print(m.nama(\"Poseidon\"))"
   ]
  },
  {
   "cell_type": "markdown",
   "metadata": {},
   "source": [
    "#### ```__init__``` constructor"
   ]
  },
  {
   "cell_type": "code",
   "execution_count": 11,
   "metadata": {},
   "outputs": [],
   "source": [
    "class Main:\n",
    "    \n",
    "    def __init__(self,nama,umur):\n",
    "        self.nama = nama\n",
    "        self.umur = umur\n",
    "        \n",
    "    def __str__(self):\n",
    "        result = \"Nama saya adalah : {}\\nSaya berusia : {}\".format(self.nama,self.umur)\n",
    "        return result"
   ]
  },
  {
   "cell_type": "code",
   "execution_count": 12,
   "metadata": {},
   "outputs": [
    {
     "name": "stdout",
     "output_type": "stream",
     "text": [
      "Nama saya adalah : Poseidon\n",
      "Saya berusia : 2000\n"
     ]
    }
   ],
   "source": [
    "m = Main(\"Poseidon\",2000)\n",
    "print(m)"
   ]
  },
  {
   "cell_type": "code",
   "execution_count": 13,
   "metadata": {},
   "outputs": [
    {
     "name": "stdout",
     "output_type": "stream",
     "text": [
      "Mahasiswa bernama : Poseidon, belum mengambil mata kuliah apapun\n"
     ]
    }
   ],
   "source": [
    "class Main:\n",
    "    def __init__(self,nama):\n",
    "        self.nama = nama\n",
    "        self.matkul = []\n",
    "        \n",
    "    def tambah_matkul(self,*kuliah):\n",
    "        for item in kuliah:\n",
    "            self.matkul.append(item)\n",
    "        return self.matkul\n",
    "        \n",
    "    def __str__(self):\n",
    "        if not self.matkul:\n",
    "            result = \"Mahasiswa bernama : {}, belum mengambil mata kuliah apapun\".format(self.nama)\n",
    "        else:\n",
    "            result = \"Mahasiswa bernama : {}, Telah mengambil mata kuliah : \\n{}\".format(self.nama,self.matkul)\n",
    "        return result\n",
    "    \n",
    "m = Main(\"Poseidon\")\n",
    "print(m)"
   ]
  },
  {
   "cell_type": "code",
   "execution_count": 14,
   "metadata": {},
   "outputs": [
    {
     "name": "stdout",
     "output_type": "stream",
     "text": [
      "Mahasiswa bernama : Poseidon, Telah mengambil mata kuliah : \n",
      "['Pemrograman Web', 'Pemrograman Berorientasi Objek', 'Pemrograman Tingkat Lanjut']\n"
     ]
    }
   ],
   "source": [
    "m.tambah_matkul(\"Pemrograman Web\")\n",
    "m.tambah_matkul(\"Pemrograman Berorientasi Objek\",\"Pemrograman Tingkat Lanjut\")\n",
    "print(m)"
   ]
  },
  {
   "cell_type": "markdown",
   "metadata": {},
   "source": [
    "#### Main and Instance Attribute"
   ]
  },
  {
   "cell_type": "markdown",
   "metadata": {},
   "source": [
    "#### Staticmethod"
   ]
  },
  {
   "cell_type": "markdown",
   "metadata": {},
   "source": [
    "#### Classmethod"
   ]
  },
  {
   "cell_type": "markdown",
   "metadata": {},
   "source": [
    "#### Inheritance"
   ]
  },
  {
   "cell_type": "code",
   "execution_count": 15,
   "metadata": {},
   "outputs": [
    {
     "name": "stdout",
     "output_type": "stream",
     "text": [
      "Hitam\n"
     ]
    }
   ],
   "source": [
    "class Super:\n",
    "    rambut = \"Hitam\"\n",
    "    \n",
    "class Sub(Super):\n",
    "    pass\n",
    "\n",
    "sb = Sub()\n",
    "print(sb.rambut)"
   ]
  },
  {
   "cell_type": "markdown",
   "metadata": {},
   "source": [
    "#### Encapsulation"
   ]
  },
  {
   "cell_type": "markdown",
   "metadata": {},
   "source": [
    "#### Polymorphism"
   ]
  },
  {
   "cell_type": "markdown",
   "metadata": {},
   "source": [
    "#### Public, Protected, Private Attribute"
   ]
  }
 ],
 "metadata": {
  "kernelspec": {
   "display_name": "Python 3",
   "language": "python",
   "name": "python3"
  },
  "language_info": {
   "codemirror_mode": {
    "name": "ipython",
    "version": 3
   },
   "file_extension": ".py",
   "mimetype": "text/x-python",
   "name": "python",
   "nbconvert_exporter": "python",
   "pygments_lexer": "ipython3",
   "version": "3.8.5"
  }
 },
 "nbformat": 4,
 "nbformat_minor": 4
}
