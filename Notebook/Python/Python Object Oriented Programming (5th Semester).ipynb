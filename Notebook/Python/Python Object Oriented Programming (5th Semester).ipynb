{
 "cells": [
  {
   "cell_type": "markdown",
   "metadata": {},
   "source": [
    "#### Contoh Object Oriented Programming"
   ]
  },
  {
   "cell_type": "code",
   "execution_count": null,
   "metadata": {},
   "outputs": [],
   "source": [
    "class MyCounter:\n",
    "    def set_count(self,count):\n",
    "        self.count = count\n",
    "mc = MyCounter()\n",
    "mc.set_count(5)\n",
    "mc.count += 1\n",
    "print(mc.count)"
   ]
  },
  {
   "cell_type": "markdown",
   "metadata": {},
   "source": [
    "#### Introduction to Object Oriented Programming"
   ]
  },
  {
   "cell_type": "code",
   "execution_count": null,
   "metadata": {},
   "outputs": [],
   "source": [
    "class Main:\n",
    "    pass"
   ]
  },
  {
   "cell_type": "code",
   "execution_count": null,
   "metadata": {},
   "outputs": [],
   "source": [
    "class Main:\n",
    "    greet = \"Selamat Datang\""
   ]
  },
  {
   "cell_type": "code",
   "execution_count": null,
   "metadata": {},
   "outputs": [],
   "source": [
    "print(Main)\n",
    "print(Main())"
   ]
  },
  {
   "cell_type": "code",
   "execution_count": null,
   "metadata": {},
   "outputs": [],
   "source": [
    "m = Main()\n",
    "print(m.greet)"
   ]
  },
  {
   "cell_type": "markdown",
   "metadata": {},
   "source": [
    "#### Attribute or Variable"
   ]
  },
  {
   "cell_type": "code",
   "execution_count": null,
   "metadata": {},
   "outputs": [],
   "source": [
    "class Main:\n",
    "    name = \"Martin Garrix\"\n",
    "    \n",
    "m = Main()\n",
    "print(m.name)"
   ]
  },
  {
   "cell_type": "code",
   "execution_count": null,
   "metadata": {},
   "outputs": [],
   "source": [
    "class Main:\n",
    "    name = \"Martin Garrix\"\n",
    "    origin = \"Netherlands\"\n",
    "    \n",
    "m = Main()\n",
    "print(m.name)\n",
    "print(m.origin)"
   ]
  },
  {
   "cell_type": "code",
   "execution_count": null,
   "metadata": {},
   "outputs": [],
   "source": [
    "print(m.name)\n",
    "m.name = \"Tiesto\"\n",
    "print(m.name)"
   ]
  },
  {
   "cell_type": "markdown",
   "metadata": {},
   "source": [
    "#### Method or Function"
   ]
  },
  {
   "cell_type": "code",
   "execution_count": null,
   "metadata": {},
   "outputs": [],
   "source": [
    "class Main:\n",
    "    def output(self):\n",
    "        print(\"Hello !\")\n",
    "        \n",
    "m = Main()\n",
    "m.output()"
   ]
  },
  {
   "cell_type": "code",
   "execution_count": null,
   "metadata": {},
   "outputs": [],
   "source": [
    "class Main:\n",
    "    \n",
    "    def nama(self,nama):\n",
    "        self.nama = nama\n",
    "        return self.nama\n",
    "    \n",
    "m = Main()\n",
    "print(m.nama(\"Poseidon\"))"
   ]
  },
  {
   "cell_type": "markdown",
   "metadata": {},
   "source": [
    "#### ```__init__``` constructor"
   ]
  },
  {
   "cell_type": "code",
   "execution_count": null,
   "metadata": {},
   "outputs": [],
   "source": [
    "class Main:\n",
    "    \n",
    "    def __init__(self,nama,umur):\n",
    "        self.nama = nama\n",
    "        self.umur = umur\n",
    "        \n",
    "    def __str__(self):\n",
    "        result = \"Nama saya adalah : {}\\nSaya berusia : {}\".format(self.nama,self.umur)\n",
    "        return result"
   ]
  },
  {
   "cell_type": "code",
   "execution_count": null,
   "metadata": {},
   "outputs": [],
   "source": [
    "m = Main(\"Poseidon\",2000)\n",
    "print(m)"
   ]
  },
  {
   "cell_type": "code",
   "execution_count": null,
   "metadata": {},
   "outputs": [],
   "source": [
    "class Main:\n",
    "    def __init__(self,nama):\n",
    "        self.nama = nama\n",
    "        self.matkul = []\n",
    "        \n",
    "    def tambah_matkul(self,*kuliah):\n",
    "        for item in kuliah:\n",
    "            self.matkul.append(item)\n",
    "        return self.matkul\n",
    "        \n",
    "    def __str__(self):\n",
    "        if not self.matkul:\n",
    "            result = \"Mahasiswa bernama : {}, belum mengambil mata kuliah apapun\".format(self.nama)\n",
    "        else:\n",
    "            result = \"Mahasiswa bernama : {}, Telah mengambil mata kuliah : \\n{}\".format(self.nama,self.matkul)\n",
    "        return result\n",
    "    \n",
    "m = Main(\"Poseidon\")\n",
    "print(m)"
   ]
  },
  {
   "cell_type": "code",
   "execution_count": null,
   "metadata": {},
   "outputs": [],
   "source": [
    "m.tambah_matkul(\"Pemrograman Web\")\n",
    "m.tambah_matkul(\"Pemrograman Berorientasi Objek\",\"Pemrograman Tingkat Lanjut\")\n",
    "print(m)"
   ]
  },
  {
   "cell_type": "markdown",
   "metadata": {},
   "source": [
    "#### Main and Instance Attribute"
   ]
  },
  {
   "cell_type": "markdown",
   "metadata": {},
   "source": [
    "#### Getter and Setter"
   ]
  },
  {
   "cell_type": "markdown",
   "metadata": {},
   "source": [
    "#### Staticmethod"
   ]
  },
  {
   "cell_type": "markdown",
   "metadata": {},
   "source": [
    "#### Classmethod"
   ]
  },
  {
   "cell_type": "markdown",
   "metadata": {},
   "source": [
    "#### Inheritance"
   ]
  },
  {
   "cell_type": "code",
   "execution_count": null,
   "metadata": {},
   "outputs": [],
   "source": [
    "class Super:\n",
    "    rambut = \"Hitam\"\n",
    "    \n",
    "class Sub(Super):\n",
    "    pass\n",
    "\n",
    "sb = Sub()\n",
    "print(sb.rambut)"
   ]
  },
  {
   "cell_type": "code",
   "execution_count": null,
   "metadata": {},
   "outputs": [],
   "source": [
    "class Super:\n",
    "    def set_count(self,count):\n",
    "        self.count = count\n",
    "\n",
    "class Sub(Super):\n",
    "    pass\n",
    "\n",
    "sb = Sub()\n",
    "sb.set_count(5)\n",
    "sb.count += 1\n",
    "print(sb.count)"
   ]
  },
  {
   "cell_type": "markdown",
   "metadata": {},
   "source": [
    "#### Encapsulation"
   ]
  },
  {
   "cell_type": "markdown",
   "metadata": {},
   "source": [
    "#### Polymorphism"
   ]
  },
  {
   "cell_type": "markdown",
   "metadata": {},
   "source": [
    "#### Public, Protected, Private Attribute"
   ]
  },
  {
   "cell_type": "markdown",
   "metadata": {},
   "source": [
    "Private Attribute"
   ]
  },
  {
   "cell_type": "code",
   "execution_count": null,
   "metadata": {},
   "outputs": [],
   "source": [
    "class Private:\n",
    "    def __init__(self,nama,saldo):\n",
    "        self.__nama = nama\n",
    "        self.__saldo = saldo\n",
    "        \n",
    "p1 = Private(\"Benjamin\",50000)\n",
    "try:\n",
    "    print(p1.__nama)\n",
    "except:\n",
    "    print(\"U can't access private attribute\")"
   ]
  },
  {
   "cell_type": "code",
   "execution_count": null,
   "metadata": {},
   "outputs": [],
   "source": [
    "class Private:\n",
    "    def __init__(self,nama,saldo):\n",
    "        self.__nama = nama\n",
    "        self.__saldo = saldo\n",
    "        \n",
    "    def name(self):\n",
    "        return self.__nama\n",
    "        \n",
    "p1 = Private(\"Benjamin\",50000)\n",
    "try:\n",
    "    print(p1.__nama)\n",
    "except:\n",
    "    print(\"U can't access private attribute\")\n",
    "print(p1.name())"
   ]
  },
  {
   "cell_type": "code",
   "execution_count": null,
   "metadata": {},
   "outputs": [],
   "source": [
    "class Private:\n",
    "    def __init__(self,nama,saldo):\n",
    "        self.__nama = nama\n",
    "        self.__saldo = saldo\n",
    "        \n",
    "    def name(self):\n",
    "        return self.__nama\n",
    "    \n",
    "    def set_name(self,new_name):\n",
    "        self.__nama = new_name\n",
    "        return self.__nama\n",
    "        \n",
    "p1 = Private(\"Benjamin\",50000)\n",
    "try:\n",
    "    print(p1.__nama)\n",
    "except:\n",
    "    print(\"U can't access private attribute\")\n",
    "print(p1.name())\n",
    "p1.set_name(\"Martin\")\n",
    "print(p1.name())"
   ]
  },
  {
   "cell_type": "markdown",
   "metadata": {},
   "source": [
    "https://stackoverflow.com/questions/10929004/how-to-restrict-setting-an-attribute-outside-of-constructor"
   ]
  }
 ],
 "metadata": {
  "kernelspec": {
   "display_name": "Python 3",
   "language": "python",
   "name": "python3"
  },
  "language_info": {
   "codemirror_mode": {
    "name": "ipython",
    "version": 3
   },
   "file_extension": ".py",
   "mimetype": "text/x-python",
   "name": "python",
   "nbconvert_exporter": "python",
   "pygments_lexer": "ipython3",
   "version": "3.8.5"
  }
 },
 "nbformat": 4,
 "nbformat_minor": 4
}
