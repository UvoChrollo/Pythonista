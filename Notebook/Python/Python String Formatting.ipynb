{
  "nbformat": 4,
  "nbformat_minor": 0,
  "metadata": {
    "colab": {
      "name": "Python String Formatting.ipynb",
      "provenance": [],
      "authorship_tag": "ABX9TyOYmBYKL7/nuGgAJGJat6Ku"
    },
    "kernelspec": {
      "name": "python3",
      "display_name": "Python 3"
    },
    "language_info": {
      "name": "python"
    }
  },
  "cells": [
    {
      "cell_type": "markdown",
      "metadata": {
        "id": "n1fh1dv24wxS"
      },
      "source": [
        "# By Source : W3School"
      ]
    },
    {
      "cell_type": "code",
      "metadata": {
        "colab": {
          "base_uri": "https://localhost:8080/"
        },
        "id": "wP_M_H-h2A6i",
        "outputId": "7cd86f02-045e-4341-ad89-cdd96a2951d5"
      },
      "source": [
        "print(\"Double\")\n",
        "print('Single')"
      ],
      "execution_count": 1,
      "outputs": [
        {
          "output_type": "stream",
          "name": "stdout",
          "text": [
            "Double\n",
            "Single\n"
          ]
        }
      ]
    },
    {
      "cell_type": "code",
      "metadata": {
        "colab": {
          "base_uri": "https://localhost:8080/"
        },
        "id": "juq-T7C92NJ0",
        "outputId": "1a8a50f2-a156-4ee5-9eca-489bf7524b4c"
      },
      "source": [
        "sing = 'Single'\n",
        "doub = \"Double\"\n",
        "\n",
        "print(sing)\n",
        "print(doub)"
      ],
      "execution_count": 2,
      "outputs": [
        {
          "output_type": "stream",
          "name": "stdout",
          "text": [
            "Single\n",
            "Double\n"
          ]
        }
      ]
    },
    {
      "cell_type": "markdown",
      "metadata": {
        "id": "4Wl9pFP-2Vrp"
      },
      "source": [
        "#### String as Array"
      ]
    },
    {
      "cell_type": "code",
      "metadata": {
        "colab": {
          "base_uri": "https://localhost:8080/"
        },
        "id": "LllfW3ZU2UZD",
        "outputId": "a6e65582-3ba9-4b27-e359-f32565a0e57b"
      },
      "source": [
        "nama = \"Budi\"\n",
        "\n",
        "print(nama[0])\n",
        "print(nama[-1])"
      ],
      "execution_count": 3,
      "outputs": [
        {
          "output_type": "stream",
          "name": "stdout",
          "text": [
            "B\n",
            "i\n"
          ]
        }
      ]
    },
    {
      "cell_type": "code",
      "metadata": {
        "colab": {
          "base_uri": "https://localhost:8080/"
        },
        "id": "dRDoRyP42e8x",
        "outputId": "40cfadac-b357-4374-ed0a-cc7642921323"
      },
      "source": [
        "print(nama[0:2])"
      ],
      "execution_count": 4,
      "outputs": [
        {
          "output_type": "stream",
          "name": "stdout",
          "text": [
            "Bu\n"
          ]
        }
      ]
    },
    {
      "cell_type": "code",
      "metadata": {
        "colab": {
          "base_uri": "https://localhost:8080/"
        },
        "id": "IYxSz3Bt2ykV",
        "outputId": "2cc35235-6849-4258-ec07-c913d5c627e6"
      },
      "source": [
        "nama = \"Dimas\"\n",
        "\n",
        "print(nama[-3:-1])"
      ],
      "execution_count": 13,
      "outputs": [
        {
          "output_type": "stream",
          "name": "stdout",
          "text": [
            "ma\n"
          ]
        }
      ]
    },
    {
      "cell_type": "markdown",
      "metadata": {
        "id": "UHfuP5Eg2swZ"
      },
      "source": [
        "#### Length"
      ]
    },
    {
      "cell_type": "code",
      "metadata": {
        "colab": {
          "base_uri": "https://localhost:8080/"
        },
        "id": "3lTwRpOx2ij7",
        "outputId": "d25b3ca1-56b4-4d60-8acd-7010949b4b9d"
      },
      "source": [
        "lgth = len(\"Budi\")\n",
        "print(lgth)"
      ],
      "execution_count": 5,
      "outputs": [
        {
          "output_type": "stream",
          "name": "stdout",
          "text": [
            "4\n"
          ]
        }
      ]
    },
    {
      "cell_type": "markdown",
      "metadata": {
        "id": "rDx00gFs3KmH"
      },
      "source": [
        "#### Modify String"
      ]
    },
    {
      "cell_type": "code",
      "metadata": {
        "colab": {
          "base_uri": "https://localhost:8080/"
        },
        "id": "wbr7LQ7n3MSN",
        "outputId": "db6fe552-498c-4890-c79e-d1de80da5fe2"
      },
      "source": [
        "a = \"Hello\"\n",
        "\n",
        "print(a.upper())\n",
        "print(a.lower())"
      ],
      "execution_count": 15,
      "outputs": [
        {
          "output_type": "stream",
          "name": "stdout",
          "text": [
            "HELLO\n",
            "hello\n"
          ]
        }
      ]
    },
    {
      "cell_type": "code",
      "metadata": {
        "colab": {
          "base_uri": "https://localhost:8080/",
          "height": 35
        },
        "id": "WenbSG-13TY_",
        "outputId": "1f032106-51f2-41c7-a5b3-9a7bb85b5d02"
      },
      "source": [
        "a = \" Yuhuu\"\n",
        "a.lstrip()"
      ],
      "execution_count": 18,
      "outputs": [
        {
          "output_type": "execute_result",
          "data": {
            "application/vnd.google.colaboratory.intrinsic+json": {
              "type": "string"
            },
            "text/plain": [
              "'Yuhuu'"
            ]
          },
          "metadata": {},
          "execution_count": 18
        }
      ]
    },
    {
      "cell_type": "code",
      "metadata": {
        "colab": {
          "base_uri": "https://localhost:8080/",
          "height": 35
        },
        "id": "tgdj-bZg3fzC",
        "outputId": "ce4af9da-28b0-47d3-d54a-9da7bbcff7f8"
      },
      "source": [
        "a = \"Yuhuu \"\n",
        "a.rstrip()"
      ],
      "execution_count": 19,
      "outputs": [
        {
          "output_type": "execute_result",
          "data": {
            "application/vnd.google.colaboratory.intrinsic+json": {
              "type": "string"
            },
            "text/plain": [
              "'Yuhuu'"
            ]
          },
          "metadata": {},
          "execution_count": 19
        }
      ]
    },
    {
      "cell_type": "code",
      "metadata": {
        "colab": {
          "base_uri": "https://localhost:8080/"
        },
        "id": "b9xQFct53mK1",
        "outputId": "07930194-ff47-4038-bcc1-cd4593865c3e"
      },
      "source": [
        "biju = \"Kurama\"\n",
        "\n",
        "print(biju.replace(\"K\",\"Q\"))"
      ],
      "execution_count": 20,
      "outputs": [
        {
          "output_type": "stream",
          "name": "stdout",
          "text": [
            "Qurama\n"
          ]
        }
      ]
    },
    {
      "cell_type": "code",
      "metadata": {
        "colab": {
          "base_uri": "https://localhost:8080/"
        },
        "id": "8GNah_cE3rry",
        "outputId": "6cf132b1-7460-435b-e0c4-9ab4cd7b4194"
      },
      "source": [
        "biju = \"Kurama, Gyuuki, Choomei\"\n",
        "\n",
        "print(biju.split(','))"
      ],
      "execution_count": 21,
      "outputs": [
        {
          "output_type": "stream",
          "name": "stdout",
          "text": [
            "['Kurama', ' Gyuuki', ' Choomei']\n"
          ]
        }
      ]
    },
    {
      "cell_type": "markdown",
      "metadata": {
        "id": "gSbtUBqR32qw"
      },
      "source": [
        "#### String Concatenation"
      ]
    },
    {
      "cell_type": "code",
      "metadata": {
        "colab": {
          "base_uri": "https://localhost:8080/"
        },
        "id": "-rZ1v8G130tX",
        "outputId": "5a4caa4d-7d29-489a-a95e-15ff55c3bb7a"
      },
      "source": [
        "a = \"Hello\"\n",
        "b = \"World\"\n",
        "\n",
        "print(a+b)"
      ],
      "execution_count": 22,
      "outputs": [
        {
          "output_type": "stream",
          "name": "stdout",
          "text": [
            "HelloWorld\n"
          ]
        }
      ]
    },
    {
      "cell_type": "code",
      "metadata": {
        "colab": {
          "base_uri": "https://localhost:8080/"
        },
        "id": "5VnEmUOA3_kk",
        "outputId": "b2c6aa20-210d-49e7-eadb-35bce2681982"
      },
      "source": [
        "result = a + \" \" + b\n",
        "print(result)"
      ],
      "execution_count": 23,
      "outputs": [
        {
          "output_type": "stream",
          "name": "stdout",
          "text": [
            "Hello World\n"
          ]
        }
      ]
    },
    {
      "cell_type": "markdown",
      "metadata": {
        "id": "z3lbknIT4GR-"
      },
      "source": [
        "#### Format String"
      ]
    },
    {
      "cell_type": "code",
      "metadata": {
        "colab": {
          "base_uri": "https://localhost:8080/"
        },
        "id": "KZ77zwUz4DK3",
        "outputId": "cb589c97-cf15-437f-cbb2-ab38a5fc7cac"
      },
      "source": [
        "nama = \"Budi\"\n",
        "asal = \"Makassar\"\n",
        "\n",
        "print(\"Nama saya {}\\nSaya berasal dari {}\".format(nama,asal))"
      ],
      "execution_count": 24,
      "outputs": [
        {
          "output_type": "stream",
          "name": "stdout",
          "text": [
            "Nama saya Budi\n",
            "Saya berasal dari Makassar\n"
          ]
        }
      ]
    },
    {
      "cell_type": "code",
      "metadata": {
        "colab": {
          "base_uri": "https://localhost:8080/"
        },
        "id": "wPlNsM_N4Ru2",
        "outputId": "a9ef47ae-beee-45e6-fd4b-74c49b637ca8"
      },
      "source": [
        "nama = \"Budi\"\n",
        "asal = \"Makassar\"\n",
        "text = \"Nama saya {}\\nSaya berasal dari {}\"\n",
        "\n",
        "print(text.format(nama,asal))"
      ],
      "execution_count": 25,
      "outputs": [
        {
          "output_type": "stream",
          "name": "stdout",
          "text": [
            "Nama saya Budi\n",
            "Saya berasal dari Makassar\n"
          ]
        }
      ]
    },
    {
      "cell_type": "markdown",
      "metadata": {
        "id": "y-azDsnq41GT"
      },
      "source": [
        "# By Source : Datacamp"
      ]
    }
  ]
}