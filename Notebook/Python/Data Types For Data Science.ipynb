{
 "cells": [
  {
   "cell_type": "markdown",
   "metadata": {
    "slideshow": {
     "slide_type": "slide"
    }
   },
   "source": [
    "## 1. Basic Collectionary Data Types"
   ]
  },
  {
   "cell_type": "markdown",
   "metadata": {
    "slideshow": {
     "slide_type": "slide"
    }
   },
   "source": [
    "### 1.1 - List<br><br>List items are ordered, changeable, and allow duplicate values."
   ]
  },
  {
   "cell_type": "code",
   "execution_count": 1,
   "metadata": {
    "slideshow": {
     "slide_type": "subslide"
    }
   },
   "outputs": [
    {
     "name": "stdout",
     "output_type": "stream",
     "text": [
      "[]\n"
     ]
    }
   ],
   "source": [
    "var_list = []\n",
    "\n",
    "print(var_list)"
   ]
  },
  {
   "cell_type": "code",
   "execution_count": 2,
   "metadata": {
    "slideshow": {
     "slide_type": "subslide"
    }
   },
   "outputs": [
    {
     "name": "stdout",
     "output_type": "stream",
     "text": [
      "['Ani', 'Budi', 'Dika']\n"
     ]
    }
   ],
   "source": [
    "list_nama = ['Ani','Budi','Dika']\n",
    "\n",
    "print(list_nama)"
   ]
  },
  {
   "cell_type": "markdown",
   "metadata": {
    "slideshow": {
     "slide_type": "subslide"
    }
   },
   "source": [
    "#### Menambahkan nilai ke dalam List"
   ]
  },
  {
   "cell_type": "code",
   "execution_count": 3,
   "metadata": {
    "slideshow": {
     "slide_type": "subslide"
    }
   },
   "outputs": [
    {
     "name": "stdout",
     "output_type": "stream",
     "text": [
      "['Ani', 'Budi', 'Dika', 'Farah']\n"
     ]
    }
   ],
   "source": [
    "list_nama.append('Farah')\n",
    "\n",
    "print(list_nama)"
   ]
  },
  {
   "cell_type": "markdown",
   "metadata": {
    "slideshow": {
     "slide_type": "subslide"
    }
   },
   "source": [
    "#### List memperbolehkan duplikasi"
   ]
  },
  {
   "cell_type": "code",
   "execution_count": 4,
   "metadata": {
    "slideshow": {
     "slide_type": "subslide"
    }
   },
   "outputs": [
    {
     "name": "stdout",
     "output_type": "stream",
     "text": [
      "['Ani', 'Budi', 'Dika', 'Farah', 'Ani']\n"
     ]
    }
   ],
   "source": [
    "list_nama.append('Ani')\n",
    "\n",
    "print(list_nama)"
   ]
  },
  {
   "cell_type": "markdown",
   "metadata": {
    "slideshow": {
     "slide_type": "subslide"
    }
   },
   "source": [
    "<p style=\"text-align:center\"><b>Indexing</b></p>\n",
    "<table border=1>\n",
    "    <tr>\n",
    "        <td>0</td>\n",
    "        <td>1</td>\n",
    "        <td>2</td>\n",
    "    </tr>\n",
    "    <tr>\n",
    "        <td>-3</td>\n",
    "        <td>-2</td>\n",
    "        <td>-1</td>\n",
    "    </tr>\n",
    "</table>"
   ]
  },
  {
   "cell_type": "markdown",
   "metadata": {
    "slideshow": {
     "slide_type": "subslide"
    }
   },
   "source": [
    "#### Merubah nilai List"
   ]
  },
  {
   "cell_type": "code",
   "execution_count": 5,
   "metadata": {
    "scrolled": true,
    "slideshow": {
     "slide_type": "subslide"
    }
   },
   "outputs": [
    {
     "name": "stdout",
     "output_type": "stream",
     "text": [
      "['Ani', 'Budi', 'Dika', 'Farah', 'Heri']\n"
     ]
    }
   ],
   "source": [
    "list_nama[-1] = 'Heri'\n",
    "\n",
    "print(list_nama)"
   ]
  },
  {
   "cell_type": "code",
   "execution_count": 6,
   "metadata": {
    "slideshow": {
     "slide_type": "subslide"
    }
   },
   "outputs": [
    {
     "name": "stdout",
     "output_type": "stream",
     "text": [
      "['Andika', 'Budi', 'Dika', 'Farah', 'Heri']\n"
     ]
    }
   ],
   "source": [
    "list_nama[0] = 'Andika'\n",
    "\n",
    "print(list_nama)"
   ]
  },
  {
   "cell_type": "code",
   "execution_count": 7,
   "metadata": {
    "slideshow": {
     "slide_type": "subslide"
    }
   },
   "outputs": [
    {
     "name": "stdout",
     "output_type": "stream",
     "text": [
      "['Annisa', 'Budiman', 'Dika', 'Farah', 'Heri']\n"
     ]
    }
   ],
   "source": [
    "list_nama[0:2] = ['Annisa','Budiman']\n",
    "\n",
    "print(list_nama)"
   ]
  },
  {
   "cell_type": "markdown",
   "metadata": {
    "slideshow": {
     "slide_type": "subslide"
    }
   },
   "source": [
    "#### Mengakses nilai dalam list"
   ]
  },
  {
   "cell_type": "code",
   "execution_count": 8,
   "metadata": {
    "slideshow": {
     "slide_type": "subslide"
    }
   },
   "outputs": [
    {
     "name": "stdout",
     "output_type": "stream",
     "text": [
      "Annisa\n"
     ]
    }
   ],
   "source": [
    "print(list_nama[0])"
   ]
  },
  {
   "cell_type": "code",
   "execution_count": 9,
   "metadata": {
    "slideshow": {
     "slide_type": "subslide"
    }
   },
   "outputs": [
    {
     "data": {
      "text/plain": [
       "['Annisa', 'Budiman', 'Dika']"
      ]
     },
     "execution_count": 9,
     "metadata": {},
     "output_type": "execute_result"
    }
   ],
   "source": [
    "list_nama[0:3]"
   ]
  },
  {
   "cell_type": "code",
   "execution_count": 10,
   "metadata": {
    "slideshow": {
     "slide_type": "subslide"
    }
   },
   "outputs": [
    {
     "name": "stdout",
     "output_type": "stream",
     "text": [
      "Heri\n"
     ]
    }
   ],
   "source": [
    "print(list_nama[-1])"
   ]
  },
  {
   "cell_type": "code",
   "execution_count": 11,
   "metadata": {
    "slideshow": {
     "slide_type": "subslide"
    }
   },
   "outputs": [
    {
     "name": "stdout",
     "output_type": "stream",
     "text": [
      "['Dika', 'Farah']\n"
     ]
    }
   ],
   "source": [
    "print(list_nama[-3:-1])"
   ]
  },
  {
   "cell_type": "markdown",
   "metadata": {
    "slideshow": {
     "slide_type": "slide"
    }
   },
   "source": [
    "### 1.2 - Tuple<br><br>A tuple is a collection which is ordered and unchangeable."
   ]
  },
  {
   "cell_type": "markdown",
   "metadata": {
    "slideshow": {
     "slide_type": "slide"
    }
   },
   "source": [
    "### 1.3 - Set<br><br>A set is a collection which is both unordered and unindexed."
   ]
  },
  {
   "cell_type": "markdown",
   "metadata": {
    "slideshow": {
     "slide_type": "slide"
    }
   },
   "source": [
    "### 1.4- Dictionary<br><br>A dictionary is a collection which is ordered*, changeable and does not allow duplicates.<br><br>As of Python version 3.7, dictionaries are ordered. In Python 3.6 and earlier, dictionaries are unordered."
   ]
  },
  {
   "cell_type": "markdown",
   "metadata": {
    "slideshow": {
     "slide_type": "slide"
    }
   },
   "source": [
    "## 2. Intermediate Collectionary Data Types"
   ]
  },
  {
   "cell_type": "code",
   "execution_count": 12,
   "metadata": {
    "slideshow": {
     "slide_type": "subslide"
    }
   },
   "outputs": [],
   "source": [
    "import collections"
   ]
  },
  {
   "cell_type": "markdown",
   "metadata": {
    "slideshow": {
     "slide_type": "subslide"
    }
   },
   "source": [
    "### 2.1 - Counter"
   ]
  },
  {
   "cell_type": "code",
   "execution_count": 13,
   "metadata": {
    "slideshow": {
     "slide_type": "subslide"
    }
   },
   "outputs": [
    {
     "name": "stdout",
     "output_type": "stream",
     "text": [
      "Counter({4: 5, 3: 4, 1: 3, 2: 3})\n"
     ]
    }
   ],
   "source": [
    "random_list = [1,1,1,2,2,2,3,3,3,3,4,4,4,4,4]\n",
    "\n",
    "count = collections.Counter(random_list)\n",
    "print(count)"
   ]
  },
  {
   "cell_type": "code",
   "execution_count": 14,
   "metadata": {
    "slideshow": {
     "slide_type": "subslide"
    }
   },
   "outputs": [
    {
     "name": "stdout",
     "output_type": "stream",
     "text": [
      "[(4, 5), (3, 4), (1, 3), (2, 3)]\n"
     ]
    }
   ],
   "source": [
    "print(count.most_common())"
   ]
  },
  {
   "cell_type": "code",
   "execution_count": 15,
   "metadata": {
    "slideshow": {
     "slide_type": "subslide"
    }
   },
   "outputs": [
    {
     "name": "stdout",
     "output_type": "stream",
     "text": [
      "[(4, 5)]\n"
     ]
    }
   ],
   "source": [
    "print(count.most_common(1))"
   ]
  },
  {
   "cell_type": "markdown",
   "metadata": {},
   "source": [
    "### 2.2 - DefaultDict"
   ]
  },
  {
   "cell_type": "code",
   "execution_count": 16,
   "metadata": {},
   "outputs": [
    {
     "name": "stdout",
     "output_type": "stream",
     "text": [
      "defaultdict(<class 'int'>, {})\n"
     ]
    }
   ],
   "source": [
    "dd = collections.defaultdict(int)\n",
    "print(dd)"
   ]
  },
  {
   "cell_type": "code",
   "execution_count": 17,
   "metadata": {},
   "outputs": [
    {
     "name": "stdout",
     "output_type": "stream",
     "text": [
      "defaultdict(<class 'int'>, {1: 5, 2: 5, 3: 3, 4: 2, 5: 2, 6: 3})\n"
     ]
    }
   ],
   "source": [
    "list_value = [1,2,3,4,5,6,6,4,2,1,3,1,3,5,2,6,2,2,1,1]\n",
    "\n",
    "for item in list_value:\n",
    "    dd[item] += 1\n",
    "    \n",
    "print(dd)"
   ]
  },
  {
   "cell_type": "code",
   "execution_count": 18,
   "metadata": {},
   "outputs": [
    {
     "name": "stdout",
     "output_type": "stream",
     "text": [
      "defaultdict(<class 'list'>, {})\n"
     ]
    }
   ],
   "source": [
    "d_list = collections.defaultdict(list)\n",
    "print(d_list)"
   ]
  },
  {
   "cell_type": "code",
   "execution_count": 19,
   "metadata": {},
   "outputs": [
    {
     "name": "stdout",
     "output_type": "stream",
     "text": [
      "defaultdict(<class 'list'>, {0: [0], 1: [2], 2: [4], 3: [6], 4: [8], 5: [10], 6: [12], 7: [14], 8: [16], 9: [18]})\n"
     ]
    }
   ],
   "source": [
    "for n in range(10):\n",
    "    d_list[n].append(n*2)\n",
    "    \n",
    "print(d_list)"
   ]
  },
  {
   "cell_type": "code",
   "execution_count": 20,
   "metadata": {},
   "outputs": [
    {
     "name": "stdout",
     "output_type": "stream",
     "text": [
      "defaultdict(<class 'int'>, {})\n",
      "<class 'int'>\n"
     ]
    }
   ],
   "source": [
    "d_int = collections.defaultdict(int)\n",
    "print(d_int)\n",
    "print(d_int.default_factory)"
   ]
  },
  {
   "cell_type": "code",
   "execution_count": 21,
   "metadata": {},
   "outputs": [
    {
     "name": "stdout",
     "output_type": "stream",
     "text": [
      "defaultdict(<class 'int'>, {0: 0, 1: 1, 2: 4, 3: 9, 4: 16, 5: 25, 6: 36, 7: 49, 8: 64, 9: 81})\n"
     ]
    }
   ],
   "source": [
    "for n in range(10):\n",
    "    d_int[n] += n**2\n",
    "\n",
    "print(d_int)"
   ]
  },
  {
   "cell_type": "code",
   "execution_count": 22,
   "metadata": {},
   "outputs": [
    {
     "name": "stdout",
     "output_type": "stream",
     "text": [
      "defaultdict(<function <lambda> at 0x000002997D2BDD30>, {'ketan': 2000, 'coklat kacang': 5000})\n",
      "<function <lambda> at 0x000002997D2BDD30>\n"
     ]
    }
   ],
   "source": [
    "roti = {\n",
    "    'ketan':2000,\n",
    "    'coklat kacang':5000\n",
    "}\n",
    "\n",
    "roti_isi = collections.defaultdict(lambda:4000, roti)\n",
    "\n",
    "print(roti_isi)\n",
    "print(roti_isi.default_factory)"
   ]
  },
  {
   "cell_type": "code",
   "execution_count": 23,
   "metadata": {},
   "outputs": [
    {
     "name": "stdout",
     "output_type": "stream",
     "text": [
      "Harga Roti Isi Coklat :  4000\n",
      "Harga Roti Isi Ketan :  2000\n"
     ]
    }
   ],
   "source": [
    "print(\"Harga Roti Isi Coklat : \",roti_isi['coklat'])\n",
    "print(\"Harga Roti Isi Ketan : \",roti_isi['ketan'])"
   ]
  },
  {
   "cell_type": "code",
   "execution_count": 24,
   "metadata": {},
   "outputs": [],
   "source": [
    "def alternate():\n",
    "    return \"Maaf, Data Roti Tidak Tersedia\"\n",
    "\n",
    "def_func = collections.defaultdict(alternate,roti)"
   ]
  },
  {
   "cell_type": "code",
   "execution_count": 25,
   "metadata": {},
   "outputs": [
    {
     "name": "stdout",
     "output_type": "stream",
     "text": [
      "Harga Roti Isi Coklat :  Maaf, Data Roti Tidak Tersedia\n",
      "Harga Roti Isi Ketan :  2000\n"
     ]
    }
   ],
   "source": [
    "print(\"Harga Roti Isi Coklat : \",def_func['coklat'])\n",
    "print(\"Harga Roti Isi Ketan : \",def_func['ketan'])"
   ]
  },
  {
   "cell_type": "code",
   "execution_count": 26,
   "metadata": {},
   "outputs": [
    {
     "name": "stdout",
     "output_type": "stream",
     "text": [
      "dict_items([('ketan', 2000), ('coklat kacang', 5000), ('coklat', 'Maaf, Data Roti Tidak Tersedia')])\n"
     ]
    }
   ],
   "source": [
    "print(def_func.items())"
   ]
  },
  {
   "cell_type": "markdown",
   "metadata": {},
   "source": [
    "### 2.3 - NamedTuple"
   ]
  },
  {
   "cell_type": "code",
   "execution_count": 27,
   "metadata": {},
   "outputs": [],
   "source": [
    "from collections import namedtuple"
   ]
  },
  {
   "cell_type": "code",
   "execution_count": 28,
   "metadata": {},
   "outputs": [
    {
     "name": "stdout",
     "output_type": "stream",
     "text": [
      "Help on function namedtuple in module collections:\n",
      "\n",
      "namedtuple(typename, field_names, *, rename=False, defaults=None, module=None)\n",
      "    Returns a new subclass of tuple with named fields.\n",
      "    \n",
      "    >>> Point = namedtuple('Point', ['x', 'y'])\n",
      "    >>> Point.__doc__                   # docstring for the new class\n",
      "    'Point(x, y)'\n",
      "    >>> p = Point(11, y=22)             # instantiate with positional args or keywords\n",
      "    >>> p[0] + p[1]                     # indexable like a plain tuple\n",
      "    33\n",
      "    >>> x, y = p                        # unpack like a regular tuple\n",
      "    >>> x, y\n",
      "    (11, 22)\n",
      "    >>> p.x + p.y                       # fields also accessible by name\n",
      "    33\n",
      "    >>> d = p._asdict()                 # convert to a dictionary\n",
      "    >>> d['x']\n",
      "    11\n",
      "    >>> Point(**d)                      # convert from a dictionary\n",
      "    Point(x=11, y=22)\n",
      "    >>> p._replace(x=100)               # _replace() is like str.replace() but targets named fields\n",
      "    Point(x=100, y=22)\n",
      "\n"
     ]
    }
   ],
   "source": [
    "help(namedtuple)"
   ]
  },
  {
   "cell_type": "code",
   "execution_count": 29,
   "metadata": {},
   "outputs": [],
   "source": [
    "nt = namedtuple('Mahasiswa',['nama','bp','kelas_awal'])\n",
    "budi = nt(nama=\"Budi\",bp=20,kelas_awal='A')"
   ]
  },
  {
   "cell_type": "code",
   "execution_count": 30,
   "metadata": {},
   "outputs": [
    {
     "name": "stdout",
     "output_type": "stream",
     "text": [
      "Mahasiswa(nama='Budi', bp=20, kelas_awal='A')\n"
     ]
    }
   ],
   "source": [
    "print(budi)"
   ]
  },
  {
   "cell_type": "code",
   "execution_count": 31,
   "metadata": {},
   "outputs": [
    {
     "name": "stdout",
     "output_type": "stream",
     "text": [
      "Mahasiswa(nama='Ani', bp=19, kelas_awal='B')\n"
     ]
    }
   ],
   "source": [
    "ani = nt(\"Ani\",19,\"B\")\n",
    "print(ani)"
   ]
  },
  {
   "cell_type": "code",
   "execution_count": 32,
   "metadata": {},
   "outputs": [
    {
     "name": "stdout",
     "output_type": "stream",
     "text": [
      "Ani\n"
     ]
    }
   ],
   "source": [
    "print(ani.nama)"
   ]
  },
  {
   "cell_type": "markdown",
   "metadata": {},
   "source": [
    "## 3. Bonus"
   ]
  },
  {
   "cell_type": "code",
   "execution_count": 33,
   "metadata": {},
   "outputs": [],
   "source": [
    "import pandas as pd\n",
    "import collections\n",
    "from pprint import pprint"
   ]
  },
  {
   "cell_type": "code",
   "execution_count": 34,
   "metadata": {},
   "outputs": [
    {
     "data": {
      "text/html": [
       "<div>\n",
       "<style scoped>\n",
       "    .dataframe tbody tr th:only-of-type {\n",
       "        vertical-align: middle;\n",
       "    }\n",
       "\n",
       "    .dataframe tbody tr th {\n",
       "        vertical-align: top;\n",
       "    }\n",
       "\n",
       "    .dataframe thead th {\n",
       "        text-align: right;\n",
       "    }\n",
       "</style>\n",
       "<table border=\"1\" class=\"dataframe\">\n",
       "  <thead>\n",
       "    <tr style=\"text-align: right;\">\n",
       "      <th></th>\n",
       "      <th>Date</th>\n",
       "      <th>Block</th>\n",
       "      <th>Primary Type</th>\n",
       "      <th>Description</th>\n",
       "      <th>Location Description</th>\n",
       "      <th>Arrest</th>\n",
       "      <th>Domestic</th>\n",
       "      <th>District</th>\n",
       "    </tr>\n",
       "  </thead>\n",
       "  <tbody>\n",
       "    <tr>\n",
       "      <th>0</th>\n",
       "      <td>05/23/2016 05:35:00 PM</td>\n",
       "      <td>024XX W DIVISION ST</td>\n",
       "      <td>ASSAULT</td>\n",
       "      <td>SIMPLE</td>\n",
       "      <td>STREET</td>\n",
       "      <td>False</td>\n",
       "      <td>True</td>\n",
       "      <td>14</td>\n",
       "    </tr>\n",
       "    <tr>\n",
       "      <th>1</th>\n",
       "      <td>03/26/2016 08:20:00 PM</td>\n",
       "      <td>019XX W HOWARD ST</td>\n",
       "      <td>BURGLARY</td>\n",
       "      <td>FORCIBLE ENTRY</td>\n",
       "      <td>SMALL RETAIL STORE</td>\n",
       "      <td>False</td>\n",
       "      <td>False</td>\n",
       "      <td>24</td>\n",
       "    </tr>\n",
       "    <tr>\n",
       "      <th>2</th>\n",
       "      <td>04/25/2016 03:05:00 PM</td>\n",
       "      <td>001XX W 79TH ST</td>\n",
       "      <td>THEFT</td>\n",
       "      <td>RETAIL THEFT</td>\n",
       "      <td>DEPARTMENT STORE</td>\n",
       "      <td>True</td>\n",
       "      <td>False</td>\n",
       "      <td>6</td>\n",
       "    </tr>\n",
       "    <tr>\n",
       "      <th>3</th>\n",
       "      <td>04/26/2016 05:30:00 PM</td>\n",
       "      <td>010XX N PINE AVE</td>\n",
       "      <td>BATTERY</td>\n",
       "      <td>SIMPLE</td>\n",
       "      <td>SIDEWALK</td>\n",
       "      <td>False</td>\n",
       "      <td>False</td>\n",
       "      <td>15</td>\n",
       "    </tr>\n",
       "    <tr>\n",
       "      <th>4</th>\n",
       "      <td>06/19/2016 01:15:00 AM</td>\n",
       "      <td>027XX W AUGUSTA BLVD</td>\n",
       "      <td>BATTERY</td>\n",
       "      <td>AGGRAVATED: HANDGUN</td>\n",
       "      <td>SIDEWALK</td>\n",
       "      <td>False</td>\n",
       "      <td>False</td>\n",
       "      <td>12</td>\n",
       "    </tr>\n",
       "  </tbody>\n",
       "</table>\n",
       "</div>"
      ],
      "text/plain": [
       "                     Date                 Block Primary Type  \\\n",
       "0  05/23/2016 05:35:00 PM   024XX W DIVISION ST      ASSAULT   \n",
       "1  03/26/2016 08:20:00 PM     019XX W HOWARD ST     BURGLARY   \n",
       "2  04/25/2016 03:05:00 PM       001XX W 79TH ST        THEFT   \n",
       "3  04/26/2016 05:30:00 PM      010XX N PINE AVE      BATTERY   \n",
       "4  06/19/2016 01:15:00 AM  027XX W AUGUSTA BLVD      BATTERY   \n",
       "\n",
       "           Description Location Description  Arrest  Domestic  District  \n",
       "0               SIMPLE               STREET   False      True        14  \n",
       "1       FORCIBLE ENTRY   SMALL RETAIL STORE   False     False        24  \n",
       "2         RETAIL THEFT     DEPARTMENT STORE    True     False         6  \n",
       "3               SIMPLE             SIDEWALK   False     False        15  \n",
       "4  AGGRAVATED: HANDGUN             SIDEWALK   False     False        12  "
      ]
     },
     "execution_count": 34,
     "metadata": {},
     "output_type": "execute_result"
    }
   ],
   "source": [
    "chicago_crime = pd.read_csv('https://raw.githubusercontent.com/KelvinMulyawan/Gudang/master/crime_sampler.csv')\n",
    "chicago_crime.head()"
   ]
  },
  {
   "cell_type": "code",
   "execution_count": 35,
   "metadata": {},
   "outputs": [
    {
     "data": {
      "text/plain": [
       "dtype('O')"
      ]
     },
     "execution_count": 35,
     "metadata": {},
     "output_type": "execute_result"
    }
   ],
   "source": [
    "chicago_crime['Date'].dtype"
   ]
  },
  {
   "cell_type": "code",
   "execution_count": 36,
   "metadata": {},
   "outputs": [
    {
     "data": {
      "text/plain": [
       "dtype('<M8[ns]')"
      ]
     },
     "execution_count": 36,
     "metadata": {},
     "output_type": "execute_result"
    }
   ],
   "source": [
    "chicago_crime['Date'] = pd.to_datetime(chicago_crime['Date'])\n",
    "chicago_crime['Date'].dtype"
   ]
  },
  {
   "cell_type": "code",
   "execution_count": 37,
   "metadata": {},
   "outputs": [
    {
     "data": {
      "text/plain": [
       "0   2016-05-23 17:35:00\n",
       "1   2016-03-26 20:20:00\n",
       "2   2016-04-25 15:05:00\n",
       "3   2016-04-26 17:30:00\n",
       "4   2016-06-19 01:15:00\n",
       "Name: Date, dtype: datetime64[ns]"
      ]
     },
     "execution_count": 37,
     "metadata": {},
     "output_type": "execute_result"
    }
   ],
   "source": [
    "chicago_crime['Date'].head()"
   ]
  },
  {
   "cell_type": "code",
   "execution_count": 38,
   "metadata": {},
   "outputs": [
    {
     "data": {
      "text/html": [
       "<div>\n",
       "<style scoped>\n",
       "    .dataframe tbody tr th:only-of-type {\n",
       "        vertical-align: middle;\n",
       "    }\n",
       "\n",
       "    .dataframe tbody tr th {\n",
       "        vertical-align: top;\n",
       "    }\n",
       "\n",
       "    .dataframe thead th {\n",
       "        text-align: right;\n",
       "    }\n",
       "</style>\n",
       "<table border=\"1\" class=\"dataframe\">\n",
       "  <thead>\n",
       "    <tr style=\"text-align: right;\">\n",
       "      <th></th>\n",
       "      <th>Date</th>\n",
       "      <th>Block</th>\n",
       "      <th>Primary Type</th>\n",
       "      <th>Description</th>\n",
       "      <th>Location Description</th>\n",
       "      <th>Arrest</th>\n",
       "      <th>Domestic</th>\n",
       "      <th>District</th>\n",
       "    </tr>\n",
       "  </thead>\n",
       "  <tbody>\n",
       "    <tr>\n",
       "      <th>0</th>\n",
       "      <td>2016-05-23 17:35:00</td>\n",
       "      <td>024XX W DIVISION ST</td>\n",
       "      <td>ASSAULT</td>\n",
       "      <td>SIMPLE</td>\n",
       "      <td>STREET</td>\n",
       "      <td>False</td>\n",
       "      <td>True</td>\n",
       "      <td>14</td>\n",
       "    </tr>\n",
       "    <tr>\n",
       "      <th>1</th>\n",
       "      <td>2016-03-26 20:20:00</td>\n",
       "      <td>019XX W HOWARD ST</td>\n",
       "      <td>BURGLARY</td>\n",
       "      <td>FORCIBLE ENTRY</td>\n",
       "      <td>SMALL RETAIL STORE</td>\n",
       "      <td>False</td>\n",
       "      <td>False</td>\n",
       "      <td>24</td>\n",
       "    </tr>\n",
       "    <tr>\n",
       "      <th>2</th>\n",
       "      <td>2016-04-25 15:05:00</td>\n",
       "      <td>001XX W 79TH ST</td>\n",
       "      <td>THEFT</td>\n",
       "      <td>RETAIL THEFT</td>\n",
       "      <td>DEPARTMENT STORE</td>\n",
       "      <td>True</td>\n",
       "      <td>False</td>\n",
       "      <td>6</td>\n",
       "    </tr>\n",
       "    <tr>\n",
       "      <th>3</th>\n",
       "      <td>2016-04-26 17:30:00</td>\n",
       "      <td>010XX N PINE AVE</td>\n",
       "      <td>BATTERY</td>\n",
       "      <td>SIMPLE</td>\n",
       "      <td>SIDEWALK</td>\n",
       "      <td>False</td>\n",
       "      <td>False</td>\n",
       "      <td>15</td>\n",
       "    </tr>\n",
       "    <tr>\n",
       "      <th>4</th>\n",
       "      <td>2016-06-19 01:15:00</td>\n",
       "      <td>027XX W AUGUSTA BLVD</td>\n",
       "      <td>BATTERY</td>\n",
       "      <td>AGGRAVATED: HANDGUN</td>\n",
       "      <td>SIDEWALK</td>\n",
       "      <td>False</td>\n",
       "      <td>False</td>\n",
       "      <td>12</td>\n",
       "    </tr>\n",
       "  </tbody>\n",
       "</table>\n",
       "</div>"
      ],
      "text/plain": [
       "                 Date                 Block Primary Type          Description  \\\n",
       "0 2016-05-23 17:35:00   024XX W DIVISION ST      ASSAULT               SIMPLE   \n",
       "1 2016-03-26 20:20:00     019XX W HOWARD ST     BURGLARY       FORCIBLE ENTRY   \n",
       "2 2016-04-25 15:05:00       001XX W 79TH ST        THEFT         RETAIL THEFT   \n",
       "3 2016-04-26 17:30:00      010XX N PINE AVE      BATTERY               SIMPLE   \n",
       "4 2016-06-19 01:15:00  027XX W AUGUSTA BLVD      BATTERY  AGGRAVATED: HANDGUN   \n",
       "\n",
       "  Location Description  Arrest  Domestic  District  \n",
       "0               STREET   False      True        14  \n",
       "1   SMALL RETAIL STORE   False     False        24  \n",
       "2     DEPARTMENT STORE    True     False         6  \n",
       "3             SIDEWALK   False     False        15  \n",
       "4             SIDEWALK   False     False        12  "
      ]
     },
     "execution_count": 38,
     "metadata": {},
     "output_type": "execute_result"
    }
   ],
   "source": [
    "chicago_crime.head()"
   ]
  },
  {
   "cell_type": "code",
   "execution_count": 39,
   "metadata": {},
   "outputs": [
    {
     "data": {
      "text/plain": [
       "(15000, 8)"
      ]
     },
     "execution_count": 39,
     "metadata": {},
     "output_type": "execute_result"
    }
   ],
   "source": [
    "chicago_crime.shape"
   ]
  },
  {
   "cell_type": "code",
   "execution_count": 40,
   "metadata": {},
   "outputs": [
    {
     "name": "stdout",
     "output_type": "stream",
     "text": [
      "Counter({False: 12139, True: 2861})\n"
     ]
    }
   ],
   "source": [
    "arrest_or_not = collections.Counter(chicago_crime['Arrest'])\n",
    "print(arrest_or_not)"
   ]
  },
  {
   "cell_type": "code",
   "execution_count": 41,
   "metadata": {},
   "outputs": [
    {
     "name": "stdout",
     "output_type": "stream",
     "text": [
      "5\n",
      "3\n",
      "4\n",
      "4\n",
      "6\n"
     ]
    }
   ],
   "source": [
    "for date in chicago_crime['Date'].head():\n",
    "    print(date.month)"
   ]
  },
  {
   "cell_type": "code",
   "execution_count": 42,
   "metadata": {},
   "outputs": [
    {
     "name": "stdout",
     "output_type": "stream",
     "text": [
      "[(1, 1948), (2, 1862), (7, 1257), (3, 1223), (8, 1218)]\n"
     ]
    }
   ],
   "source": [
    "crime_month = collections.Counter()\n",
    "\n",
    "for date in chicago_crime['Date']:\n",
    "    crime_month[date.month] += 1\n",
    "    \n",
    "pprint(crime_month.most_common(5))"
   ]
  },
  {
   "cell_type": "code",
   "execution_count": 43,
   "metadata": {},
   "outputs": [
    {
     "name": "stdout",
     "output_type": "stream",
     "text": [
      "[('STREET', 3393),\n",
      " ('RESIDENCE', 2493),\n",
      " ('APARTMENT', 2020),\n",
      " ('SIDEWALK', 1282),\n",
      " ('OTHER', 630)]\n"
     ]
    }
   ],
   "source": [
    "loc = collections.Counter()\n",
    "\n",
    "for lokasi in chicago_crime['Location Description']:\n",
    "    loc[lokasi] += 1\n",
    "    \n",
    "pprint(loc.most_common(5))"
   ]
  },
  {
   "cell_type": "code",
   "execution_count": 44,
   "metadata": {},
   "outputs": [
    {
     "data": {
      "text/html": [
       "<div>\n",
       "<style scoped>\n",
       "    .dataframe tbody tr th:only-of-type {\n",
       "        vertical-align: middle;\n",
       "    }\n",
       "\n",
       "    .dataframe tbody tr th {\n",
       "        vertical-align: top;\n",
       "    }\n",
       "\n",
       "    .dataframe thead th {\n",
       "        text-align: right;\n",
       "    }\n",
       "</style>\n",
       "<table border=\"1\" class=\"dataframe\">\n",
       "  <thead>\n",
       "    <tr style=\"text-align: right;\">\n",
       "      <th></th>\n",
       "      <th>Date</th>\n",
       "      <th>Block</th>\n",
       "      <th>Primary Type</th>\n",
       "      <th>Description</th>\n",
       "      <th>Location Description</th>\n",
       "      <th>Arrest</th>\n",
       "      <th>Domestic</th>\n",
       "      <th>District</th>\n",
       "    </tr>\n",
       "  </thead>\n",
       "  <tbody>\n",
       "    <tr>\n",
       "      <th>0</th>\n",
       "      <td>2016-05-23 17:35:00</td>\n",
       "      <td>024XX W DIVISION ST</td>\n",
       "      <td>ASSAULT</td>\n",
       "      <td>SIMPLE</td>\n",
       "      <td>STREET</td>\n",
       "      <td>False</td>\n",
       "      <td>True</td>\n",
       "      <td>14</td>\n",
       "    </tr>\n",
       "    <tr>\n",
       "      <th>1</th>\n",
       "      <td>2016-03-26 20:20:00</td>\n",
       "      <td>019XX W HOWARD ST</td>\n",
       "      <td>BURGLARY</td>\n",
       "      <td>FORCIBLE ENTRY</td>\n",
       "      <td>SMALL RETAIL STORE</td>\n",
       "      <td>False</td>\n",
       "      <td>False</td>\n",
       "      <td>24</td>\n",
       "    </tr>\n",
       "    <tr>\n",
       "      <th>2</th>\n",
       "      <td>2016-04-25 15:05:00</td>\n",
       "      <td>001XX W 79TH ST</td>\n",
       "      <td>THEFT</td>\n",
       "      <td>RETAIL THEFT</td>\n",
       "      <td>DEPARTMENT STORE</td>\n",
       "      <td>True</td>\n",
       "      <td>False</td>\n",
       "      <td>6</td>\n",
       "    </tr>\n",
       "    <tr>\n",
       "      <th>3</th>\n",
       "      <td>2016-04-26 17:30:00</td>\n",
       "      <td>010XX N PINE AVE</td>\n",
       "      <td>BATTERY</td>\n",
       "      <td>SIMPLE</td>\n",
       "      <td>SIDEWALK</td>\n",
       "      <td>False</td>\n",
       "      <td>False</td>\n",
       "      <td>15</td>\n",
       "    </tr>\n",
       "    <tr>\n",
       "      <th>4</th>\n",
       "      <td>2016-06-19 01:15:00</td>\n",
       "      <td>027XX W AUGUSTA BLVD</td>\n",
       "      <td>BATTERY</td>\n",
       "      <td>AGGRAVATED: HANDGUN</td>\n",
       "      <td>SIDEWALK</td>\n",
       "      <td>False</td>\n",
       "      <td>False</td>\n",
       "      <td>12</td>\n",
       "    </tr>\n",
       "  </tbody>\n",
       "</table>\n",
       "</div>"
      ],
      "text/plain": [
       "                 Date                 Block Primary Type          Description  \\\n",
       "0 2016-05-23 17:35:00   024XX W DIVISION ST      ASSAULT               SIMPLE   \n",
       "1 2016-03-26 20:20:00     019XX W HOWARD ST     BURGLARY       FORCIBLE ENTRY   \n",
       "2 2016-04-25 15:05:00       001XX W 79TH ST        THEFT         RETAIL THEFT   \n",
       "3 2016-04-26 17:30:00      010XX N PINE AVE      BATTERY               SIMPLE   \n",
       "4 2016-06-19 01:15:00  027XX W AUGUSTA BLVD      BATTERY  AGGRAVATED: HANDGUN   \n",
       "\n",
       "  Location Description  Arrest  Domestic  District  \n",
       "0               STREET   False      True        14  \n",
       "1   SMALL RETAIL STORE   False     False        24  \n",
       "2     DEPARTMENT STORE    True     False         6  \n",
       "3             SIDEWALK   False     False        15  \n",
       "4             SIDEWALK   False     False        12  "
      ]
     },
     "execution_count": 44,
     "metadata": {},
     "output_type": "execute_result"
    }
   ],
   "source": [
    "chicago_crime.head()"
   ]
  },
  {
   "cell_type": "markdown",
   "metadata": {},
   "source": [
    "Jumlah yang di-arrest per block"
   ]
  },
  {
   "cell_type": "code",
   "execution_count": 45,
   "metadata": {},
   "outputs": [
    {
     "name": "stdout",
     "output_type": "stream",
     "text": [
      "[('001XX N STATE ST', 31),\n",
      " ('076XX S CICERO AVE', 11),\n",
      " ('083XX S STEWART AVE', 10)]\n"
     ]
    }
   ],
   "source": [
    "jumlah_arrest_per_block = collections.Counter()\n",
    "\n",
    "for block, arrest in zip(chicago_crime.Block,chicago_crime.Arrest):\n",
    "    if arrest == True:\n",
    "        jumlah_arrest_per_block[block] += 1\n",
    "    else:\n",
    "        pass\n",
    "    \n",
    "pprint(jumlah_arrest_per_block.most_common(3))"
   ]
  }
 ],
 "metadata": {
  "celltoolbar": "Slideshow",
  "kernelspec": {
   "display_name": "Python 3",
   "language": "python",
   "name": "python3"
  },
  "language_info": {
   "codemirror_mode": {
    "name": "ipython",
    "version": 3
   },
   "file_extension": ".py",
   "mimetype": "text/x-python",
   "name": "python",
   "nbconvert_exporter": "python",
   "pygments_lexer": "ipython3",
   "version": "3.8.5"
  }
 },
 "nbformat": 4,
 "nbformat_minor": 4
}
