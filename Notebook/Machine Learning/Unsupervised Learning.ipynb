{
  "nbformat": 4,
  "nbformat_minor": 0,
  "metadata": {
    "colab": {
      "name": "Unsupervised Learning.ipynb",
      "provenance": [],
      "authorship_tag": "ABX9TyN747Ai/2ZalRRMUZPq1CcA",
      "include_colab_link": true
    },
    "kernelspec": {
      "name": "python3",
      "display_name": "Python 3"
    },
    "language_info": {
      "name": "python"
    }
  },
  "cells": [
    {
      "cell_type": "markdown",
      "metadata": {
        "id": "view-in-github",
        "colab_type": "text"
      },
      "source": [
        "<a href=\"https://colab.research.google.com/github/KelvinMulyawan/Pythonista/blob/main/Notebook/Machine%20Learning/Unsupervised%20Learning.ipynb\" target=\"_parent\"><img src=\"https://colab.research.google.com/assets/colab-badge.svg\" alt=\"Open In Colab\"/></a>"
      ]
    },
    {
      "cell_type": "markdown",
      "metadata": {
        "id": "UcltePW_tcMO"
      },
      "source": [
        "### 1 - Clustering for dataset exploration"
      ]
    },
    {
      "cell_type": "code",
      "metadata": {
        "id": "pE_sLQBgXzbW"
      },
      "source": [
        "import pandas as pd\n",
        "import numpy as np\n",
        "import matplotlib.pyplot as plt\n",
        "import seaborn as sns\n",
        "\n",
        "from sklearn.cluster import KMeans\n",
        "from sklearn.preprocessing import LabelEncoder\n",
        "from sklearn.metrics import silhouette_score\n",
        "from yellowbrick.cluster import SilhouetteVisualizer"
      ],
      "execution_count": null,
      "outputs": []
    },
    {
      "cell_type": "markdown",
      "metadata": {
        "id": "4khkjaCVtdgr"
      },
      "source": [
        "### 2 - Visualization with hierarchical clustering and t-SNE"
      ]
    },
    {
      "cell_type": "markdown",
      "metadata": {
        "id": "lJl6gi5QtqPH"
      },
      "source": [
        "### 3 - Decorrelating your data and dimension reduction"
      ]
    },
    {
      "cell_type": "markdown",
      "metadata": {
        "id": "3oXEF4kHttS5"
      },
      "source": [
        "### 4 - Discovering interpretable features"
      ]
    }
  ]
}