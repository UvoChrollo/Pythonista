{
  "nbformat": 4,
  "nbformat_minor": 0,
  "metadata": {
    "kernelspec": {
      "display_name": "Python 3",
      "language": "python",
      "name": "python3"
    },
    "language_info": {
      "codemirror_mode": {
        "name": "ipython",
        "version": 3
      },
      "file_extension": ".py",
      "mimetype": "text/x-python",
      "name": "python",
      "nbconvert_exporter": "python",
      "pygments_lexer": "ipython3",
      "version": "3.8.5"
    },
    "colab": {
      "name": "Reshaping Data with Pandas.ipynb",
      "provenance": []
    }
  },
  "cells": [
    {
      "cell_type": "code",
      "metadata": {
        "id": "_MpJoVhFOChs"
      },
      "source": [
        "import pandas as pd"
      ],
      "execution_count": null,
      "outputs": []
    },
    {
      "cell_type": "markdown",
      "metadata": {
        "id": "31XSZ_b6OiVt"
      },
      "source": [
        "### 1 - Introduction to Data Reshaping"
      ]
    },
    {
      "cell_type": "markdown",
      "metadata": {
        "id": "ErS66An-OhNU"
      },
      "source": [
        "### 2 - Converting Between Wide and Long Format"
      ]
    },
    {
      "cell_type": "markdown",
      "metadata": {
        "id": "jkGlVGA5Odn7"
      },
      "source": [
        "### 3 - Stacking and Unstacking DataFrames"
      ]
    },
    {
      "cell_type": "markdown",
      "metadata": {
        "id": "45C5mDKYOY9H"
      },
      "source": [
        "### 4 - Advanced Reshaping"
      ]
    }
  ]
}