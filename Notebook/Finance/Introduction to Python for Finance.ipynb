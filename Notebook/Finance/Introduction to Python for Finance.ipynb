{
  "nbformat": 4,
  "nbformat_minor": 0,
  "metadata": {
    "colab": {
      "name": "Introduction to Python for Finance.ipynb",
      "provenance": [],
      "authorship_tag": "ABX9TyO/j/xGHUwe16sMGnaCLwYk"
    },
    "kernelspec": {
      "name": "python3",
      "display_name": "Python 3"
    },
    "language_info": {
      "name": "python"
    }
  },
  "cells": [
    {
      "cell_type": "code",
      "metadata": {
        "id": "yQ2ybJxjQMyc"
      },
      "source": [
        "import pandas as pd\n",
        "\n",
        "url = \"https://raw.githubusercontent.com/KelvinMulyawan/Gudang/master/sector.txt\"\n",
        "\n",
        "sp_500 = pd.read_csv(url,sep=\",\")"
      ],
      "execution_count": 1,
      "outputs": []
    },
    {
      "cell_type": "code",
      "metadata": {
        "colab": {
          "base_uri": "https://localhost:8080/",
          "height": 200
        },
        "id": "MZs8QrkpUjrB",
        "outputId": "41b7bd85-a3b4-487c-fbe1-fc398e2f0384"
      },
      "source": [
        "sp_500.head()"
      ],
      "execution_count": 2,
      "outputs": [
        {
          "output_type": "execute_result",
          "data": {
            "text/html": [
              "<div>\n",
              "<style scoped>\n",
              "    .dataframe tbody tr th:only-of-type {\n",
              "        vertical-align: middle;\n",
              "    }\n",
              "\n",
              "    .dataframe tbody tr th {\n",
              "        vertical-align: top;\n",
              "    }\n",
              "\n",
              "    .dataframe thead th {\n",
              "        text-align: right;\n",
              "    }\n",
              "</style>\n",
              "<table border=\"1\" class=\"dataframe\">\n",
              "  <thead>\n",
              "    <tr style=\"text-align: right;\">\n",
              "      <th></th>\n",
              "      <th>Name</th>\n",
              "      <th>Sector</th>\n",
              "      <th>Price</th>\n",
              "      <th>EPS</th>\n",
              "    </tr>\n",
              "  </thead>\n",
              "  <tbody>\n",
              "    <tr>\n",
              "      <th>0</th>\n",
              "      <td>Apple Inc</td>\n",
              "      <td>Information Technology</td>\n",
              "      <td>170.12</td>\n",
              "      <td>9.20</td>\n",
              "    </tr>\n",
              "    <tr>\n",
              "      <th>1</th>\n",
              "      <td>Abbvie Inc</td>\n",
              "      <td>Health Care</td>\n",
              "      <td>93.29</td>\n",
              "      <td>5.31</td>\n",
              "    </tr>\n",
              "    <tr>\n",
              "      <th>2</th>\n",
              "      <td>Abbott Laboratories</td>\n",
              "      <td>Health Care</td>\n",
              "      <td>55.28</td>\n",
              "      <td>2.41</td>\n",
              "    </tr>\n",
              "    <tr>\n",
              "      <th>3</th>\n",
              "      <td>Accenture Plc</td>\n",
              "      <td>Information Technology</td>\n",
              "      <td>145.30</td>\n",
              "      <td>5.91</td>\n",
              "    </tr>\n",
              "    <tr>\n",
              "      <th>4</th>\n",
              "      <td>Allergan Plc</td>\n",
              "      <td>Health Care</td>\n",
              "      <td>171.81</td>\n",
              "      <td>15.42</td>\n",
              "    </tr>\n",
              "  </tbody>\n",
              "</table>\n",
              "</div>"
            ],
            "text/plain": [
              "                  Name                  Sector   Price    EPS\n",
              "0            Apple Inc  Information Technology  170.12   9.20\n",
              "1           Abbvie Inc             Health Care   93.29   5.31\n",
              "2  Abbott Laboratories             Health Care   55.28   2.41\n",
              "3        Accenture Plc  Information Technology  145.30   5.91\n",
              "4         Allergan Plc             Health Care  171.81  15.42"
            ]
          },
          "metadata": {},
          "execution_count": 2
        }
      ]
    },
    {
      "cell_type": "code",
      "metadata": {
        "colab": {
          "base_uri": "https://localhost:8080/",
          "height": 200
        },
        "id": "4LWMiRfvWC-5",
        "outputId": "47e9cf83-8513-4df5-8f59-4bdd0bab64b1"
      },
      "source": [
        "sp_500['P/E Ratio'] = sp_500['Price'] / sp_500['EPS']\n",
        "sp_500.head()"
      ],
      "execution_count": 3,
      "outputs": [
        {
          "output_type": "execute_result",
          "data": {
            "text/html": [
              "<div>\n",
              "<style scoped>\n",
              "    .dataframe tbody tr th:only-of-type {\n",
              "        vertical-align: middle;\n",
              "    }\n",
              "\n",
              "    .dataframe tbody tr th {\n",
              "        vertical-align: top;\n",
              "    }\n",
              "\n",
              "    .dataframe thead th {\n",
              "        text-align: right;\n",
              "    }\n",
              "</style>\n",
              "<table border=\"1\" class=\"dataframe\">\n",
              "  <thead>\n",
              "    <tr style=\"text-align: right;\">\n",
              "      <th></th>\n",
              "      <th>Name</th>\n",
              "      <th>Sector</th>\n",
              "      <th>Price</th>\n",
              "      <th>EPS</th>\n",
              "      <th>P/E Ratio</th>\n",
              "    </tr>\n",
              "  </thead>\n",
              "  <tbody>\n",
              "    <tr>\n",
              "      <th>0</th>\n",
              "      <td>Apple Inc</td>\n",
              "      <td>Information Technology</td>\n",
              "      <td>170.12</td>\n",
              "      <td>9.20</td>\n",
              "      <td>18.491304</td>\n",
              "    </tr>\n",
              "    <tr>\n",
              "      <th>1</th>\n",
              "      <td>Abbvie Inc</td>\n",
              "      <td>Health Care</td>\n",
              "      <td>93.29</td>\n",
              "      <td>5.31</td>\n",
              "      <td>17.568738</td>\n",
              "    </tr>\n",
              "    <tr>\n",
              "      <th>2</th>\n",
              "      <td>Abbott Laboratories</td>\n",
              "      <td>Health Care</td>\n",
              "      <td>55.28</td>\n",
              "      <td>2.41</td>\n",
              "      <td>22.937759</td>\n",
              "    </tr>\n",
              "    <tr>\n",
              "      <th>3</th>\n",
              "      <td>Accenture Plc</td>\n",
              "      <td>Information Technology</td>\n",
              "      <td>145.30</td>\n",
              "      <td>5.91</td>\n",
              "      <td>24.585448</td>\n",
              "    </tr>\n",
              "    <tr>\n",
              "      <th>4</th>\n",
              "      <td>Allergan Plc</td>\n",
              "      <td>Health Care</td>\n",
              "      <td>171.81</td>\n",
              "      <td>15.42</td>\n",
              "      <td>11.142023</td>\n",
              "    </tr>\n",
              "  </tbody>\n",
              "</table>\n",
              "</div>"
            ],
            "text/plain": [
              "                  Name                  Sector   Price    EPS  P/E Ratio\n",
              "0            Apple Inc  Information Technology  170.12   9.20  18.491304\n",
              "1           Abbvie Inc             Health Care   93.29   5.31  17.568738\n",
              "2  Abbott Laboratories             Health Care   55.28   2.41  22.937759\n",
              "3        Accenture Plc  Information Technology  145.30   5.91  24.585448\n",
              "4         Allergan Plc             Health Care  171.81  15.42  11.142023"
            ]
          },
          "metadata": {},
          "execution_count": 3
        }
      ]
    },
    {
      "cell_type": "code",
      "metadata": {
        "colab": {
          "base_uri": "https://localhost:8080/",
          "height": 200
        },
        "id": "xqSMSsQmfox9",
        "outputId": "d1e43397-cc0e-47db-ff0a-46b6375337bf"
      },
      "source": [
        "sp_it = sp_500[sp_500['Sector']=='Information Technology']\n",
        "sp_it.head()"
      ],
      "execution_count": 4,
      "outputs": [
        {
          "output_type": "execute_result",
          "data": {
            "text/html": [
              "<div>\n",
              "<style scoped>\n",
              "    .dataframe tbody tr th:only-of-type {\n",
              "        vertical-align: middle;\n",
              "    }\n",
              "\n",
              "    .dataframe tbody tr th {\n",
              "        vertical-align: top;\n",
              "    }\n",
              "\n",
              "    .dataframe thead th {\n",
              "        text-align: right;\n",
              "    }\n",
              "</style>\n",
              "<table border=\"1\" class=\"dataframe\">\n",
              "  <thead>\n",
              "    <tr style=\"text-align: right;\">\n",
              "      <th></th>\n",
              "      <th>Name</th>\n",
              "      <th>Sector</th>\n",
              "      <th>Price</th>\n",
              "      <th>EPS</th>\n",
              "      <th>P/E Ratio</th>\n",
              "    </tr>\n",
              "  </thead>\n",
              "  <tbody>\n",
              "    <tr>\n",
              "      <th>0</th>\n",
              "      <td>Apple Inc</td>\n",
              "      <td>Information Technology</td>\n",
              "      <td>170.12</td>\n",
              "      <td>9.20</td>\n",
              "      <td>18.491304</td>\n",
              "    </tr>\n",
              "    <tr>\n",
              "      <th>3</th>\n",
              "      <td>Accenture Plc</td>\n",
              "      <td>Information Technology</td>\n",
              "      <td>145.30</td>\n",
              "      <td>5.91</td>\n",
              "      <td>24.585448</td>\n",
              "    </tr>\n",
              "    <tr>\n",
              "      <th>26</th>\n",
              "      <td>Cisco Systems Inc</td>\n",
              "      <td>Information Technology</td>\n",
              "      <td>36.38</td>\n",
              "      <td>2.17</td>\n",
              "      <td>16.764977</td>\n",
              "    </tr>\n",
              "    <tr>\n",
              "      <th>36</th>\n",
              "      <td>Facebook Inc</td>\n",
              "      <td>Information Technology</td>\n",
              "      <td>179.14</td>\n",
              "      <td>5.19</td>\n",
              "      <td>34.516378</td>\n",
              "    </tr>\n",
              "    <tr>\n",
              "      <th>44</th>\n",
              "      <td>Alphabet Class C</td>\n",
              "      <td>Information Technology</td>\n",
              "      <td>1018.48</td>\n",
              "      <td>29.87</td>\n",
              "      <td>34.097087</td>\n",
              "    </tr>\n",
              "  </tbody>\n",
              "</table>\n",
              "</div>"
            ],
            "text/plain": [
              "                 Name                  Sector    Price    EPS  P/E Ratio\n",
              "0           Apple Inc  Information Technology   170.12   9.20  18.491304\n",
              "3       Accenture Plc  Information Technology   145.30   5.91  24.585448\n",
              "26  Cisco Systems Inc  Information Technology    36.38   2.17  16.764977\n",
              "36       Facebook Inc  Information Technology   179.14   5.19  34.516378\n",
              "44   Alphabet Class C  Information Technology  1018.48  29.87  34.097087"
            ]
          },
          "metadata": {},
          "execution_count": 4
        }
      ]
    },
    {
      "cell_type": "code",
      "metadata": {
        "colab": {
          "base_uri": "https://localhost:8080/",
          "height": 200
        },
        "id": "3tVxUDvofxhA",
        "outputId": "ccc637cc-925d-4c50-edb5-40d7bb72e3b2"
      },
      "source": [
        "cust_stap = sp_500[sp_500['Sector']=='Consumer Staples']\n",
        "cust_stap.head()"
      ],
      "execution_count": 6,
      "outputs": [
        {
          "output_type": "execute_result",
          "data": {
            "text/html": [
              "<div>\n",
              "<style scoped>\n",
              "    .dataframe tbody tr th:only-of-type {\n",
              "        vertical-align: middle;\n",
              "    }\n",
              "\n",
              "    .dataframe tbody tr th {\n",
              "        vertical-align: top;\n",
              "    }\n",
              "\n",
              "    .dataframe thead th {\n",
              "        text-align: right;\n",
              "    }\n",
              "</style>\n",
              "<table border=\"1\" class=\"dataframe\">\n",
              "  <thead>\n",
              "    <tr style=\"text-align: right;\">\n",
              "      <th></th>\n",
              "      <th>Name</th>\n",
              "      <th>Sector</th>\n",
              "      <th>Price</th>\n",
              "      <th>EPS</th>\n",
              "      <th>P/E Ratio</th>\n",
              "    </tr>\n",
              "  </thead>\n",
              "  <tbody>\n",
              "    <tr>\n",
              "      <th>21</th>\n",
              "      <td>Colgate-Palmolive Company</td>\n",
              "      <td>Consumer Staples</td>\n",
              "      <td>72.16</td>\n",
              "      <td>2.87</td>\n",
              "      <td>25.142857</td>\n",
              "    </tr>\n",
              "    <tr>\n",
              "      <th>25</th>\n",
              "      <td>Costco Wholesale</td>\n",
              "      <td>Consumer Staples</td>\n",
              "      <td>171.22</td>\n",
              "      <td>5.82</td>\n",
              "      <td>29.419244</td>\n",
              "    </tr>\n",
              "    <tr>\n",
              "      <th>27</th>\n",
              "      <td>CVS Corp</td>\n",
              "      <td>Consumer Staples</td>\n",
              "      <td>70.18</td>\n",
              "      <td>5.71</td>\n",
              "      <td>12.290718</td>\n",
              "    </tr>\n",
              "    <tr>\n",
              "      <th>54</th>\n",
              "      <td>Kraft Heinz Co</td>\n",
              "      <td>Consumer Staples</td>\n",
              "      <td>80.59</td>\n",
              "      <td>3.56</td>\n",
              "      <td>22.637640</td>\n",
              "    </tr>\n",
              "    <tr>\n",
              "      <th>56</th>\n",
              "      <td>Coca-Cola Company</td>\n",
              "      <td>Consumer Staples</td>\n",
              "      <td>45.60</td>\n",
              "      <td>1.89</td>\n",
              "      <td>24.126984</td>\n",
              "    </tr>\n",
              "  </tbody>\n",
              "</table>\n",
              "</div>"
            ],
            "text/plain": [
              "                         Name            Sector   Price   EPS  P/E Ratio\n",
              "21  Colgate-Palmolive Company  Consumer Staples   72.16  2.87  25.142857\n",
              "25           Costco Wholesale  Consumer Staples  171.22  5.82  29.419244\n",
              "27                   CVS Corp  Consumer Staples   70.18  5.71  12.290718\n",
              "54             Kraft Heinz Co  Consumer Staples   80.59  3.56  22.637640\n",
              "56          Coca-Cola Company  Consumer Staples   45.60  1.89  24.126984"
            ]
          },
          "metadata": {},
          "execution_count": 6
        }
      ]
    },
    {
      "cell_type": "code",
      "metadata": {
        "colab": {
          "base_uri": "https://localhost:8080/",
          "height": 138
        },
        "id": "fWo8lpaOf-Hy",
        "outputId": "71b33461-9087-44df-cbba-1efddeeb2eb0"
      },
      "source": [
        "sp_it[['P/E Ratio']].agg(['mean','median','std'])"
      ],
      "execution_count": 8,
      "outputs": [
        {
          "output_type": "execute_result",
          "data": {
            "text/html": [
              "<div>\n",
              "<style scoped>\n",
              "    .dataframe tbody tr th:only-of-type {\n",
              "        vertical-align: middle;\n",
              "    }\n",
              "\n",
              "    .dataframe tbody tr th {\n",
              "        vertical-align: top;\n",
              "    }\n",
              "\n",
              "    .dataframe thead th {\n",
              "        text-align: right;\n",
              "    }\n",
              "</style>\n",
              "<table border=\"1\" class=\"dataframe\">\n",
              "  <thead>\n",
              "    <tr style=\"text-align: right;\">\n",
              "      <th></th>\n",
              "      <th>P/E Ratio</th>\n",
              "    </tr>\n",
              "  </thead>\n",
              "  <tbody>\n",
              "    <tr>\n",
              "      <th>mean</th>\n",
              "      <td>26.333055</td>\n",
              "    </tr>\n",
              "    <tr>\n",
              "      <th>median</th>\n",
              "      <td>24.405325</td>\n",
              "    </tr>\n",
              "    <tr>\n",
              "      <th>std</th>\n",
              "      <td>11.247530</td>\n",
              "    </tr>\n",
              "  </tbody>\n",
              "</table>\n",
              "</div>"
            ],
            "text/plain": [
              "        P/E Ratio\n",
              "mean    26.333055\n",
              "median  24.405325\n",
              "std     11.247530"
            ]
          },
          "metadata": {},
          "execution_count": 8
        }
      ]
    },
    {
      "cell_type": "code",
      "metadata": {
        "colab": {
          "base_uri": "https://localhost:8080/",
          "height": 138
        },
        "id": "fT0HT0G_gNeU",
        "outputId": "70f50e0f-1621-473d-b01e-701ccfa78cdd"
      },
      "source": [
        "cust_stap[['P/E Ratio']].agg(['mean','median','std'])"
      ],
      "execution_count": 9,
      "outputs": [
        {
          "output_type": "execute_result",
          "data": {
            "text/html": [
              "<div>\n",
              "<style scoped>\n",
              "    .dataframe tbody tr th:only-of-type {\n",
              "        vertical-align: middle;\n",
              "    }\n",
              "\n",
              "    .dataframe tbody tr th {\n",
              "        vertical-align: top;\n",
              "    }\n",
              "\n",
              "    .dataframe thead th {\n",
              "        text-align: right;\n",
              "    }\n",
              "</style>\n",
              "<table border=\"1\" class=\"dataframe\">\n",
              "  <thead>\n",
              "    <tr style=\"text-align: right;\">\n",
              "      <th></th>\n",
              "      <th>P/E Ratio</th>\n",
              "    </tr>\n",
              "  </thead>\n",
              "  <tbody>\n",
              "    <tr>\n",
              "      <th>mean</th>\n",
              "      <td>21.581069</td>\n",
              "    </tr>\n",
              "    <tr>\n",
              "      <th>median</th>\n",
              "      <td>22.376031</td>\n",
              "    </tr>\n",
              "    <tr>\n",
              "      <th>std</th>\n",
              "      <td>4.608206</td>\n",
              "    </tr>\n",
              "  </tbody>\n",
              "</table>\n",
              "</div>"
            ],
            "text/plain": [
              "        P/E Ratio\n",
              "mean    21.581069\n",
              "median  22.376031\n",
              "std      4.608206"
            ]
          },
          "metadata": {},
          "execution_count": 9
        }
      ]
    },
    {
      "cell_type": "code",
      "metadata": {
        "colab": {
          "base_uri": "https://localhost:8080/",
          "height": 265
        },
        "id": "buFp8NWJgVoR",
        "outputId": "f92664b0-568b-4d27-e2c5-128919fd0882"
      },
      "source": [
        "import matplotlib.pyplot as plt\n",
        "\n",
        "plt.scatter(sp_it.head(15).index,\n",
        "            sp_it['P/E Ratio'].head(15),\n",
        "            label='IT',color='red')\n",
        "plt.scatter(cust_stap.head(15).index,\n",
        "            cust_stap['P/E Ratio'].head(15),\n",
        "            label='CS',color='blue')\n",
        "plt.legend()\n",
        "plt.show()"
      ],
      "execution_count": 12,
      "outputs": [
        {
          "output_type": "display_data",
          "data": {
            "image/png": "[encoded data removed]",
            "text/plain": [
              "<Figure size 432x288 with 1 Axes>"
            ]
          },
          "metadata": {
            "needs_background": "light"
          }
        }
      ]
    },
    {
      "cell_type": "code",
      "metadata": {
        "colab": {
          "base_uri": "https://localhost:8080/",
          "height": 278
        },
        "id": "gMUEucdUg88h",
        "outputId": "6f82dcab-0e41-4a08-8828-702bcfef8798"
      },
      "source": [
        "plt.hist(sp_it['P/E Ratio'],bins=8)\n",
        "plt.ylabel(\"Frequency\")\n",
        "plt.xlabel(\"P/E Ration\")\n",
        "plt.show()"
      ],
      "execution_count": 15,
      "outputs": [
        {
          "output_type": "display_data",
          "data": {
            "image/png": "[encoded data removed]",
            "text/plain": [
              "<Figure size 432x288 with 1 Axes>"
            ]
          },
          "metadata": {
            "needs_background": "light"
          }
        }
      ]
    },
    {
      "cell_type": "code",
      "metadata": {
        "colab": {
          "base_uri": "https://localhost:8080/"
        },
        "id": "4w7hefXahOvF",
        "outputId": "554b8a69-1290-4390-87f0-1cdb00ca9339"
      },
      "source": [
        "name = sp_it[sp_it['P/E Ratio']>50]['Name']\n",
        "pe = sp_it[sp_it['P/E Ratio']>50]['P/E Ratio']\n",
        "\n",
        "print(\"Perusahaan {} Memiliki P/E Ratio {}\".format(name,pe))"
      ],
      "execution_count": 17,
      "outputs": [
        {
          "output_type": "stream",
          "name": "stdout",
          "text": [
            "Perusahaan 80    Paypal Holdings\n",
            "Name: Name, dtype: object Memiliki P/E Ratio 80    54.678571\n",
            "Name: P/E Ratio, dtype: float64\n"
          ]
        }
      ]
    }
  ]
}