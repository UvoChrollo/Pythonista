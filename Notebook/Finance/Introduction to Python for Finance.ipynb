{
  "nbformat": 4,
  "nbformat_minor": 0,
  "metadata": {
    "colab": {
      "name": "Introduction to Python for Finance.ipynb",
      "provenance": [],
      "authorship_tag": "ABX9TyP541v+/Q6TRhA7zFRY6nAy"
    },
    "kernelspec": {
      "name": "python3",
      "display_name": "Python 3"
    },
    "language_info": {
      "name": "python"
    }
  },
  "cells": [
    {
      "cell_type": "code",
      "metadata": {
        "id": "yQ2ybJxjQMyc"
      },
      "source": [
        "import pandas as pd\n",
        "\n",
        "url = \"https://raw.githubusercontent.com/KelvinMulyawan/Gudang/master/sector.txt\"\n",
        "\n",
        "sp_500 = pd.read_csv(url,sep=\",\")"
      ],
      "execution_count": 1,
      "outputs": []
    },
    {
      "cell_type": "code",
      "metadata": {
        "colab": {
          "base_uri": "https://localhost:8080/",
          "height": 200
        },
        "id": "MZs8QrkpUjrB",
        "outputId": "41b7bd85-a3b4-487c-fbe1-fc398e2f0384"
      },
      "source": [
        "sp_500.head()"
      ],
      "execution_count": 2,
      "outputs": [
        {
          "output_type": "execute_result",
          "data": {
            "text/html": [
              "<div>\n",
              "<style scoped>\n",
              "    .dataframe tbody tr th:only-of-type {\n",
              "        vertical-align: middle;\n",
              "    }\n",
              "\n",
              "    .dataframe tbody tr th {\n",
              "        vertical-align: top;\n",
              "    }\n",
              "\n",
              "    .dataframe thead th {\n",
              "        text-align: right;\n",
              "    }\n",
              "</style>\n",
              "<table border=\"1\" class=\"dataframe\">\n",
              "  <thead>\n",
              "    <tr style=\"text-align: right;\">\n",
              "      <th></th>\n",
              "      <th>Name</th>\n",
              "      <th>Sector</th>\n",
              "      <th>Price</th>\n",
              "      <th>EPS</th>\n",
              "    </tr>\n",
              "  </thead>\n",
              "  <tbody>\n",
              "    <tr>\n",
              "      <th>0</th>\n",
              "      <td>Apple Inc</td>\n",
              "      <td>Information Technology</td>\n",
              "      <td>170.12</td>\n",
              "      <td>9.20</td>\n",
              "    </tr>\n",
              "    <tr>\n",
              "      <th>1</th>\n",
              "      <td>Abbvie Inc</td>\n",
              "      <td>Health Care</td>\n",
              "      <td>93.29</td>\n",
              "      <td>5.31</td>\n",
              "    </tr>\n",
              "    <tr>\n",
              "      <th>2</th>\n",
              "      <td>Abbott Laboratories</td>\n",
              "      <td>Health Care</td>\n",
              "      <td>55.28</td>\n",
              "      <td>2.41</td>\n",
              "    </tr>\n",
              "    <tr>\n",
              "      <th>3</th>\n",
              "      <td>Accenture Plc</td>\n",
              "      <td>Information Technology</td>\n",
              "      <td>145.30</td>\n",
              "      <td>5.91</td>\n",
              "    </tr>\n",
              "    <tr>\n",
              "      <th>4</th>\n",
              "      <td>Allergan Plc</td>\n",
              "      <td>Health Care</td>\n",
              "      <td>171.81</td>\n",
              "      <td>15.42</td>\n",
              "    </tr>\n",
              "  </tbody>\n",
              "</table>\n",
              "</div>"
            ],
            "text/plain": [
              "                  Name                  Sector   Price    EPS\n",
              "0            Apple Inc  Information Technology  170.12   9.20\n",
              "1           Abbvie Inc             Health Care   93.29   5.31\n",
              "2  Abbott Laboratories             Health Care   55.28   2.41\n",
              "3        Accenture Plc  Information Technology  145.30   5.91\n",
              "4         Allergan Plc             Health Care  171.81  15.42"
            ]
          },
          "metadata": {},
          "execution_count": 2
        }
      ]
    }
  ]
}