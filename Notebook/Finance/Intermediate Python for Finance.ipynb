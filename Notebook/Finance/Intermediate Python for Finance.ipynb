{
  "nbformat": 4,
  "nbformat_minor": 0,
  "metadata": {
    "colab": {
      "name": "Intermediate Python for Finance.ipynb",
      "provenance": [],
      "authorship_tag": "ABX9TyNiUYsdvJsfdv9tuUKT4znB",
      "include_colab_link": true
    },
    "kernelspec": {
      "name": "python3",
      "display_name": "Python 3"
    },
    "language_info": {
      "name": "python"
    }
  },
  "cells": [
    {
      "cell_type": "markdown",
      "metadata": {
        "id": "view-in-github",
        "colab_type": "text"
      },
      "source": [
        "<a href=\"https://colab.research.google.com/github/KelvinMulyawan/Pythonista/blob/main/Notebook/Finance/Intermediate%20Python%20for%20Finance.ipynb\" target=\"_parent\"><img src=\"https://colab.research.google.com/assets/colab-badge.svg\" alt=\"Open In Colab\"/></a>"
      ]
    },
    {
      "cell_type": "markdown",
      "metadata": {
        "id": "xNwEtz9y5QkL"
      },
      "source": [
        "### 1 - Datetimes and Dictionaries"
      ]
    },
    {
      "cell_type": "code",
      "metadata": {
        "colab": {
          "base_uri": "https://localhost:8080/"
        },
        "id": "YCFvpeKS5saU",
        "outputId": "16f62966-4928-4e83-e934-782c6040b853"
      },
      "source": [
        "from datetime import datetime\n",
        "black_monday = datetime(1987, 10, 19)\n",
        "print(black_monday)"
      ],
      "execution_count": null,
      "outputs": [
        {
          "output_type": "stream",
          "name": "stdout",
          "text": [
            "1987-10-19 00:00:00\n"
          ]
        }
      ]
    },
    {
      "cell_type": "code",
      "metadata": {
        "colab": {
          "base_uri": "https://localhost:8080/"
        },
        "id": "81sp2ahn6EAD",
        "outputId": "2e0ee7b5-7f1f-4616-9c6e-1b91be59a1f1"
      },
      "source": [
        "print(datetime.now())"
      ],
      "execution_count": null,
      "outputs": [
        {
          "output_type": "stream",
          "name": "stdout",
          "text": [
            "2021-10-26 14:01:54.606227\n"
          ]
        }
      ]
    },
    {
      "cell_type": "code",
      "metadata": {
        "colab": {
          "base_uri": "https://localhost:8080/"
        },
        "id": "5tmotRe-6MQy",
        "outputId": "086dfd80-f06a-430b-9869-d2fbb65fa235"
      },
      "source": [
        "crash_text = \"Friday the 13th, Oct, 1989\"\n",
        "\n",
        "# Create a format string mapping the text\n",
        "crash_format_str = \"%A the %dth, %b, %Y\"\n",
        "min_crash = datetime.strptime(crash_text, crash_format_str)\n",
        "print(min_crash)\n",
        "\n",
        "recession_text = \"07/03/90\"\n",
        "\n",
        "# Create format string\n",
        "recession_format_str = \"%m/%d/%y\"\n",
        "\n",
        "# Create datetime from text using format string\n",
        "nineties_rec = datetime.strptime(recession_text, recession_format_str)\n",
        "print(nineties_rec)"
      ],
      "execution_count": null,
      "outputs": [
        {
          "output_type": "stream",
          "name": "stdout",
          "text": [
            "1989-10-13 00:00:00\n",
            "1990-07-03 00:00:00\n"
          ]
        }
      ]
    },
    {
      "cell_type": "code",
      "metadata": {
        "colab": {
          "base_uri": "https://localhost:8080/"
        },
        "id": "DxCCsKSy6ovM",
        "outputId": "a433ee69-3908-4822-d8af-a8e63f74f0ca"
      },
      "source": [
        "org_text = \"Sep 16 1992\"\n",
        "\n",
        "# Format string for original text\n",
        "org_format = \"%b %d %Y\"\n",
        "\n",
        "# Create datetime for Black Wednesday\n",
        "black_wednesday = datetime.strptime(org_text, org_format)\n",
        "print(black_wednesday)\n",
        "\n",
        "# New format: 'Wednesday, September 16, 1992'\n",
        "new_format = \"%A, %B %d, %Y\"\n",
        "\n",
        "# String in new format\n",
        "new_text = black_wednesday.strftime(new_format)\n",
        "print(new_text)"
      ],
      "execution_count": null,
      "outputs": [
        {
          "output_type": "stream",
          "name": "stdout",
          "text": [
            "1992-09-16 00:00:00\n",
            "Wednesday, September 16, 1992\n"
          ]
        }
      ]
    },
    {
      "cell_type": "code",
      "metadata": {
        "colab": {
          "base_uri": "https://localhost:8080/"
        },
        "id": "T3AqUiEg6zUe",
        "outputId": "71bf0594-9220-49cf-e851-948ccf297bb5"
      },
      "source": [
        "# March 10, 2000 Tech Bubble Crash\n",
        "tech_bubble = datetime(2000, 3, 10)\n",
        "\n",
        "# Access the year\n",
        "yr  = tech_bubble.year\n",
        "\n",
        "# Access the month\n",
        "mth = tech_bubble.month\n",
        "\n",
        "# Access the day\n",
        "day = tech_bubble.day\n",
        "\n",
        "print(f\"Year: {yr}, Month: {mth}, Day: {day}\")"
      ],
      "execution_count": null,
      "outputs": [
        {
          "output_type": "stream",
          "name": "stdout",
          "text": [
            "Year: 2000, Month: 3, Day: 10\n"
          ]
        }
      ]
    },
    {
      "cell_type": "code",
      "metadata": {
        "colab": {
          "base_uri": "https://localhost:8080/"
        },
        "id": "3z2tTwvI66pj",
        "outputId": "a68d6c76-764a-4982-e9e5-374f492e3925"
      },
      "source": [
        "lehman = datetime(2008, 9, 15, 0, 0)\n",
        "morgan_stanley = datetime(2008, 9, 22, 0, 0)\n",
        "\n",
        "# Lehman Brothers before Morgan Stanley?\n",
        "lehman_first = lehman < morgan_stanley\n",
        "\n",
        "print(f\"It is {lehman_first} that Lehman Brothers declared bankruptcy first.\") "
      ],
      "execution_count": null,
      "outputs": [
        {
          "output_type": "stream",
          "name": "stdout",
          "text": [
            "It is True that Lehman Brothers declared bankruptcy first.\n"
          ]
        }
      ]
    },
    {
      "cell_type": "code",
      "metadata": {
        "colab": {
          "base_uri": "https://localhost:8080/"
        },
        "id": "Uc5T-Ikn7e3-",
        "outputId": "629485b4-cb44-4797-c615-b16be5a1b3d7"
      },
      "source": [
        "goldman_sachs = datetime(2008, 9, 22, 0, 0)\n",
        "tarp = datetime(2008, 10, 3, 0, 0)\n",
        "\n",
        "# Goldman Sachs after TARP?\n",
        "tarp_first = goldman_sachs > tarp\n",
        "\n",
        "print(f\"It is {tarp_first} that TARP was approved first.\")"
      ],
      "execution_count": null,
      "outputs": [
        {
          "output_type": "stream",
          "name": "stdout",
          "text": [
            "It is False that TARP was approved first.\n"
          ]
        }
      ]
    },
    {
      "cell_type": "code",
      "metadata": {
        "colab": {
          "base_uri": "https://localhost:8080/"
        },
        "id": "M9z3F2TE7uHm",
        "outputId": "b3de8b81-134a-43fd-bb5f-b5f667614bc1"
      },
      "source": [
        "# Goldman Sachs and Morgan Stanley same day?\n",
        "same_time = goldman_sachs == morgan_stanley\n",
        "\n",
        "print(f\"It is {same_time} that Morgan Stanley and Goldman Sachs acted simultaneously\")"
      ],
      "execution_count": null,
      "outputs": [
        {
          "output_type": "stream",
          "name": "stdout",
          "text": [
            "It is True that Morgan Stanley and Goldman Sachs acted simultaneously\n"
          ]
        }
      ]
    },
    {
      "cell_type": "code",
      "metadata": {
        "colab": {
          "base_uri": "https://localhost:8080/"
        },
        "id": "lckIvky670Gs",
        "outputId": "c94df475-a638-4dee-aba6-b5123fc9b849"
      },
      "source": [
        "from datetime import timedelta\n",
        "\n",
        "# TARP passed Oct 3 2008\n",
        "tarp = datetime(2008, 10, 3)\n",
        "\n",
        "# Seven days before TARP\n",
        "week_before = tarp - timedelta(days = 7)\n",
        "\n",
        "# Print week_before\n",
        "print(week_before)"
      ],
      "execution_count": null,
      "outputs": [
        {
          "output_type": "stream",
          "name": "stdout",
          "text": [
            "2008-09-26 00:00:00\n"
          ]
        }
      ]
    },
    {
      "cell_type": "code",
      "metadata": {
        "colab": {
          "base_uri": "https://localhost:8080/"
        },
        "id": "Ddo7E_ZM8X7E",
        "outputId": "e3e322ae-0310-4f22-97ed-2eef62c7c354"
      },
      "source": [
        "tarp = datetime(2008, 10, 3)\n",
        "\n",
        "# One week after TARP\n",
        "week_after = tarp + timedelta(weeks = 1)\n",
        "\n",
        "# Print week_after\n",
        "print(week_after)"
      ],
      "execution_count": null,
      "outputs": [
        {
          "output_type": "stream",
          "name": "stdout",
          "text": [
            "2008-10-10 00:00:00\n"
          ]
        }
      ]
    },
    {
      "cell_type": "code",
      "metadata": {
        "colab": {
          "base_uri": "https://localhost:8080/"
        },
        "id": "CsA9amOx8gSG",
        "outputId": "1185bce1-e379-4dd4-80d0-dfb94af23885"
      },
      "source": [
        "tarp = datetime(2008, 10, 3)\n",
        "\n",
        "year_after = tarp + timedelta(weeks = 52)\n",
        "\n",
        "print(year_after)"
      ],
      "execution_count": null,
      "outputs": [
        {
          "output_type": "stream",
          "name": "stdout",
          "text": [
            "2009-10-02 00:00:00\n"
          ]
        }
      ]
    },
    {
      "cell_type": "code",
      "metadata": {
        "colab": {
          "base_uri": "https://localhost:8080/"
        },
        "id": "GRsQRKPR8uUu",
        "outputId": "5bf8ea96-25e0-4e8e-bf3d-f856cf0ba01c"
      },
      "source": [
        "cusip_lookup = {}\n",
        "\n",
        "# Alphabet\n",
        "cusip_lookup['38259P706'] = 'GOOG'\n",
        "\n",
        "print(cusip_lookup)"
      ],
      "execution_count": null,
      "outputs": [
        {
          "output_type": "stream",
          "name": "stdout",
          "text": [
            "{'38259P706': 'GOOG'}\n"
          ]
        }
      ]
    },
    {
      "cell_type": "code",
      "metadata": {
        "colab": {
          "base_uri": "https://localhost:8080/"
        },
        "id": "iebXu6658y0p",
        "outputId": "73436274-65a0-410e-edbc-e78072c4ec65"
      },
      "source": [
        "cusip_lookup = {}\n",
        "\n",
        "# Alphabet\n",
        "cusip_lookup['38259P706'] = 'GOOG'\n",
        "\n",
        "# Apple\n",
        "cusip_lookup['037833100'] = 'AAPL'\n",
        "\n",
        "print(cusip_lookup)"
      ],
      "execution_count": null,
      "outputs": [
        {
          "output_type": "stream",
          "name": "stdout",
          "text": [
            "{'38259P706': 'GOOG'}\n"
          ]
        }
      ]
    },
    {
      "cell_type": "code",
      "metadata": {
        "colab": {
          "base_uri": "https://localhost:8080/"
        },
        "id": "oW_LpvOc82Oo",
        "outputId": "4e150349-2630-4e10-baaf-2a2efcb35e42"
      },
      "source": [
        "cusip_lookup = {}\n",
        "\n",
        "# Alphabet\n",
        "cusip_lookup['38259P706'] = 'GOOG'\n",
        "\n",
        "# Apple\n",
        "cusip_lookup['037833100'] = 'AAPL'\n",
        "\n",
        "print(cusip_lookup)"
      ],
      "execution_count": null,
      "outputs": [
        {
          "output_type": "stream",
          "name": "stdout",
          "text": [
            "{'38259P706': 'GOOG'}\n"
          ]
        }
      ]
    },
    {
      "cell_type": "code",
      "metadata": {
        "colab": {
          "base_uri": "https://localhost:8080/"
        },
        "id": "jza1Z1RU86Xp",
        "outputId": "d5e1be10-4000-45d8-b182-884ae46bfe28"
      },
      "source": [
        "closing_price_date = datetime(2019, 8, 2, 0, 0)\n",
        "\n",
        "alphabet_hist = {datetime(2019, 7, 30, 0, 0): 1228,\n",
        "                 datetime(2019, 7, 31, 0, 0): 1218.2,\n",
        "                 datetime(2019, 8, 1, 0, 0): 1211.78,\n",
        "                 datetime(2019, 8, 2, 0, 0): 1196.32}\n",
        "\n",
        "# Closing price for day before\n",
        "day_before_closing_price_date = closing_price_date - timedelta(days=1)\n",
        "\n",
        "# Safely print closing price day before or None if it's missing\n",
        "print(alphabet_hist.get(day_before_closing_price_date))"
      ],
      "execution_count": null,
      "outputs": [
        {
          "output_type": "stream",
          "name": "stdout",
          "text": [
            "1211.78\n"
          ]
        }
      ]
    },
    {
      "cell_type": "code",
      "metadata": {
        "colab": {
          "base_uri": "https://localhost:8080/"
        },
        "id": "5lacfpZf9dtq",
        "outputId": "d99460cc-42a3-4439-cc49-f38605d890c2"
      },
      "source": [
        "future_closing_price_date = closing_price_date + timedelta(weeks=8)\n",
        "\n",
        "print(alphabet_hist.get(future_closing_price_date, 'Missing'))"
      ],
      "execution_count": null,
      "outputs": [
        {
          "output_type": "stream",
          "name": "stdout",
          "text": [
            "Missing\n"
          ]
        }
      ]
    },
    {
      "cell_type": "code",
      "metadata": {
        "colab": {
          "base_uri": "https://localhost:8080/"
        },
        "id": "gTezjEPc9lTC",
        "outputId": "38517fa3-5411-40e4-fef1-4854ce88a07c"
      },
      "source": [
        "print(alphabet_hist)\n",
        "\n",
        "del(alphabet_hist[closing_price_date])\n",
        "\n",
        "print(alphabet_hist)"
      ],
      "execution_count": null,
      "outputs": [
        {
          "output_type": "stream",
          "name": "stdout",
          "text": [
            "{datetime.datetime(2019, 7, 30, 0, 0): 1228, datetime.datetime(2019, 7, 31, 0, 0): 1218.2, datetime.datetime(2019, 8, 1, 0, 0): 1211.78, datetime.datetime(2019, 8, 2, 0, 0): 1196.32}\n",
            "{datetime.datetime(2019, 7, 30, 0, 0): 1228, datetime.datetime(2019, 7, 31, 0, 0): 1218.2, datetime.datetime(2019, 8, 1, 0, 0): 1211.78}\n"
          ]
        }
      ]
    },
    {
      "cell_type": "markdown",
      "metadata": {
        "id": "n6Tkw_cZ-bTG"
      },
      "source": [
        "### 2 - Control Flow and Logic"
      ]
    },
    {
      "cell_type": "code",
      "metadata": {
        "colab": {
          "base_uri": "https://localhost:8080/"
        },
        "id": "DpQEejj3-yqZ",
        "outputId": "bd888a08-a119-460c-c13f-be752c16fbdc"
      },
      "source": [
        "cash = 19.11\n",
        "non_cash = 20.33\n",
        "\n",
        "# Check if cash is equal to securities\n",
        "print(cash == non_cash)\n",
        "\n",
        "# Assign the value of securities to cash\n",
        "cash = non_cash\n",
        "\n",
        "# Check if cash is equal to securities\n",
        "print(cash == non_cash)"
      ],
      "execution_count": 3,
      "outputs": [
        {
          "output_type": "stream",
          "name": "stdout",
          "text": [
            "False\n",
            "True\n"
          ]
        }
      ]
    },
    {
      "cell_type": "code",
      "metadata": {
        "colab": {
          "base_uri": "https://localhost:8080/"
        },
        "id": "p08NGWZ3_XSN",
        "outputId": "370cda46-4886-42b3-aba8-a089f7e45560"
      },
      "source": [
        "d1 = 323\n",
        "\n",
        "d2 = 489\n",
        "\n",
        "# Check dividend is greater than zero\n",
        "print(d2 > 0)\n",
        "\n",
        "# Is dividend 1 is greater than dividend 2?\n",
        "print(d1 > d2)"
      ],
      "execution_count": 4,
      "outputs": [
        {
          "output_type": "stream",
          "name": "stdout",
          "text": [
            "True\n",
            "False\n"
          ]
        }
      ]
    },
    {
      "cell_type": "code",
      "metadata": {
        "colab": {
          "base_uri": "https://localhost:8080/"
        },
        "id": "9Vtp4G5K_k9Y",
        "outputId": "9cfab901-b588-49c5-d413-de227efbb013"
      },
      "source": [
        "# Check dividend 1 is at least 100\n",
        "print(d1 >= 100)\n",
        "\n",
        "# Check dividend 2 is at least as much dividend 1\n",
        "print(d1 <= d2)"
      ],
      "execution_count": 5,
      "outputs": [
        {
          "output_type": "stream",
          "name": "stdout",
          "text": [
            "True\n",
            "True\n"
          ]
        }
      ]
    },
    {
      "cell_type": "code",
      "metadata": {
        "colab": {
          "base_uri": "https://localhost:8080/"
        },
        "id": "N1uAqlIVADFE",
        "outputId": "38768e0a-8aac-468a-e5cd-4906f5649683"
      },
      "source": [
        "is_investment_account = True\n",
        "balance_positive = True\n",
        "\n",
        "# Print the given variables\n",
        "print(is_investment_account)\n",
        "print(balance_positive)\n",
        "\n",
        "# Decide if this account is cantidate for trading advice\n",
        "potential_trade = is_investment_account and balance_positive\n",
        "\n",
        "# Print if this represents a potential trade\n",
        "print(potential_trade)"
      ],
      "execution_count": 6,
      "outputs": [
        {
          "output_type": "stream",
          "name": "stdout",
          "text": [
            "True\n",
            "True\n",
            "True\n"
          ]
        }
      ]
    },
    {
      "cell_type": "code",
      "metadata": {
        "colab": {
          "base_uri": "https://localhost:8080/"
        },
        "id": "ax_NQp-eBs1B",
        "outputId": "0b24afdf-7f87-462a-d790-820eed780ac2"
      },
      "source": [
        "input_action = \"\"\n",
        "\n",
        "# Assign a default action if no input\n",
        "action = input_action or \"Hold\"\n",
        "\n",
        "# Print the action\n",
        "print(action)\n",
        "\n",
        "is_trading_day = False\n",
        "\n",
        "# Assign action only if trades can be made\n",
        "do_action = is_trading_day and action\n",
        "\n",
        "# Print the action to do\n",
        "print(do_action)"
      ],
      "execution_count": 8,
      "outputs": [
        {
          "output_type": "stream",
          "name": "stdout",
          "text": [
            "Hold\n",
            "False\n"
          ]
        }
      ]
    },
    {
      "cell_type": "code",
      "metadata": {
        "colab": {
          "base_uri": "https://localhost:8080/"
        },
        "id": "A6-Pbg49B7QD",
        "outputId": "95f55984-a2cd-4719-aa39-151ac66f70bd"
      },
      "source": [
        "closing_prices = []\n",
        "\n",
        "print(closing_prices)\n",
        "\n",
        "# Assigning True if we need to get the prices\n",
        "not_prices = not closing_prices\n",
        "\n",
        "print(not_prices)\n",
        "\n",
        "market_closed = False\n",
        "\n",
        "# Get prices if market is closed and we don't have prices\n",
        "get_prices = not (market_closed and not_prices)\n",
        "\n",
        "print(get_prices)"
      ],
      "execution_count": 11,
      "outputs": [
        {
          "output_type": "stream",
          "name": "stdout",
          "text": [
            "[]\n",
            "True\n",
            "True\n"
          ]
        }
      ]
    },
    {
      "cell_type": "code",
      "metadata": {
        "colab": {
          "base_uri": "https://localhost:8080/"
        },
        "id": "kYdpSgYWCXhU",
        "outputId": "d110f19e-6a79-4b81-b45a-056763c2623c"
      },
      "source": [
        "sales = []\n",
        "\n",
        "purchases = []\n",
        "\n",
        "# Get number of purchases\n",
        "num_purchases = len(purchases)\n",
        "# Get number of sales\n",
        "num_sales = len(sales)\n",
        "\n",
        "# Check if more sales than purchases\n",
        "if num_purchases < num_sales:\n",
        "  print('buy more')\n",
        "else:\n",
        "  print(\"No sales or purchases\")"
      ],
      "execution_count": 14,
      "outputs": [
        {
          "output_type": "stream",
          "name": "stdout",
          "text": [
            "No sales or purchases\n"
          ]
        }
      ]
    },
    {
      "cell_type": "code",
      "metadata": {
        "colab": {
          "base_uri": "https://localhost:8080/"
        },
        "id": "au6vbeKLCrUZ",
        "outputId": "9db1c5c8-e473-445b-b97d-e34e916eed93"
      },
      "source": [
        "sales = []\n",
        "\n",
        "purchases = []\n",
        "\n",
        "# Get number of purchases\n",
        "num_purchases = len(purchases)\n",
        "# Get number of sales\n",
        "num_sales = len(sales)\n",
        "\n",
        "# Check if more sales than purchases\n",
        "if num_purchases < num_sales:\n",
        "  print('sale more')\n",
        "else:\n",
        "  print(\"No sales or purchases\")"
      ],
      "execution_count": 15,
      "outputs": [
        {
          "output_type": "stream",
          "name": "stdout",
          "text": [
            "No sales or purchases\n"
          ]
        }
      ]
    },
    {
      "cell_type": "code",
      "metadata": {
        "colab": {
          "base_uri": "https://localhost:8080/"
        },
        "id": "BmcF8lbkCxBs",
        "outputId": "e05dbb2c-78c7-405c-dd4c-2806dcfe113d"
      },
      "source": [
        "# Get number of purchases\n",
        "num_purchases = len(purchases)\n",
        "# Get number of sales\n",
        "num_sales = len(sales)\n",
        "\n",
        "# Check if both lists are empty\n",
        "if not (purchases or sales):\n",
        "  print('No sales or purchases')"
      ],
      "execution_count": 16,
      "outputs": [
        {
          "output_type": "stream",
          "name": "stdout",
          "text": [
            "No sales or purchases\n"
          ]
        }
      ]
    },
    {
      "cell_type": "code",
      "metadata": {
        "id": "WVgu0RIlC6nw"
      },
      "source": [
        "appl = []\n",
        "tsla = []\n",
        "amzn = []\n",
        "\n",
        "trn = {'amount': 300, 'symbol': 'APPL', 'type': 'DIVIDEND'}\n",
        "\n",
        "# Get the symbol value\n",
        "symbol = trn['symbol']\n",
        "\n",
        "# Check if Apple stock\n",
        "if symbol == 'APPL':\n",
        "  appl.append(trn)"
      ],
      "execution_count": 19,
      "outputs": []
    },
    {
      "cell_type": "code",
      "metadata": {
        "id": "g_kzJgouDITu"
      },
      "source": [
        "# Get the symbol value\n",
        "symbol = trn['symbol']\n",
        "\n",
        "# Check if Apple stock\n",
        "if symbol == 'APPL':\n",
        "    appl.append(trn)\n",
        "# Check if Tesla stock\n",
        "elif symbol == 'TSLA':\n",
        "    tsla.append(trn)\n",
        "# Check if Amazon stock\n",
        "elif symbol == 'AMZN':\n",
        "    amzn.append(trn)"
      ],
      "execution_count": 20,
      "outputs": []
    },
    {
      "cell_type": "code",
      "metadata": {
        "id": "AwrE3OOpDIhP"
      },
      "source": [
        "# Get the symbol value\n",
        "symbol = trn['symbol']\n",
        "\n",
        "# Check if Apple stock\n",
        "if symbol == 'APPL':\n",
        "  appl.append(trn)\n",
        "# Check if Tesla stock\n",
        "elif symbol == 'TSLA':\n",
        "  tsla.append(trn)\n",
        "# Check if Amazon stock\n",
        "elif symbol == 'AMZN':\n",
        "  amzn.append(trn)\n",
        "# Handle other companies\n",
        "else:\n",
        "  print(symbol)"
      ],
      "execution_count": 22,
      "outputs": []
    },
    {
      "cell_type": "code",
      "metadata": {
        "colab": {
          "base_uri": "https://localhost:8080/"
        },
        "id": "mJo3dFNsDhkT",
        "outputId": "d2c85b90-b80f-4cfe-afcf-405d86f780a7"
      },
      "source": [
        "balance = 1229\n",
        "\n",
        "buys = [{'symbol': 'AAPL', 'total_cost': 900},{'symbol': 'ORCL', 'total_cost': 300},{'symbol': 'CSCO', 'total_cost': 200}]\n",
        "\n",
        "# Loop through buys\n",
        "for buy in buys:\n",
        "    print('Buying ' + buy['symbol'])\n",
        "    new_balance = balance - buy['total_cost']\n",
        "    balance = new_balance\n",
        "\n",
        "print(balance)"
      ],
      "execution_count": 24,
      "outputs": [
        {
          "output_type": "stream",
          "name": "stdout",
          "text": [
            "Buying AAPL\n",
            "Buying ORCL\n",
            "Buying CSCO\n",
            "-171\n"
          ]
        }
      ]
    },
    {
      "cell_type": "code",
      "metadata": {
        "id": "7SXAQ7eTD0Kf",
        "outputId": "797d8fdb-e0dc-4035-91d5-9643c092f6ed",
        "colab": {
          "base_uri": "https://localhost:8080/"
        }
      },
      "source": [
        "for buy in buys:\n",
        "    print('Buying ' + buy['symbol'])\n",
        "    new_balance = balance - buy['total_cost']\n",
        "    if new_balance < 0:\n",
        "        print('Unable to finish buys')\n",
        "        break\n",
        "    balance = new_balance\n",
        "\n",
        "print(balance)"
      ],
      "execution_count": 25,
      "outputs": [
        {
          "output_type": "stream",
          "name": "stdout",
          "text": [
            "Buying AAPL\n",
            "Unable to finish buys\n",
            "-171\n"
          ]
        }
      ]
    },
    {
      "cell_type": "markdown",
      "metadata": {
        "id": "vrTocLUf5WLt"
      },
      "source": [
        "### 3 - Pandas Dataframe"
      ]
    },
    {
      "cell_type": "markdown",
      "metadata": {
        "id": "k8wfcPU75ZAl"
      },
      "source": [
        "### 4 - Working with NASDAQ Stock Data"
      ]
    }
  ]
}