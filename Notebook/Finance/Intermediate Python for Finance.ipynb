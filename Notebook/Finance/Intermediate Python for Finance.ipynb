{
  "nbformat": 4,
  "nbformat_minor": 0,
  "metadata": {
    "colab": {
      "name": "Intermediate Python for Finance.ipynb",
      "provenance": [],
      "authorship_tag": "ABX9TyNk05MwaWP8dpvjsvtQE70i",
      "include_colab_link": true
    },
    "kernelspec": {
      "name": "python3",
      "display_name": "Python 3"
    },
    "language_info": {
      "name": "python"
    }
  },
  "cells": [
    {
      "cell_type": "markdown",
      "metadata": {
        "id": "view-in-github",
        "colab_type": "text"
      },
      "source": [
        "<a href=\"https://colab.research.google.com/github/KelvinMulyawan/Pythonista/blob/main/Notebook/Finance/Intermediate%20Python%20for%20Finance.ipynb\" target=\"_parent\"><img src=\"https://colab.research.google.com/assets/colab-badge.svg\" alt=\"Open In Colab\"/></a>"
      ]
    },
    {
      "cell_type": "markdown",
      "metadata": {
        "id": "xNwEtz9y5QkL"
      },
      "source": [
        "### 1 - Datetimes and Dictionaries"
      ]
    },
    {
      "cell_type": "code",
      "metadata": {
        "colab": {
          "base_uri": "https://localhost:8080/"
        },
        "id": "YCFvpeKS5saU",
        "outputId": "16f62966-4928-4e83-e934-782c6040b853"
      },
      "source": [
        "from datetime import datetime\n",
        "black_monday = datetime(1987, 10, 19)\n",
        "print(black_monday)"
      ],
      "execution_count": 1,
      "outputs": [
        {
          "output_type": "stream",
          "name": "stdout",
          "text": [
            "1987-10-19 00:00:00\n"
          ]
        }
      ]
    },
    {
      "cell_type": "code",
      "metadata": {
        "colab": {
          "base_uri": "https://localhost:8080/"
        },
        "id": "81sp2ahn6EAD",
        "outputId": "2e0ee7b5-7f1f-4616-9c6e-1b91be59a1f1"
      },
      "source": [
        "print(datetime.now())"
      ],
      "execution_count": 2,
      "outputs": [
        {
          "output_type": "stream",
          "name": "stdout",
          "text": [
            "2021-10-26 14:01:54.606227\n"
          ]
        }
      ]
    },
    {
      "cell_type": "code",
      "metadata": {
        "colab": {
          "base_uri": "https://localhost:8080/"
        },
        "id": "5tmotRe-6MQy",
        "outputId": "086dfd80-f06a-430b-9869-d2fbb65fa235"
      },
      "source": [
        "crash_text = \"Friday the 13th, Oct, 1989\"\n",
        "\n",
        "# Create a format string mapping the text\n",
        "crash_format_str = \"%A the %dth, %b, %Y\"\n",
        "min_crash = datetime.strptime(crash_text, crash_format_str)\n",
        "print(min_crash)\n",
        "\n",
        "recession_text = \"07/03/90\"\n",
        "\n",
        "# Create format string\n",
        "recession_format_str = \"%m/%d/%y\"\n",
        "\n",
        "# Create datetime from text using format string\n",
        "nineties_rec = datetime.strptime(recession_text, recession_format_str)\n",
        "print(nineties_rec)"
      ],
      "execution_count": 5,
      "outputs": [
        {
          "output_type": "stream",
          "name": "stdout",
          "text": [
            "1989-10-13 00:00:00\n",
            "1990-07-03 00:00:00\n"
          ]
        }
      ]
    },
    {
      "cell_type": "code",
      "metadata": {
        "colab": {
          "base_uri": "https://localhost:8080/"
        },
        "id": "DxCCsKSy6ovM",
        "outputId": "a433ee69-3908-4822-d8af-a8e63f74f0ca"
      },
      "source": [
        "org_text = \"Sep 16 1992\"\n",
        "\n",
        "# Format string for original text\n",
        "org_format = \"%b %d %Y\"\n",
        "\n",
        "# Create datetime for Black Wednesday\n",
        "black_wednesday = datetime.strptime(org_text, org_format)\n",
        "print(black_wednesday)\n",
        "\n",
        "# New format: 'Wednesday, September 16, 1992'\n",
        "new_format = \"%A, %B %d, %Y\"\n",
        "\n",
        "# String in new format\n",
        "new_text = black_wednesday.strftime(new_format)\n",
        "print(new_text)"
      ],
      "execution_count": 6,
      "outputs": [
        {
          "output_type": "stream",
          "name": "stdout",
          "text": [
            "1992-09-16 00:00:00\n",
            "Wednesday, September 16, 1992\n"
          ]
        }
      ]
    },
    {
      "cell_type": "code",
      "metadata": {
        "colab": {
          "base_uri": "https://localhost:8080/"
        },
        "id": "T3AqUiEg6zUe",
        "outputId": "71bf0594-9220-49cf-e851-948ccf297bb5"
      },
      "source": [
        "# March 10, 2000 Tech Bubble Crash\n",
        "tech_bubble = datetime(2000, 3, 10)\n",
        "\n",
        "# Access the year\n",
        "yr  = tech_bubble.year\n",
        "\n",
        "# Access the month\n",
        "mth = tech_bubble.month\n",
        "\n",
        "# Access the day\n",
        "day = tech_bubble.day\n",
        "\n",
        "print(f\"Year: {yr}, Month: {mth}, Day: {day}\")"
      ],
      "execution_count": 7,
      "outputs": [
        {
          "output_type": "stream",
          "name": "stdout",
          "text": [
            "Year: 2000, Month: 3, Day: 10\n"
          ]
        }
      ]
    },
    {
      "cell_type": "code",
      "metadata": {
        "colab": {
          "base_uri": "https://localhost:8080/"
        },
        "id": "3z2tTwvI66pj",
        "outputId": "a68d6c76-764a-4982-e9e5-374f492e3925"
      },
      "source": [
        "lehman = datetime(2008, 9, 15, 0, 0)\n",
        "morgan_stanley = datetime(2008, 9, 22, 0, 0)\n",
        "\n",
        "# Lehman Brothers before Morgan Stanley?\n",
        "lehman_first = lehman < morgan_stanley\n",
        "\n",
        "print(f\"It is {lehman_first} that Lehman Brothers declared bankruptcy first.\") "
      ],
      "execution_count": 11,
      "outputs": [
        {
          "output_type": "stream",
          "name": "stdout",
          "text": [
            "It is True that Lehman Brothers declared bankruptcy first.\n"
          ]
        }
      ]
    },
    {
      "cell_type": "code",
      "metadata": {
        "colab": {
          "base_uri": "https://localhost:8080/"
        },
        "id": "Uc5T-Ikn7e3-",
        "outputId": "629485b4-cb44-4797-c615-b16be5a1b3d7"
      },
      "source": [
        "goldman_sachs = datetime(2008, 9, 22, 0, 0)\n",
        "tarp = datetime(2008, 10, 3, 0, 0)\n",
        "\n",
        "# Goldman Sachs after TARP?\n",
        "tarp_first = goldman_sachs > tarp\n",
        "\n",
        "print(f\"It is {tarp_first} that TARP was approved first.\")"
      ],
      "execution_count": 12,
      "outputs": [
        {
          "output_type": "stream",
          "name": "stdout",
          "text": [
            "It is False that TARP was approved first.\n"
          ]
        }
      ]
    },
    {
      "cell_type": "code",
      "metadata": {
        "colab": {
          "base_uri": "https://localhost:8080/"
        },
        "id": "M9z3F2TE7uHm",
        "outputId": "b3de8b81-134a-43fd-bb5f-b5f667614bc1"
      },
      "source": [
        "# Goldman Sachs and Morgan Stanley same day?\n",
        "same_time = goldman_sachs == morgan_stanley\n",
        "\n",
        "print(f\"It is {same_time} that Morgan Stanley and Goldman Sachs acted simultaneously\")"
      ],
      "execution_count": 13,
      "outputs": [
        {
          "output_type": "stream",
          "name": "stdout",
          "text": [
            "It is True that Morgan Stanley and Goldman Sachs acted simultaneously\n"
          ]
        }
      ]
    },
    {
      "cell_type": "code",
      "metadata": {
        "colab": {
          "base_uri": "https://localhost:8080/"
        },
        "id": "lckIvky670Gs",
        "outputId": "c94df475-a638-4dee-aba6-b5123fc9b849"
      },
      "source": [
        "from datetime import timedelta\n",
        "\n",
        "# TARP passed Oct 3 2008\n",
        "tarp = datetime(2008, 10, 3)\n",
        "\n",
        "# Seven days before TARP\n",
        "week_before = tarp - timedelta(days = 7)\n",
        "\n",
        "# Print week_before\n",
        "print(week_before)"
      ],
      "execution_count": 15,
      "outputs": [
        {
          "output_type": "stream",
          "name": "stdout",
          "text": [
            "2008-09-26 00:00:00\n"
          ]
        }
      ]
    },
    {
      "cell_type": "code",
      "metadata": {
        "colab": {
          "base_uri": "https://localhost:8080/"
        },
        "id": "Ddo7E_ZM8X7E",
        "outputId": "e3e322ae-0310-4f22-97ed-2eef62c7c354"
      },
      "source": [
        "tarp = datetime(2008, 10, 3)\n",
        "\n",
        "# One week after TARP\n",
        "week_after = tarp + timedelta(weeks = 1)\n",
        "\n",
        "# Print week_after\n",
        "print(week_after)"
      ],
      "execution_count": 17,
      "outputs": [
        {
          "output_type": "stream",
          "name": "stdout",
          "text": [
            "2008-10-10 00:00:00\n"
          ]
        }
      ]
    },
    {
      "cell_type": "code",
      "metadata": {
        "colab": {
          "base_uri": "https://localhost:8080/"
        },
        "id": "CsA9amOx8gSG",
        "outputId": "1185bce1-e379-4dd4-80d0-dfb94af23885"
      },
      "source": [
        "tarp = datetime(2008, 10, 3)\n",
        "\n",
        "year_after = tarp + timedelta(weeks = 52)\n",
        "\n",
        "print(year_after)"
      ],
      "execution_count": 18,
      "outputs": [
        {
          "output_type": "stream",
          "name": "stdout",
          "text": [
            "2009-10-02 00:00:00\n"
          ]
        }
      ]
    },
    {
      "cell_type": "markdown",
      "metadata": {
        "id": "0iZD9QlH5Tle"
      },
      "source": [
        "### 2 - Control Flow and Logic"
      ]
    },
    {
      "cell_type": "code",
      "metadata": {
        "colab": {
          "base_uri": "https://localhost:8080/"
        },
        "id": "GRsQRKPR8uUu",
        "outputId": "5bf8ea96-25e0-4e8e-bf3d-f856cf0ba01c"
      },
      "source": [
        "cusip_lookup = {}\n",
        "\n",
        "# Alphabet\n",
        "cusip_lookup['38259P706'] = 'GOOG'\n",
        "\n",
        "print(cusip_lookup)"
      ],
      "execution_count": 19,
      "outputs": [
        {
          "output_type": "stream",
          "name": "stdout",
          "text": [
            "{'38259P706': 'GOOG'}\n"
          ]
        }
      ]
    },
    {
      "cell_type": "code",
      "metadata": {
        "colab": {
          "base_uri": "https://localhost:8080/"
        },
        "id": "iebXu6658y0p",
        "outputId": "73436274-65a0-410e-edbc-e78072c4ec65"
      },
      "source": [
        "cusip_lookup = {}\n",
        "\n",
        "# Alphabet\n",
        "cusip_lookup['38259P706'] = 'GOOG'\n",
        "\n",
        "# Apple\n",
        "cusip_lookup['037833100'] = 'AAPL'\n",
        "\n",
        "print(cusip_lookup)"
      ],
      "execution_count": 20,
      "outputs": [
        {
          "output_type": "stream",
          "name": "stdout",
          "text": [
            "{'38259P706': 'GOOG'}\n"
          ]
        }
      ]
    },
    {
      "cell_type": "code",
      "metadata": {
        "colab": {
          "base_uri": "https://localhost:8080/"
        },
        "id": "oW_LpvOc82Oo",
        "outputId": "4e150349-2630-4e10-baaf-2a2efcb35e42"
      },
      "source": [
        "cusip_lookup = {}\n",
        "\n",
        "# Alphabet\n",
        "cusip_lookup['38259P706'] = 'GOOG'\n",
        "\n",
        "# Apple\n",
        "cusip_lookup['037833100'] = 'AAPL'\n",
        "\n",
        "print(cusip_lookup)"
      ],
      "execution_count": 21,
      "outputs": [
        {
          "output_type": "stream",
          "name": "stdout",
          "text": [
            "{'38259P706': 'GOOG'}\n"
          ]
        }
      ]
    },
    {
      "cell_type": "code",
      "metadata": {
        "colab": {
          "base_uri": "https://localhost:8080/"
        },
        "id": "jza1Z1RU86Xp",
        "outputId": "d5e1be10-4000-45d8-b182-884ae46bfe28"
      },
      "source": [
        "closing_price_date = datetime(2019, 8, 2, 0, 0)\n",
        "\n",
        "alphabet_hist = {datetime(2019, 7, 30, 0, 0): 1228,\n",
        "                 datetime(2019, 7, 31, 0, 0): 1218.2,\n",
        "                 datetime(2019, 8, 1, 0, 0): 1211.78,\n",
        "                 datetime(2019, 8, 2, 0, 0): 1196.32}\n",
        "\n",
        "# Closing price for day before\n",
        "day_before_closing_price_date = closing_price_date - timedelta(days=1)\n",
        "\n",
        "# Safely print closing price day before or None if it's missing\n",
        "print(alphabet_hist.get(day_before_closing_price_date))"
      ],
      "execution_count": 24,
      "outputs": [
        {
          "output_type": "stream",
          "name": "stdout",
          "text": [
            "1211.78\n"
          ]
        }
      ]
    },
    {
      "cell_type": "code",
      "metadata": {
        "colab": {
          "base_uri": "https://localhost:8080/"
        },
        "id": "5lacfpZf9dtq",
        "outputId": "d99460cc-42a3-4439-cc49-f38605d890c2"
      },
      "source": [
        "future_closing_price_date = closing_price_date + timedelta(weeks=8)\n",
        "\n",
        "print(alphabet_hist.get(future_closing_price_date, 'Missing'))"
      ],
      "execution_count": 25,
      "outputs": [
        {
          "output_type": "stream",
          "name": "stdout",
          "text": [
            "Missing\n"
          ]
        }
      ]
    },
    {
      "cell_type": "code",
      "metadata": {
        "colab": {
          "base_uri": "https://localhost:8080/"
        },
        "id": "gTezjEPc9lTC",
        "outputId": "38517fa3-5411-40e4-fef1-4854ce88a07c"
      },
      "source": [
        "print(alphabet_hist)\n",
        "\n",
        "del(alphabet_hist[closing_price_date])\n",
        "\n",
        "print(alphabet_hist)"
      ],
      "execution_count": 26,
      "outputs": [
        {
          "output_type": "stream",
          "name": "stdout",
          "text": [
            "{datetime.datetime(2019, 7, 30, 0, 0): 1228, datetime.datetime(2019, 7, 31, 0, 0): 1218.2, datetime.datetime(2019, 8, 1, 0, 0): 1211.78, datetime.datetime(2019, 8, 2, 0, 0): 1196.32}\n",
            "{datetime.datetime(2019, 7, 30, 0, 0): 1228, datetime.datetime(2019, 7, 31, 0, 0): 1218.2, datetime.datetime(2019, 8, 1, 0, 0): 1211.78}\n"
          ]
        }
      ]
    },
    {
      "cell_type": "markdown",
      "metadata": {
        "id": "vrTocLUf5WLt"
      },
      "source": [
        "### 3 - Pandas Dataframe"
      ]
    },
    {
      "cell_type": "markdown",
      "metadata": {
        "id": "k8wfcPU75ZAl"
      },
      "source": [
        "### 4 - Working with NASDAQ Stock Data"
      ]
    }
  ]
}