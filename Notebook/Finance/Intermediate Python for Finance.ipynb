{
  "nbformat": 4,
  "nbformat_minor": 0,
  "metadata": {
    "colab": {
      "name": "Intermediate Python for Finance.ipynb",
      "provenance": [],
      "authorship_tag": "ABX9TyNOSNFP2HTXAOJJTFMIlnt+"
    },
    "kernelspec": {
      "name": "python3",
      "display_name": "Python 3"
    },
    "language_info": {
      "name": "python"
    }
  },
  "cells": [
    {
      "cell_type": "markdown",
      "metadata": {
        "id": "xNwEtz9y5QkL"
      },
      "source": [
        "### 1 - Datetimes and Dictionaries"
      ]
    },
    {
      "cell_type": "code",
      "metadata": {
        "colab": {
          "base_uri": "https://localhost:8080/"
        },
        "id": "YCFvpeKS5saU",
        "outputId": "56b489c9-b9e0-4b65-aaf0-2fe55e2df9bb"
      },
      "source": [
        "from datetime import datetime\n",
        "black_monday = datetime(1987, 10, 19)\n",
        "print(black_monday)"
      ],
      "execution_count": null,
      "outputs": [
        {
          "output_type": "stream",
          "name": "stdout",
          "text": [
            "1987-10-19 00:00:00\n"
          ]
        }
      ]
    },
    {
      "cell_type": "code",
      "metadata": {
        "colab": {
          "base_uri": "https://localhost:8080/"
        },
        "id": "81sp2ahn6EAD",
        "outputId": "619428a6-e4a3-41f1-a5ee-d5f93644069b"
      },
      "source": [
        "print(datetime.now())"
      ],
      "execution_count": null,
      "outputs": [
        {
          "output_type": "stream",
          "name": "stdout",
          "text": [
            "2021-10-28 06:07:24.008446\n"
          ]
        }
      ]
    },
    {
      "cell_type": "code",
      "metadata": {
        "colab": {
          "base_uri": "https://localhost:8080/"
        },
        "id": "5tmotRe-6MQy",
        "outputId": "6f08e67d-817d-4f37-f1ed-bc348050dfe1"
      },
      "source": [
        "crash_text = \"Friday the 13th, Oct, 1989\"\n",
        "\n",
        "# Create a format string mapping the text\n",
        "crash_format_str = \"%A the %dth, %b, %Y\"\n",
        "min_crash = datetime.strptime(crash_text, crash_format_str)\n",
        "print(min_crash)\n",
        "\n",
        "recession_text = \"07/03/90\"\n",
        "\n",
        "# Create format string\n",
        "recession_format_str = \"%m/%d/%y\"\n",
        "\n",
        "# Create datetime from text using format string\n",
        "nineties_rec = datetime.strptime(recession_text, recession_format_str)\n",
        "print(nineties_rec)"
      ],
      "execution_count": null,
      "outputs": [
        {
          "output_type": "stream",
          "name": "stdout",
          "text": [
            "1989-10-13 00:00:00\n",
            "1990-07-03 00:00:00\n"
          ]
        }
      ]
    },
    {
      "cell_type": "code",
      "metadata": {
        "colab": {
          "base_uri": "https://localhost:8080/"
        },
        "id": "DxCCsKSy6ovM",
        "outputId": "ea4911d5-5ce7-4be4-885a-9caa4793b54c"
      },
      "source": [
        "org_text = \"Sep 16 1992\"\n",
        "\n",
        "# Format string for original text\n",
        "org_format = \"%b %d %Y\"\n",
        "\n",
        "# Create datetime for Black Wednesday\n",
        "black_wednesday = datetime.strptime(org_text, org_format)\n",
        "print(black_wednesday)\n",
        "\n",
        "# New format: 'Wednesday, September 16, 1992'\n",
        "new_format = \"%A, %B %d, %Y\"\n",
        "\n",
        "# String in new format\n",
        "new_text = black_wednesday.strftime(new_format)\n",
        "print(new_text)"
      ],
      "execution_count": null,
      "outputs": [
        {
          "output_type": "stream",
          "name": "stdout",
          "text": [
            "1992-09-16 00:00:00\n",
            "Wednesday, September 16, 1992\n"
          ]
        }
      ]
    },
    {
      "cell_type": "code",
      "metadata": {
        "colab": {
          "base_uri": "https://localhost:8080/"
        },
        "id": "T3AqUiEg6zUe",
        "outputId": "1d09a0bf-fcd4-4dd0-8899-a490985f321a"
      },
      "source": [
        "# March 10, 2000 Tech Bubble Crash\n",
        "tech_bubble = datetime(2000, 3, 10)\n",
        "\n",
        "# Access the year\n",
        "yr  = tech_bubble.year\n",
        "\n",
        "# Access the month\n",
        "mth = tech_bubble.month\n",
        "\n",
        "# Access the day\n",
        "day = tech_bubble.day\n",
        "\n",
        "print(f\"Year: {yr}, Month: {mth}, Day: {day}\")"
      ],
      "execution_count": null,
      "outputs": [
        {
          "output_type": "stream",
          "name": "stdout",
          "text": [
            "Year: 2000, Month: 3, Day: 10\n"
          ]
        }
      ]
    },
    {
      "cell_type": "code",
      "metadata": {
        "colab": {
          "base_uri": "https://localhost:8080/"
        },
        "id": "3z2tTwvI66pj",
        "outputId": "57d3262f-16b2-4da1-d9f5-8409808ddabc"
      },
      "source": [
        "lehman = datetime(2008, 9, 15, 0, 0)\n",
        "morgan_stanley = datetime(2008, 9, 22, 0, 0)\n",
        "\n",
        "# Lehman Brothers before Morgan Stanley?\n",
        "lehman_first = lehman < morgan_stanley\n",
        "\n",
        "print(f\"It is {lehman_first} that Lehman Brothers declared bankruptcy first.\") "
      ],
      "execution_count": null,
      "outputs": [
        {
          "output_type": "stream",
          "name": "stdout",
          "text": [
            "It is True that Lehman Brothers declared bankruptcy first.\n"
          ]
        }
      ]
    },
    {
      "cell_type": "code",
      "metadata": {
        "colab": {
          "base_uri": "https://localhost:8080/"
        },
        "id": "Uc5T-Ikn7e3-",
        "outputId": "b7265f4c-2622-478d-d1bd-9bbc0917ceaf"
      },
      "source": [
        "goldman_sachs = datetime(2008, 9, 22, 0, 0)\n",
        "tarp = datetime(2008, 10, 3, 0, 0)\n",
        "\n",
        "# Goldman Sachs after TARP?\n",
        "tarp_first = goldman_sachs > tarp\n",
        "\n",
        "print(f\"It is {tarp_first} that TARP was approved first.\")"
      ],
      "execution_count": null,
      "outputs": [
        {
          "output_type": "stream",
          "name": "stdout",
          "text": [
            "It is False that TARP was approved first.\n"
          ]
        }
      ]
    },
    {
      "cell_type": "code",
      "metadata": {
        "colab": {
          "base_uri": "https://localhost:8080/"
        },
        "id": "M9z3F2TE7uHm",
        "outputId": "9feaca05-77bb-46c7-a83c-e7d298b642ea"
      },
      "source": [
        "# Goldman Sachs and Morgan Stanley same day?\n",
        "same_time = goldman_sachs == morgan_stanley\n",
        "\n",
        "print(f\"It is {same_time} that Morgan Stanley and Goldman Sachs acted simultaneously\")"
      ],
      "execution_count": null,
      "outputs": [
        {
          "output_type": "stream",
          "name": "stdout",
          "text": [
            "It is True that Morgan Stanley and Goldman Sachs acted simultaneously\n"
          ]
        }
      ]
    },
    {
      "cell_type": "code",
      "metadata": {
        "colab": {
          "base_uri": "https://localhost:8080/"
        },
        "id": "lckIvky670Gs",
        "outputId": "97a8e73d-5016-47f2-8a37-9e8b19fe4bad"
      },
      "source": [
        "from datetime import timedelta\n",
        "\n",
        "# TARP passed Oct 3 2008\n",
        "tarp = datetime(2008, 10, 3)\n",
        "\n",
        "# Seven days before TARP\n",
        "week_before = tarp - timedelta(days = 7)\n",
        "\n",
        "# Print week_before\n",
        "print(week_before)"
      ],
      "execution_count": null,
      "outputs": [
        {
          "output_type": "stream",
          "name": "stdout",
          "text": [
            "2008-09-26 00:00:00\n"
          ]
        }
      ]
    },
    {
      "cell_type": "code",
      "metadata": {
        "colab": {
          "base_uri": "https://localhost:8080/"
        },
        "id": "Ddo7E_ZM8X7E",
        "outputId": "54570f51-40ab-46bf-ff85-c49b256c689e"
      },
      "source": [
        "tarp = datetime(2008, 10, 3)\n",
        "\n",
        "# One week after TARP\n",
        "week_after = tarp + timedelta(weeks = 1)\n",
        "\n",
        "# Print week_after\n",
        "print(week_after)"
      ],
      "execution_count": null,
      "outputs": [
        {
          "output_type": "stream",
          "name": "stdout",
          "text": [
            "2008-10-10 00:00:00\n"
          ]
        }
      ]
    },
    {
      "cell_type": "code",
      "metadata": {
        "colab": {
          "base_uri": "https://localhost:8080/"
        },
        "id": "CsA9amOx8gSG",
        "outputId": "c363cb9d-7b35-40d3-f226-93cbca272a90"
      },
      "source": [
        "tarp = datetime(2008, 10, 3)\n",
        "\n",
        "year_after = tarp + timedelta(weeks = 52)\n",
        "\n",
        "print(year_after)"
      ],
      "execution_count": null,
      "outputs": [
        {
          "output_type": "stream",
          "name": "stdout",
          "text": [
            "2009-10-02 00:00:00\n"
          ]
        }
      ]
    },
    {
      "cell_type": "code",
      "metadata": {
        "colab": {
          "base_uri": "https://localhost:8080/"
        },
        "id": "GRsQRKPR8uUu",
        "outputId": "baa11e40-856a-4806-9322-ac1f5633efca"
      },
      "source": [
        "cusip_lookup = {}\n",
        "\n",
        "# Alphabet\n",
        "cusip_lookup['38259P706'] = 'GOOG'\n",
        "\n",
        "print(cusip_lookup)"
      ],
      "execution_count": null,
      "outputs": [
        {
          "output_type": "stream",
          "name": "stdout",
          "text": [
            "{'38259P706': 'GOOG'}\n"
          ]
        }
      ]
    },
    {
      "cell_type": "code",
      "metadata": {
        "colab": {
          "base_uri": "https://localhost:8080/"
        },
        "id": "iebXu6658y0p",
        "outputId": "8b9ba774-8658-48f1-e7fc-6387af7bdd0a"
      },
      "source": [
        "cusip_lookup = {}\n",
        "\n",
        "# Alphabet\n",
        "cusip_lookup['38259P706'] = 'GOOG'\n",
        "\n",
        "# Apple\n",
        "cusip_lookup['037833100'] = 'AAPL'\n",
        "\n",
        "print(cusip_lookup)"
      ],
      "execution_count": null,
      "outputs": [
        {
          "output_type": "stream",
          "name": "stdout",
          "text": [
            "{'38259P706': 'GOOG', '037833100': 'AAPL'}\n"
          ]
        }
      ]
    },
    {
      "cell_type": "code",
      "metadata": {
        "colab": {
          "base_uri": "https://localhost:8080/"
        },
        "id": "oW_LpvOc82Oo",
        "outputId": "4624c2ac-28dd-4ad7-c074-ffa18ac1cd8e"
      },
      "source": [
        "cusip_lookup = {}\n",
        "\n",
        "# Alphabet\n",
        "cusip_lookup['38259P706'] = 'GOOG'\n",
        "\n",
        "# Apple\n",
        "cusip_lookup['037833100'] = 'AAPL'\n",
        "\n",
        "print(cusip_lookup)"
      ],
      "execution_count": null,
      "outputs": [
        {
          "output_type": "stream",
          "name": "stdout",
          "text": [
            "{'38259P706': 'GOOG', '037833100': 'AAPL'}\n"
          ]
        }
      ]
    },
    {
      "cell_type": "code",
      "metadata": {
        "colab": {
          "base_uri": "https://localhost:8080/"
        },
        "id": "jza1Z1RU86Xp",
        "outputId": "a1dd3f78-e57f-4dc7-8254-8ad640028dcd"
      },
      "source": [
        "closing_price_date = datetime(2019, 8, 2, 0, 0)\n",
        "\n",
        "alphabet_hist = {datetime(2019, 7, 30, 0, 0): 1228,\n",
        "                 datetime(2019, 7, 31, 0, 0): 1218.2,\n",
        "                 datetime(2019, 8, 1, 0, 0): 1211.78,\n",
        "                 datetime(2019, 8, 2, 0, 0): 1196.32}\n",
        "\n",
        "# Closing price for day before\n",
        "day_before_closing_price_date = closing_price_date - timedelta(days=1)\n",
        "\n",
        "# Safely print closing price day before or None if it's missing\n",
        "print(alphabet_hist.get(day_before_closing_price_date))"
      ],
      "execution_count": null,
      "outputs": [
        {
          "output_type": "stream",
          "name": "stdout",
          "text": [
            "1211.78\n"
          ]
        }
      ]
    },
    {
      "cell_type": "code",
      "metadata": {
        "colab": {
          "base_uri": "https://localhost:8080/"
        },
        "id": "5lacfpZf9dtq",
        "outputId": "02ef99d1-55fb-46c7-cdc5-e021f37dfdae"
      },
      "source": [
        "future_closing_price_date = closing_price_date + timedelta(weeks=8)\n",
        "\n",
        "print(alphabet_hist.get(future_closing_price_date, 'Missing'))"
      ],
      "execution_count": null,
      "outputs": [
        {
          "output_type": "stream",
          "name": "stdout",
          "text": [
            "Missing\n"
          ]
        }
      ]
    },
    {
      "cell_type": "code",
      "metadata": {
        "colab": {
          "base_uri": "https://localhost:8080/"
        },
        "id": "gTezjEPc9lTC",
        "outputId": "d7f60c62-6529-455b-f439-440264796874"
      },
      "source": [
        "print(alphabet_hist)\n",
        "\n",
        "del(alphabet_hist[closing_price_date])\n",
        "\n",
        "print(alphabet_hist)"
      ],
      "execution_count": null,
      "outputs": [
        {
          "output_type": "stream",
          "name": "stdout",
          "text": [
            "{datetime.datetime(2019, 7, 30, 0, 0): 1228, datetime.datetime(2019, 7, 31, 0, 0): 1218.2, datetime.datetime(2019, 8, 1, 0, 0): 1211.78, datetime.datetime(2019, 8, 2, 0, 0): 1196.32}\n",
            "{datetime.datetime(2019, 7, 30, 0, 0): 1228, datetime.datetime(2019, 7, 31, 0, 0): 1218.2, datetime.datetime(2019, 8, 1, 0, 0): 1211.78}\n"
          ]
        }
      ]
    },
    {
      "cell_type": "markdown",
      "metadata": {
        "id": "n6Tkw_cZ-bTG"
      },
      "source": [
        "### 2 - Control Flow and Logic"
      ]
    },
    {
      "cell_type": "code",
      "metadata": {
        "colab": {
          "base_uri": "https://localhost:8080/"
        },
        "id": "DpQEejj3-yqZ",
        "outputId": "bcfb8501-43c5-4350-d6bb-1c42be8de1a1"
      },
      "source": [
        "cash = 19.11\n",
        "non_cash = 20.33\n",
        "\n",
        "# Check if cash is equal to securities\n",
        "print(cash == non_cash)\n",
        "\n",
        "# Assign the value of securities to cash\n",
        "cash = non_cash\n",
        "\n",
        "# Check if cash is equal to securities\n",
        "print(cash == non_cash)"
      ],
      "execution_count": null,
      "outputs": [
        {
          "output_type": "stream",
          "name": "stdout",
          "text": [
            "False\n",
            "True\n"
          ]
        }
      ]
    },
    {
      "cell_type": "code",
      "metadata": {
        "colab": {
          "base_uri": "https://localhost:8080/"
        },
        "id": "p08NGWZ3_XSN",
        "outputId": "09ab6196-4969-48a2-e6d0-146f5860d874"
      },
      "source": [
        "d1 = 323\n",
        "\n",
        "d2 = 489\n",
        "\n",
        "# Check dividend is greater than zero\n",
        "print(d2 > 0)\n",
        "\n",
        "# Is dividend 1 is greater than dividend 2?\n",
        "print(d1 > d2)"
      ],
      "execution_count": null,
      "outputs": [
        {
          "output_type": "stream",
          "name": "stdout",
          "text": [
            "True\n",
            "False\n"
          ]
        }
      ]
    },
    {
      "cell_type": "code",
      "metadata": {
        "colab": {
          "base_uri": "https://localhost:8080/"
        },
        "id": "9Vtp4G5K_k9Y",
        "outputId": "641d31f3-92fa-42bb-e76e-b776b099ea8c"
      },
      "source": [
        "# Check dividend 1 is at least 100\n",
        "print(d1 >= 100)\n",
        "\n",
        "# Check dividend 2 is at least as much dividend 1\n",
        "print(d1 <= d2)"
      ],
      "execution_count": null,
      "outputs": [
        {
          "output_type": "stream",
          "name": "stdout",
          "text": [
            "True\n",
            "True\n"
          ]
        }
      ]
    },
    {
      "cell_type": "code",
      "metadata": {
        "colab": {
          "base_uri": "https://localhost:8080/"
        },
        "id": "N1uAqlIVADFE",
        "outputId": "8d07f3c1-aa9b-451b-acfd-bbfc068ec838"
      },
      "source": [
        "is_investment_account = True\n",
        "balance_positive = True\n",
        "\n",
        "# Print the given variables\n",
        "print(is_investment_account)\n",
        "print(balance_positive)\n",
        "\n",
        "# Decide if this account is cantidate for trading advice\n",
        "potential_trade = is_investment_account and balance_positive\n",
        "\n",
        "# Print if this represents a potential trade\n",
        "print(potential_trade)"
      ],
      "execution_count": null,
      "outputs": [
        {
          "output_type": "stream",
          "name": "stdout",
          "text": [
            "True\n",
            "True\n",
            "True\n"
          ]
        }
      ]
    },
    {
      "cell_type": "code",
      "metadata": {
        "colab": {
          "base_uri": "https://localhost:8080/"
        },
        "id": "ax_NQp-eBs1B",
        "outputId": "23904c54-0819-4541-a7a2-ea519cdf733e"
      },
      "source": [
        "input_action = \"\"\n",
        "\n",
        "# Assign a default action if no input\n",
        "action = input_action or \"Hold\"\n",
        "\n",
        "# Print the action\n",
        "print(action)\n",
        "\n",
        "is_trading_day = False\n",
        "\n",
        "# Assign action only if trades can be made\n",
        "do_action = is_trading_day and action\n",
        "\n",
        "# Print the action to do\n",
        "print(do_action)"
      ],
      "execution_count": null,
      "outputs": [
        {
          "output_type": "stream",
          "name": "stdout",
          "text": [
            "Hold\n",
            "False\n"
          ]
        }
      ]
    },
    {
      "cell_type": "code",
      "metadata": {
        "colab": {
          "base_uri": "https://localhost:8080/"
        },
        "id": "A6-Pbg49B7QD",
        "outputId": "319247be-9312-457b-a33e-5184aaf38d4e"
      },
      "source": [
        "closing_prices = []\n",
        "\n",
        "print(closing_prices)\n",
        "\n",
        "# Assigning True if we need to get the prices\n",
        "not_prices = not closing_prices\n",
        "\n",
        "print(not_prices)\n",
        "\n",
        "market_closed = False\n",
        "\n",
        "# Get prices if market is closed and we don't have prices\n",
        "get_prices = not (market_closed and not_prices)\n",
        "\n",
        "print(get_prices)"
      ],
      "execution_count": null,
      "outputs": [
        {
          "output_type": "stream",
          "name": "stdout",
          "text": [
            "[]\n",
            "True\n",
            "True\n"
          ]
        }
      ]
    },
    {
      "cell_type": "code",
      "metadata": {
        "colab": {
          "base_uri": "https://localhost:8080/"
        },
        "id": "kYdpSgYWCXhU",
        "outputId": "5c3f86ea-ad8b-4183-8a53-372f6850a99d"
      },
      "source": [
        "sales = []\n",
        "\n",
        "purchases = []\n",
        "\n",
        "# Get number of purchases\n",
        "num_purchases = len(purchases)\n",
        "# Get number of sales\n",
        "num_sales = len(sales)\n",
        "\n",
        "# Check if more sales than purchases\n",
        "if num_purchases < num_sales:\n",
        "  print('buy more')\n",
        "else:\n",
        "  print(\"No sales or purchases\")"
      ],
      "execution_count": null,
      "outputs": [
        {
          "output_type": "stream",
          "name": "stdout",
          "text": [
            "No sales or purchases\n"
          ]
        }
      ]
    },
    {
      "cell_type": "code",
      "metadata": {
        "colab": {
          "base_uri": "https://localhost:8080/"
        },
        "id": "au6vbeKLCrUZ",
        "outputId": "f182f541-9f02-4635-d7f0-95d59a3c2c3a"
      },
      "source": [
        "sales = []\n",
        "\n",
        "purchases = []\n",
        "\n",
        "# Get number of purchases\n",
        "num_purchases = len(purchases)\n",
        "# Get number of sales\n",
        "num_sales = len(sales)\n",
        "\n",
        "# Check if more sales than purchases\n",
        "if num_purchases < num_sales:\n",
        "  print('sale more')\n",
        "else:\n",
        "  print(\"No sales or purchases\")"
      ],
      "execution_count": null,
      "outputs": [
        {
          "output_type": "stream",
          "name": "stdout",
          "text": [
            "No sales or purchases\n"
          ]
        }
      ]
    },
    {
      "cell_type": "code",
      "metadata": {
        "colab": {
          "base_uri": "https://localhost:8080/"
        },
        "id": "BmcF8lbkCxBs",
        "outputId": "59760c23-fa2b-4e96-e8b5-38ffae8022fb"
      },
      "source": [
        "# Get number of purchases\n",
        "num_purchases = len(purchases)\n",
        "# Get number of sales\n",
        "num_sales = len(sales)\n",
        "\n",
        "# Check if both lists are empty\n",
        "if not (purchases or sales):\n",
        "  print('No sales or purchases')"
      ],
      "execution_count": null,
      "outputs": [
        {
          "output_type": "stream",
          "name": "stdout",
          "text": [
            "No sales or purchases\n"
          ]
        }
      ]
    },
    {
      "cell_type": "code",
      "metadata": {
        "id": "WVgu0RIlC6nw"
      },
      "source": [
        "appl = []\n",
        "tsla = []\n",
        "amzn = []\n",
        "\n",
        "trn = {'amount': 300, 'symbol': 'APPL', 'type': 'DIVIDEND'}\n",
        "\n",
        "# Get the symbol value\n",
        "symbol = trn['symbol']\n",
        "\n",
        "# Check if Apple stock\n",
        "if symbol == 'APPL':\n",
        "  appl.append(trn)"
      ],
      "execution_count": null,
      "outputs": []
    },
    {
      "cell_type": "code",
      "metadata": {
        "id": "g_kzJgouDITu"
      },
      "source": [
        "# Get the symbol value\n",
        "symbol = trn['symbol']\n",
        "\n",
        "# Check if Apple stock\n",
        "if symbol == 'APPL':\n",
        "    appl.append(trn)\n",
        "# Check if Tesla stock\n",
        "elif symbol == 'TSLA':\n",
        "    tsla.append(trn)\n",
        "# Check if Amazon stock\n",
        "elif symbol == 'AMZN':\n",
        "    amzn.append(trn)"
      ],
      "execution_count": null,
      "outputs": []
    },
    {
      "cell_type": "code",
      "metadata": {
        "id": "AwrE3OOpDIhP"
      },
      "source": [
        "# Get the symbol value\n",
        "symbol = trn['symbol']\n",
        "\n",
        "# Check if Apple stock\n",
        "if symbol == 'APPL':\n",
        "  appl.append(trn)\n",
        "# Check if Tesla stock\n",
        "elif symbol == 'TSLA':\n",
        "  tsla.append(trn)\n",
        "# Check if Amazon stock\n",
        "elif symbol == 'AMZN':\n",
        "  amzn.append(trn)\n",
        "# Handle other companies\n",
        "else:\n",
        "  print(symbol)"
      ],
      "execution_count": null,
      "outputs": []
    },
    {
      "cell_type": "code",
      "metadata": {
        "colab": {
          "base_uri": "https://localhost:8080/"
        },
        "id": "mJo3dFNsDhkT",
        "outputId": "545c510e-9ed2-438a-e26d-6dcface38fd4"
      },
      "source": [
        "balance = 1229\n",
        "\n",
        "buys = [{'symbol': 'AAPL', 'total_cost': 900},{'symbol': 'ORCL', 'total_cost': 300},{'symbol': 'CSCO', 'total_cost': 200}]\n",
        "\n",
        "# Loop through buys\n",
        "for buy in buys:\n",
        "    print('Buying ' + buy['symbol'])\n",
        "    new_balance = balance - buy['total_cost']\n",
        "    balance = new_balance\n",
        "\n",
        "print(balance)"
      ],
      "execution_count": null,
      "outputs": [
        {
          "output_type": "stream",
          "name": "stdout",
          "text": [
            "Buying AAPL\n",
            "Buying ORCL\n",
            "Buying CSCO\n",
            "-171\n"
          ]
        }
      ]
    },
    {
      "cell_type": "code",
      "metadata": {
        "id": "7SXAQ7eTD0Kf",
        "colab": {
          "base_uri": "https://localhost:8080/"
        },
        "outputId": "253944f1-2aa6-45ea-a44e-555b573ca4c0"
      },
      "source": [
        "for buy in buys:\n",
        "    print('Buying ' + buy['symbol'])\n",
        "    new_balance = balance - buy['total_cost']\n",
        "    if new_balance < 0:\n",
        "        print('Unable to finish buys')\n",
        "        break\n",
        "    balance = new_balance\n",
        "\n",
        "print(balance)"
      ],
      "execution_count": null,
      "outputs": [
        {
          "output_type": "stream",
          "name": "stdout",
          "text": [
            "Buying AAPL\n",
            "Unable to finish buys\n",
            "-171\n"
          ]
        }
      ]
    },
    {
      "cell_type": "markdown",
      "metadata": {
        "id": "vrTocLUf5WLt"
      },
      "source": [
        "### 3 - Pandas Dataframe"
      ]
    },
    {
      "cell_type": "code",
      "metadata": {
        "id": "Xy2SQjGKg9Fv",
        "colab": {
          "base_uri": "https://localhost:8080/"
        },
        "outputId": "b4971e0d-a59c-4af2-8a9e-e8343ccd8ddb"
      },
      "source": [
        "import pandas as pd\n",
        "\n",
        "# Create dict holding the data\n",
        "data = {'Sym': ['APPL', 'APPL', 'APPL'],\n",
        "        'Price': [105.00, 117.05, 289.80],\n",
        "        'Date': ['2015/12/31', '2017/12/01', '2019/12/27']}\n",
        "\n",
        "# Create DataFrame from the data\n",
        "positions = pd.DataFrame(data=data)\n",
        "print(positions)"
      ],
      "execution_count": null,
      "outputs": [
        {
          "output_type": "stream",
          "name": "stdout",
          "text": [
            "    Sym   Price        Date\n",
            "0  APPL  105.00  2015/12/31\n",
            "1  APPL  117.05  2017/12/01\n",
            "2  APPL  289.80  2019/12/27\n"
          ]
        }
      ]
    },
    {
      "cell_type": "code",
      "metadata": {
        "id": "CkAl_qbohHyA",
        "colab": {
          "base_uri": "https://localhost:8080/"
        },
        "outputId": "55f77bd4-9025-4e0e-db4f-8565494ab9c8"
      },
      "source": [
        "# Make list of dictionaries\n",
        "data = [{'Sym': 'APPL', 'Price': 105.00, 'Date': '2015/12/31'},\n",
        "        {'Sym': 'APPL', 'Price': 117.05, 'Date': '2017/12/01'},\n",
        "        {'Sym': 'APPL', 'Price': 289.80, 'Date': '2019/12/27'}]\n",
        "\n",
        "# Create DataFrame from the list\n",
        "positions = pd.DataFrame(data=data)\n",
        "print(positions)"
      ],
      "execution_count": null,
      "outputs": [
        {
          "output_type": "stream",
          "name": "stdout",
          "text": [
            "    Sym   Price        Date\n",
            "0  APPL  105.00  2015/12/31\n",
            "1  APPL  117.05  2017/12/01\n",
            "2  APPL  289.80  2019/12/27\n"
          ]
        }
      ]
    },
    {
      "cell_type": "code",
      "metadata": {
        "id": "rrpenilhhOHD",
        "colab": {
          "base_uri": "https://localhost:8080/"
        },
        "outputId": "086ab8df-1cd9-4036-915e-32fa90b297e0"
      },
      "source": [
        "# Create a list of lists\n",
        "data = [['APPL', 105.00, '2015/12/31'],\n",
        "        ['APPL', 117.05, '2017/12/01'],\n",
        "        ['APPL', 289.80, '2019/12/27']]\n",
        "\n",
        "\n",
        "# Define the column names\n",
        "columns = ['Sym', 'Price', 'Date']\n",
        "\n",
        "# Create a DataFrame with the data and column names\n",
        "positions = pd.DataFrame(data=data, columns=columns)\n",
        "print(positions)"
      ],
      "execution_count": null,
      "outputs": [
        {
          "output_type": "stream",
          "name": "stdout",
          "text": [
            "    Sym   Price        Date\n",
            "0  APPL  105.00  2015/12/31\n",
            "1  APPL  117.05  2017/12/01\n",
            "2  APPL  289.80  2019/12/27\n"
          ]
        }
      ]
    },
    {
      "cell_type": "code",
      "metadata": {
        "id": "7kPlYAPnox6p",
        "outputId": "07792c8a-5d7e-4894-e9b5-820b66a3cfe5",
        "colab": {
          "base_uri": "https://localhost:8080/",
          "height": 200
        }
      },
      "source": [
        "import pandas as pd\n",
        "url = \"https://raw.githubusercontent.com/KelvinMulyawan/Gudang/master/HistoricalQuotes.csv\"\n",
        "\n",
        "stocks = pd.read_csv(url)\n",
        "stocks.head()"
      ],
      "execution_count": 1,
      "outputs": [
        {
          "output_type": "execute_result",
          "data": {
            "text/html": [
              "<div>\n",
              "<style scoped>\n",
              "    .dataframe tbody tr th:only-of-type {\n",
              "        vertical-align: middle;\n",
              "    }\n",
              "\n",
              "    .dataframe tbody tr th {\n",
              "        vertical-align: top;\n",
              "    }\n",
              "\n",
              "    .dataframe thead th {\n",
              "        text-align: right;\n",
              "    }\n",
              "</style>\n",
              "<table border=\"1\" class=\"dataframe\">\n",
              "  <thead>\n",
              "    <tr style=\"text-align: right;\">\n",
              "      <th></th>\n",
              "      <th>date</th>\n",
              "      <th>close</th>\n",
              "      <th>volume</th>\n",
              "      <th>open</th>\n",
              "      <th>high</th>\n",
              "      <th>low</th>\n",
              "    </tr>\n",
              "  </thead>\n",
              "  <tbody>\n",
              "    <tr>\n",
              "      <th>0</th>\n",
              "      <td>13:33</td>\n",
              "      <td>1,155.14</td>\n",
              "      <td>1,145,529</td>\n",
              "      <td>1,172</td>\n",
              "      <td>1,176.88</td>\n",
              "      <td>1,152</td>\n",
              "    </tr>\n",
              "    <tr>\n",
              "      <th>1</th>\n",
              "      <td>2019/08/02</td>\n",
              "      <td>1196.3200</td>\n",
              "      <td>1745450.0000</td>\n",
              "      <td>1203.0000</td>\n",
              "      <td>1209.5000</td>\n",
              "      <td>1190.0000</td>\n",
              "    </tr>\n",
              "    <tr>\n",
              "      <th>2</th>\n",
              "      <td>2019/08/01</td>\n",
              "      <td>1211.7800</td>\n",
              "      <td>1771271.0000</td>\n",
              "      <td>1217.6300</td>\n",
              "      <td>1236.2980</td>\n",
              "      <td>1207.0000</td>\n",
              "    </tr>\n",
              "    <tr>\n",
              "      <th>3</th>\n",
              "      <td>2019/07/31</td>\n",
              "      <td>1218.2000</td>\n",
              "      <td>1997999.0000</td>\n",
              "      <td>1224.8700</td>\n",
              "      <td>1234.9100</td>\n",
              "      <td>1208.1800</td>\n",
              "    </tr>\n",
              "    <tr>\n",
              "      <th>4</th>\n",
              "      <td>2019/07/30</td>\n",
              "      <td>1228.0000</td>\n",
              "      <td>1430775.0000</td>\n",
              "      <td>1227.0000</td>\n",
              "      <td>1236.9100</td>\n",
              "      <td>1225.3200</td>\n",
              "    </tr>\n",
              "  </tbody>\n",
              "</table>\n",
              "</div>"
            ],
            "text/plain": [
              "         date      close        volume       open       high        low\n",
              "0       13:33   1,155.14     1,145,529      1,172   1,176.88      1,152\n",
              "1  2019/08/02  1196.3200  1745450.0000  1203.0000  1209.5000  1190.0000\n",
              "2  2019/08/01  1211.7800  1771271.0000  1217.6300  1236.2980  1207.0000\n",
              "3  2019/07/31  1218.2000  1997999.0000  1224.8700  1234.9100  1208.1800\n",
              "4  2019/07/30  1228.0000  1430775.0000  1227.0000  1236.9100  1225.3200"
            ]
          },
          "metadata": {},
          "execution_count": 1
        }
      ]
    },
    {
      "cell_type": "markdown",
      "metadata": {
        "id": "k8wfcPU75ZAl"
      },
      "source": [
        "### 4 - Working with NASDAQ Stock Data"
      ]
    }
  ]
}