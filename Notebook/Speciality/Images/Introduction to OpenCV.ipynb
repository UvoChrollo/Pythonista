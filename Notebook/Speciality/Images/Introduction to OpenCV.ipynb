{
 "cells": [
  {
   "cell_type": "code",
   "execution_count": null,
   "metadata": {},
   "outputs": [],
   "source": [
    "import cv2 # import package computer vision\n",
    "import os # import package os"
   ]
  },
  {
   "cell_type": "markdown",
   "metadata": {},
   "source": [
    "### 1. Menampilkan Gambar"
   ]
  },
  {
   "cell_type": "code",
   "execution_count": null,
   "metadata": {},
   "outputs": [],
   "source": [
    "flower = 'requirement/flower.jpg'\n",
    "print(flower)"
   ]
  },
  {
   "cell_type": "code",
   "execution_count": null,
   "metadata": {},
   "outputs": [],
   "source": [
    "gambar_bunga = cv2.imread(flower) #cv2.imread = membiarkan cv2 membaca gambar (image read)\n",
    "print(gambar_bunga[0][0])"
   ]
  },
  {
   "cell_type": "code",
   "execution_count": null,
   "metadata": {
    "scrolled": true
   },
   "outputs": [],
   "source": [
    "cv2.imshow(\"Sunflower\",gambar_bunga) #cv2.imshow = menampilkan gambar, format = cv2.imshow(title,image_variable)\n",
    "cv2.waitKey(0) #cv2.waitKey(0) = waktu tunggu"
   ]
  },
  {
   "cell_type": "markdown",
   "metadata": {},
   "source": [
    "#### Another Try"
   ]
  },
  {
   "cell_type": "code",
   "execution_count": null,
   "metadata": {},
   "outputs": [],
   "source": [
    "seville = 'requirement/gambar/satu/seville.jpg'\n",
    "\n",
    "seville = cv2.imread(seville)\n",
    "cv2.imshow(\"Seville\",seville)\n",
    "cv2.waitKey(0)"
   ]
  },
  {
   "cell_type": "markdown",
   "metadata": {},
   "source": [
    "#### Rotate Image"
   ]
  },
  {
   "cell_type": "code",
   "execution_count": null,
   "metadata": {},
   "outputs": [],
   "source": [
    "seville_180 = cv2.rotate(seville, cv2.ROTATE_180)\n",
    "cv2.imshow(\"Flipped Seville\",seville_180)\n",
    "cv2.waitKey(0)"
   ]
  },
  {
   "cell_type": "markdown",
   "metadata": {},
   "source": [
    "#### Grayscale"
   ]
  },
  {
   "cell_type": "code",
   "execution_count": null,
   "metadata": {},
   "outputs": [],
   "source": [
    "gray_seville = cv2.cvtColor(seville_180, cv2.COLOR_BGR2GRAY) # color converter\n",
    "cv2.imshow(\"Grayscale Seville\",gray_seville)\n",
    "cv2.waitKey(0)"
   ]
  },
  {
   "cell_type": "markdown",
   "metadata": {},
   "source": [
    "### 2. Menampilkan Gambar dari Kamera"
   ]
  },
  {
   "cell_type": "markdown",
   "metadata": {},
   "source": [
    "### OpenComputerVision - Experimental Face Detection"
   ]
  },
  {
   "cell_type": "code",
   "execution_count": null,
   "metadata": {},
   "outputs": [],
   "source": [
    "import cv2\n",
    "import numpy as np\n",
    "\n",
    "def face_detection(img : np.ndarray, title : str) -> np.ndarray:\n",
    "    \"\"\"\n",
    "    >>> face_detection('gambar.jpg',\"Gambarku\")\n",
    "    \"\"\"\n",
    "    face_cascade = cv2.CascadeClassifier('requirement/haarcascade_frontalface_default.xml')\n",
    "    image = cv2.imread(img)\n",
    "    grayscale = cv2.cvtColor(image, cv2.COLOR_BGR2GRAY)\n",
    "    model = face_cascade.detectMultiScale(grayscale, 1.1, 4)\n",
    "    for (x,y,w,h) in model:\n",
    "        cv2.rectangle(image, (x,y), (x+w, y+h), (255, 0, 0), 2)\n",
    "    cv2.imshow(title,image)\n",
    "    cv2.waitKey()\n",
    "    \n",
    "face_detection('requirement/garrix.jpg',\"Martin Garrix\")"
   ]
  }
 ],
 "metadata": {
  "kernelspec": {
   "display_name": "Python 3",
   "language": "python",
   "name": "python3"
  },
  "language_info": {
   "codemirror_mode": {
    "name": "ipython",
    "version": 3
   },
   "file_extension": ".py",
   "mimetype": "text/x-python",
   "name": "python",
   "nbconvert_exporter": "python",
   "pygments_lexer": "ipython3",
   "version": "3.8.5"
  }
 },
 "nbformat": 4,
 "nbformat_minor": 4
}
